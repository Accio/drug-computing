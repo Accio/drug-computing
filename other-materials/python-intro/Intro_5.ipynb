{
 "cells": [
  {
   "cell_type": "markdown",
   "metadata": {},
   "source": [
    "#Reading from files\n",
    "\n",
    "An important component of any scientific program is the ability to read and write data to files.  Python's built-in file utilities make this process very easy.  Files are accessed by creating file objects.  The member functions of these objects provide methods for reading from and/or writing to a file.  To create a file object, use the file function.  Consider a generic file data.txt whose contents are:"
   ]
  },
  {
   "cell_type": "raw",
   "metadata": {},
   "source": [
    "data.txt:"
   ]
  },
  {
   "cell_type": "raw",
   "metadata": {},
   "source": [
    "#pressure temperature average_energy\n",
    "1.0 1.0 -50.0\n",
    "1.0 1.5 -27.8\n",
    "2.0 1.0 -14.5\n",
    "2.0 1.5 -11.2"
   ]
  },
  {
   "cell_type": "markdown",
   "metadata": {},
   "source": [
    "The following example creates an open file object to data.txt and reads all of its contents into a string:"
   ]
  },
  {
   "cell_type": "code",
   "execution_count": 11,
   "metadata": {
    "collapsed": false
   },
   "outputs": [
    {
     "data": {
      "text/plain": [
       "'#pressure temperature average_energy\\r\\n1.0 1.0 -50.0\\r\\n1.0 1.5 -27.8\\r\\n2.0 1.0 -14.5\\r\\n2.0 1.5 -11.2\\r\\n'"
      ]
     },
     "execution_count": 11,
     "metadata": {},
     "output_type": "execute_result"
    }
   ],
   "source": [
    ">>> f = file(\"data.txt\", \"r\")\n",
    ">>> s = f.read()\n",
    ">>> f.close()\n",
    ">>> s"
   ]
  },
  {
   "cell_type": "code",
   "execution_count": 12,
   "metadata": {
    "collapsed": false
   },
   "outputs": [
    {
     "name": "stdout",
     "output_type": "stream",
     "text": [
      "#pressure temperature average_energy\r\n",
      "1.0 1.0 -50.0\r\n",
      "1.0 1.5 -27.8\r\n",
      "2.0 1.0 -14.5\r\n",
      "2.0 1.5 -11.2\r\n",
      "\n"
     ]
    }
   ],
   "source": [
    ">>> print s"
   ]
  },
  {
   "cell_type": "markdown",
   "metadata": {},
   "source": [
    "Here, the file function took two arguments, the name of the file followed by a string \"r\" indicating that we are opening the file for reading.  It is possible to omit the second argument, in which case Python defaults to \"r\"; however, it is usually a good idea to include it explicitly for programming clarity.  One can also use the command open, which is a synonym for file.\n",
    "\n",
    "\n",
    "Once the file object is created, we can read its entire contents into a string using the read() member function.  Python reads all characters from the file, including whitespace and line breaks (e.g., \"\\n\" entries).  \n",
    "\n",
    "\n",
    "When we have read the contents, we invoke the close function, which terminates the operating system link to our file.  It is good to close files after using them, as open file objects consume system resources.  In any case, Python automatically closes any open files if there are no more objects pointing to them using its garbage collecting routines.  Consider the following:"
   ]
  },
  {
   "cell_type": "code",
   "execution_count": 13,
   "metadata": {
    "collapsed": true
   },
   "outputs": [],
   "source": [
    ">>> s = file(\"data.txt\", \"r\").read()"
   ]
  },
  {
   "cell_type": "markdown",
   "metadata": {},
   "source": [
    "This command accomplishes the same result as the last example, but does not create a file object that persists after execution.  That is, file first creates the object, then read() extracts its contents and places them into the variable s.  After this operation, there are no variables pointing to the file object anymore, and so it is automatically closed.  File objects created within functions (that are not returned) are also always closed upon exiting the function, since variables created within functions are deleted upon exit.\n",
    "\n",
    "One does not have to read all of the contents into a string.  We can also read all of the contents into a list of lines in the file:"
   ]
  },
  {
   "cell_type": "code",
   "execution_count": 14,
   "metadata": {
    "collapsed": false
   },
   "outputs": [
    {
     "data": {
      "text/plain": [
       "['#pressure temperature average_energy\\r\\n',\n",
       " '1.0 1.0 -50.0\\r\\n',\n",
       " '1.0 1.5 -27.8\\r\\n',\n",
       " '2.0 1.0 -14.5\\r\\n',\n",
       " '2.0 1.5 -11.2\\r\\n']"
      ]
     },
     "execution_count": 14,
     "metadata": {},
     "output_type": "execute_result"
    }
   ],
   "source": [
    ">>> l = file(\"data.txt\", \"r\").readlines()\n",
    ">>> l"
   ]
  },
  {
   "cell_type": "markdown",
   "metadata": {},
   "source": [
    "Operationally, the readlines() function is identical to read().split('\\n').\n",
    "\n",
    "\n",
    "If the file is large, it might not be efficient to read all of its contents at one time.  Instead, we can read one line at a time using the readline function:"
   ]
  },
  {
   "cell_type": "code",
   "execution_count": 38,
   "metadata": {
    "collapsed": false
   },
   "outputs": [
    {
     "name": "stdout",
     "output_type": "stream",
     "text": [
      "1.0 1.0 -50.0\n",
      "1.0 1.5 -27.8\n",
      "2.0 1.0 -14.5\n",
      "2.0 1.5 -11.2\n",
      "\n"
     ]
    }
   ],
   "source": [
    ">>> f = file(\"data.txt\", \"r\")\n",
    ">>> s = \"dummy\"\n",
    ">>> while len(s):\n",
    "...   s = f.readline()\n",
    "...   if not s.startswith(\"#\"): print s.strip()"
   ]
  },
  {
   "cell_type": "markdown",
   "metadata": {},
   "source": [
    "This example prints out all of the lines that do not start with \"#\".  The while loop continues as long as the last readline() command returns a string of length greater than zero.  When Python reaches the end of a file, readline will return an empty string.  It is important to know that readline() returns an entire line including the line break character '\\n' at the end; in this way, a blank line will return a string of nonzero length.  It is also for that reason that we used the strip() function when printing out the lines in the example above.\n",
    "\n",
    "\n",
    "The read and readline functions can also take an optional argument size that sets the maximum number of characters (bytes) that Python will read in at a time.  Subsequent calls move through the file until the end of the file is reached, at which point Python will return an empty string:"
   ]
  },
  {
   "cell_type": "code",
   "execution_count": 15,
   "metadata": {
    "collapsed": false
   },
   "outputs": [
    {
     "data": {
      "text/plain": [
       "'#pres'"
      ]
     },
     "execution_count": 15,
     "metadata": {},
     "output_type": "execute_result"
    }
   ],
   "source": [
    ">>> f = file(\"data.txt\", \"r\")\n",
    ">>> f.read(5)"
   ]
  },
  {
   "cell_type": "code",
   "execution_count": 16,
   "metadata": {
    "collapsed": false
   },
   "outputs": [
    {
     "data": {
      "text/plain": [
       "'sure '"
      ]
     },
     "execution_count": 16,
     "metadata": {},
     "output_type": "execute_result"
    }
   ],
   "source": [
    ">>> f.read(5)"
   ]
  },
  {
   "cell_type": "code",
   "execution_count": 17,
   "metadata": {
    "collapsed": true
   },
   "outputs": [],
   "source": [
    ">>> f.close()"
   ]
  },
  {
   "cell_type": "markdown",
   "metadata": {},
   "source": [
    "The seek function can be used to move to a specific byte location in a file.  Similarly, the tell function will indicate the current byte position within the file:"
   ]
  },
  {
   "cell_type": "code",
   "execution_count": 18,
   "metadata": {
    "collapsed": false
   },
   "outputs": [
    {
     "data": {
      "text/plain": [
       "'sure '"
      ]
     },
     "execution_count": 18,
     "metadata": {},
     "output_type": "execute_result"
    }
   ],
   "source": [
    ">>> f = file(\"data.txt\", \"r\")\n",
    ">>> f.seek(5)\n",
    ">>> f.read(5)"
   ]
  },
  {
   "cell_type": "code",
   "execution_count": 19,
   "metadata": {
    "collapsed": false
   },
   "outputs": [
    {
     "data": {
      "text/plain": [
       "10"
      ]
     },
     "execution_count": 19,
     "metadata": {},
     "output_type": "execute_result"
    }
   ],
   "source": [
    ">>> f.tell()"
   ]
  },
  {
   "cell_type": "markdown",
   "metadata": {},
   "source": [
    "The 'L' after the number 10 simply indicates that the returned type is a long integer, since normal integers do not contain enough precision to address all of the bytes in large files.\n",
    "\n",
    "\n",
    "We end with an example that illustrates some of the elegant ways in which Python can handle files.  Imagine we would like to parse the data in the file above into the list called Data such that:"
   ]
  },
  {
   "cell_type": "code",
   "execution_count": 46,
   "metadata": {
    "collapsed": true
   },
   "outputs": [],
   "source": [
    "Data = [[1.0, 1.0, -50.0,], [1.0, 1.5, -27.8], [2.0, 1.0, -14.5], [2.0, 1.5, -11.2]]"
   ]
  },
  {
   "cell_type": "markdown",
   "metadata": {},
   "source": [
    "Here, we need to read the data (ignoring the comment), convert it to floats, and structure it into a list.  New Python programmers might take an approach similar to the manner in which this would be accomplished in other languages:"
   ]
  },
  {
   "cell_type": "code",
   "execution_count": 20,
   "metadata": {
    "collapsed": true
   },
   "outputs": [],
   "source": [
    ">>> f = file(\"data.txt\", \"r\")\n",
    ">>> Data = []\n",
    ">>> line = f.readline()\n",
    ">>> while len(line):\n",
    "...   if not line.startswith(\"#\"):\n",
    "...     l = line.split()\n",
    "...     Pres = float(l[0])\n",
    "...     Temp = float(l[1])\n",
    "...     Ene = float(l[2])\n",
    "...     Data.append([Pres, Temp, Ene])\n",
    "...   line = f.readline()"
   ]
  },
  {
   "cell_type": "code",
   "execution_count": 21,
   "metadata": {
    "collapsed": true
   },
   "outputs": [],
   "source": [
    ">>> f.close()"
   ]
  },
  {
   "cell_type": "markdown",
   "metadata": {},
   "source": [
    "We could shorten the program by using the readlines function and by moving the file object creation into the loop itself:"
   ]
  },
  {
   "cell_type": "code",
   "execution_count": 22,
   "metadata": {
    "collapsed": false
   },
   "outputs": [
    {
     "ename": "ValueError",
     "evalue": "could not convert string to float: .",
     "output_type": "error",
     "traceback": [
      "\u001b[0;31m---------------------------------------------------------------------------\u001b[0m",
      "\u001b[0;31mValueError\u001b[0m                                Traceback (most recent call last)",
      "\u001b[0;32m<ipython-input-22-39ead358f0bd>\u001b[0m in \u001b[0;36m<module>\u001b[0;34m()\u001b[0m\n\u001b[1;32m      4\u001b[0m     \u001b[0ml\u001b[0m \u001b[0;34m=\u001b[0m \u001b[0mline\u001b[0m\u001b[0;34m.\u001b[0m\u001b[0msplit\u001b[0m\u001b[0;34m(\u001b[0m\u001b[0;34m)\u001b[0m\u001b[0;34m\u001b[0m\u001b[0m\n\u001b[1;32m      5\u001b[0m     \u001b[0mPres\u001b[0m \u001b[0;34m=\u001b[0m \u001b[0mfloat\u001b[0m\u001b[0;34m(\u001b[0m\u001b[0mline\u001b[0m\u001b[0;34m[\u001b[0m\u001b[0;36m0\u001b[0m\u001b[0;34m]\u001b[0m\u001b[0;34m)\u001b[0m\u001b[0;34m\u001b[0m\u001b[0m\n\u001b[0;32m----> 6\u001b[0;31m     \u001b[0mTemp\u001b[0m \u001b[0;34m=\u001b[0m \u001b[0mfloat\u001b[0m\u001b[0;34m(\u001b[0m\u001b[0mline\u001b[0m\u001b[0;34m[\u001b[0m\u001b[0;36m1\u001b[0m\u001b[0;34m]\u001b[0m\u001b[0;34m)\u001b[0m\u001b[0;34m\u001b[0m\u001b[0m\n\u001b[0m\u001b[1;32m      7\u001b[0m     \u001b[0mEne\u001b[0m \u001b[0;34m=\u001b[0m \u001b[0mfloat\u001b[0m\u001b[0;34m(\u001b[0m\u001b[0mline\u001b[0m\u001b[0;34m[\u001b[0m\u001b[0;36m2\u001b[0m\u001b[0;34m]\u001b[0m\u001b[0;34m)\u001b[0m\u001b[0;34m\u001b[0m\u001b[0m\n\u001b[1;32m      8\u001b[0m     \u001b[0mData\u001b[0m\u001b[0;34m.\u001b[0m\u001b[0mappend\u001b[0m\u001b[0;34m(\u001b[0m\u001b[0;34m[\u001b[0m\u001b[0mPres\u001b[0m\u001b[0;34m,\u001b[0m \u001b[0mTemp\u001b[0m\u001b[0;34m,\u001b[0m \u001b[0mEne\u001b[0m\u001b[0;34m]\u001b[0m\u001b[0;34m)\u001b[0m\u001b[0;34m\u001b[0m\u001b[0m\n",
      "\u001b[0;31mValueError\u001b[0m: could not convert string to float: ."
     ]
    }
   ],
   "source": [
    ">>> Data = []\n",
    ">>> for line in file(\"data.txt\", \"r\").readlines():\n",
    "...   if not line.startswith(\"#\"):\n",
    "...     l = line.split()\n",
    "...     Pres = float(line[0])\n",
    "...     Temp = float(line[1])\n",
    "...     Ene = float(line[2])\n",
    "...     Data.append([Pres, Temp, Ene])"
   ]
  },
  {
   "cell_type": "markdown",
   "metadata": {},
   "source": [
    "Ultimately, however, we can make these operations much more compact using Python's list comprehensions:"
   ]
  },
  {
   "cell_type": "code",
   "execution_count": 23,
   "metadata": {
    "collapsed": true
   },
   "outputs": [],
   "source": [
    ">>> Data = [[float(x) for x in line.split()]\n",
    "...         for line in file(\"data.txt\", \"r\").readlines()\n",
    "...         if not line.startswith(\"#\")]"
   ]
  },
  {
   "cell_type": "markdown",
   "metadata": {},
   "source": [
    "Here, we use two nested list comprehensions: the inner one loops over columns in each line, and the outer one over lines in the file with a filter established by the if statement."
   ]
  },
  {
   "cell_type": "markdown",
   "metadata": {},
   "source": [
    "#Writing to files\n",
    "\n",
    "Writing data to a file is very simple.  To begin writing to a new file, open a file object with the \"w\" flag:"
   ]
  },
  {
   "cell_type": "code",
   "execution_count": 53,
   "metadata": {
    "collapsed": true
   },
   "outputs": [],
   "source": [
    ">>> f = file(\"new.txt\", \"w\")\n",
    ">>> f.write(\"This is the first line.\")\n",
    ">>> f.write(\"  Still on the first line.\")\n",
    ">>> f.write(\"\\nThis is the second line.\")\n",
    ">>> f.close()"
   ]
  },
  {
   "cell_type": "markdown",
   "metadata": {},
   "source": [
    "Here, the contents of our file new.txt would look like:"
   ]
  },
  {
   "cell_type": "raw",
   "metadata": {},
   "source": [
    "This is the first line.  Still on the first line.\n",
    "This is the second line."
   ]
  },
  {
   "cell_type": "markdown",
   "metadata": {},
   "source": [
    "The write flag \"w\" tells Python to create a new file ready for writing, and the function write will write a string verbatim to the current position within the file.  Subsequent write statements therefore append data to the file.  Notice that write writes the string text explicitly and so line breaks must be specified in the strings if desired in the file.\n",
    "\n",
    "If the \"w\" flag is used on a file that already exists, Python will overwrite it completely.  Alternatively, one can append data to an existing file using the \"a\" flag:"
   ]
  },
  {
   "cell_type": "code",
   "execution_count": 54,
   "metadata": {
    "collapsed": true
   },
   "outputs": [],
   "source": [
    ">>> f = file(\"new.txt\", \"a\")\n",
    ">>> f.write(\"\\nThis is the third line.\")\n",
    ">>> f.close()"
   ]
  },
  {
   "cell_type": "markdown",
   "metadata": {},
   "source": [
    "Our file would now look like:"
   ]
  },
  {
   "cell_type": "raw",
   "metadata": {},
   "source": [
    "This is the first line.  Still on the first line.\n",
    "This is the second line.\n",
    "This is the third line."
   ]
  },
  {
   "cell_type": "markdown",
   "metadata": {},
   "source": [
    "The write function only accepts strings.  That means that numeric values must be converted to strings prior to writing to the file.  This can be accomplished using the str function, which formats values into a default precision, or using string formatting:"
   ]
  },
  {
   "cell_type": "code",
   "execution_count": 55,
   "metadata": {
    "collapsed": true
   },
   "outputs": [],
   "source": [
    ">>> f = file(\"new.txt\", \"w\")\n",
    ">>> pi = 3.14159\n",
    ">>> f.write(str(pi))\n",
    ">>> f.write('\\n')\n",
    ">>> f.write(\"%.2f\" % pi)\n",
    ">>> f.close()"
   ]
  },
  {
   "cell_type": "markdown",
   "metadata": {},
   "source": [
    "#Binary data and compressed files\n",
    "\n",
    "When storing numeric data, it is inefficient to write them to files in textual format because it requires many more characters to express a textual version of a float at the same precision it would require to hold it in memory.  There are two approaches to more efficient writing of numeric data that results in smaller file sizes.\n",
    "\n",
    "\n",
    "The first approach is not to store values in a legible format but to write them to the file in a way similar to their representation in memory.  To do so, we must convert a value to a binary representation in string format.  The struct module can be used for this purpose.  However, there are some subtleties to the different data types (struct uses C, rather than Python, types) that can make this approach a bit confusing.\n",
    "\n",
    "\n",
    "The second approach is to write to, and subsequently also read from, compressed files.  In this way, numeric data written in human-readable form can be compressed to take up much less space on disk.  This approach is sometimes more convenient because numeric values can still be read by human eyes when data files are decompressed by various utilities outside of Python.  \n",
    "\n",
    "\n",
    "Conveniently, Python comes with modules that enable one to read and write a number of popular compressed formats in an almost completely transparent manner.  Two formats are recommended: the Gzip format, which achieves reasonable compression and is fast, and the Bzip2 format, which achieves higher compression but at the expense of speed.  Both formats are standardized, open, can be read by most common decompression programs, and are single-file based, meaning they compress a single file, not cabinets or archives of multiple files, which complicates things.\n",
    "\n",
    "\n",
    "To write to a new Gzip file, we import the gzip module and create a GzipFile object in a manner identical to the way we created a file object:"
   ]
  },
  {
   "cell_type": "code",
   "execution_count": 24,
   "metadata": {
    "collapsed": false
   },
   "outputs": [
    {
     "name": "stdout",
     "output_type": "stream",
     "text": [
      "This is some test data for compression.\n"
     ]
    }
   ],
   "source": [
    ">>> import gzip\n",
    ">>> f = gzip.GzipFile(\"data.txt.gz\", \"w\")\n",
    ">>> f.write(\"This is some test data for compression.\")\n",
    ">>> f.close()\n",
    ">>> print gzip.GzipFile(\"data.txt.gz\", \"r\").read()"
   ]
  },
  {
   "cell_type": "markdown",
   "metadata": {},
   "source": [
    "Here, Python takes care of compression (and decompression) entirely behind the scenes.  The only difference from our earlier efforts is that we have replaced the file function with the gzip.GzipFile call and we have given the extension \".gz\" to the file we create, in order to indicate that it is a compressed file.  In fact, gzip objects behave exactly like file objects, and implement all of the same functions (read, readline, readlines, write).  This makes it very easy and transparent for storing data in a compressed format.  One minor exception, however, is that the seek and tell functions do not work exactly the same and should be avoided with compressed files.\n",
    "\n",
    "\n",
    "The bz2 module works in exactly the same manner:"
   ]
  },
  {
   "cell_type": "code",
   "execution_count": 25,
   "metadata": {
    "collapsed": false
   },
   "outputs": [
    {
     "name": "stdout",
     "output_type": "stream",
     "text": [
      "This is some test data for compression.\n"
     ]
    }
   ],
   "source": [
    ">>> import bz2\n",
    ">>> f = bz2.BZ2File(\"data.txt.bz2\", \"w\")\n",
    ">>> f.write(\"This is some test data for compression.\")\n",
    ">>> f.close()\n",
    ">>> print bz2.BZ2File(\"data.txt.bz2\", \"r\").read()"
   ]
  },
  {
   "cell_type": "markdown",
   "metadata": {},
   "source": [
    "In general, compression is only recommended for datasets on disk that are large (e.g., > 1MB) and that are read or written only a few times during a program.  For disk-intensive programs that are speed-limited by the rate at which they can read and write to disk, compression will incur a considerable computational overhead and it is probably best to work with an uncompressed file.  In these latter cases, the large datasets can ultimately be compressed by outside utilities after all programs and analyses have been performed.  "
   ]
  },
  {
   "cell_type": "markdown",
   "metadata": {},
   "source": [
    "#File systems functions\n",
    "\n",
    "Python offers a host of other modules and functions for accessing and manipulating files and directories on disk.  The latter are indicated by strings.  Python recognizes directory hierarchies using the forward slash character, regardless of the particular operating system (Windows, Linux, or MacOS).  On Windows machines, it is also possible to use the backwards slash character; however, in strings this must be escaped since '\\' normally tells Python that a special code is being used.  For example, both of the following point to the same file on a Windows machine:"
   ]
  },
  {
   "cell_type": "raw",
   "metadata": {},
   "source": [
    ">>> print \"c:/temp/file.txt\"\n",
    "c:/temp/file.txt\n",
    ">>> print \"c:\\\\temp\\\\file.txt\"\n",
    "c:\\temp\\file.txt"
   ]
  },
  {
   "cell_type": "markdown",
   "metadata": {},
   "source": [
    "The os module contains a large number of useful file functions.  In particular, the sub-module os.path provides a number of functions for manipulating path and file names.  For example, a filename with a path can be split into various parts:"
   ]
  },
  {
   "cell_type": "code",
   "execution_count": 35,
   "metadata": {
    "collapsed": false
   },
   "outputs": [
    {
     "data": {
      "text/plain": [
       "'file.txt'"
      ]
     },
     "execution_count": 35,
     "metadata": {},
     "output_type": "execute_result"
    }
   ],
   "source": [
    ">>> import os\t\n",
    ">>> p = \"c:/temp/file.txt\"\n",
    ">>> os.path.basename(p)"
   ]
  },
  {
   "cell_type": "code",
   "execution_count": 60,
   "metadata": {
    "collapsed": false
   },
   "outputs": [
    {
     "data": {
      "text/plain": [
       "'c:/temp'"
      ]
     },
     "execution_count": 60,
     "metadata": {},
     "output_type": "execute_result"
    }
   ],
   "source": [
    ">>> os.path.dirname(p)"
   ]
  },
  {
   "cell_type": "code",
   "execution_count": 61,
   "metadata": {
    "collapsed": false
   },
   "outputs": [
    {
     "data": {
      "text/plain": [
       "('c:/temp', 'file.txt')"
      ]
     },
     "execution_count": 61,
     "metadata": {},
     "output_type": "execute_result"
    }
   ],
   "source": [
    ">>> os.path.split(p)"
   ]
  },
  {
   "cell_type": "markdown",
   "metadata": {},
   "source": [
    "The opposite of the split function is the join function.  It is a good idea to always use join when combining pathnames with other pathnames or files, since join takes care of any operating-system specific actions.  join can take any number of arguments:"
   ]
  },
  {
   "cell_type": "code",
   "execution_count": 36,
   "metadata": {
    "collapsed": false
   },
   "outputs": [
    {
     "data": {
      "text/plain": [
       "'c:\\\\temp/file.txt'"
      ]
     },
     "execution_count": 36,
     "metadata": {},
     "output_type": "execute_result"
    }
   ],
   "source": [
    ">>> os.path.join(\"c:\\\\temp\", \"file.txt\")"
   ]
  },
  {
   "cell_type": "code",
   "execution_count": 39,
   "metadata": {
    "collapsed": false
   },
   "outputs": [
    {
     "data": {
      "text/plain": [
       "'c:\\\\/temp/file.txt'"
      ]
     },
     "execution_count": 39,
     "metadata": {},
     "output_type": "execute_result"
    }
   ],
   "source": [
    ">>> os.path.join(\"c:\\\\\", \"temp\", \"file.txt\")"
   ]
  },
  {
   "cell_type": "markdown",
   "metadata": {},
   "source": [
    "If the path name is not absolute but relative to the current directory, there is a function for returning the absolute version:"
   ]
  },
  {
   "cell_type": "code",
   "execution_count": 68,
   "metadata": {
    "collapsed": false
   },
   "outputs": [
    {
     "data": {
      "text/plain": [
       "'/temp/file.txt'"
      ]
     },
     "execution_count": 68,
     "metadata": {},
     "output_type": "execute_result"
    }
   ],
   "source": [
    ">>> os.path.abspath(\"/temp/file.txt\")"
   ]
  },
  {
   "cell_type": "markdown",
   "metadata": {},
   "source": [
    "Several functions enable testing the existence and type of files and directories:"
   ]
  },
  {
   "cell_type": "code",
   "execution_count": 40,
   "metadata": {
    "collapsed": false
   },
   "outputs": [
    {
     "data": {
      "text/plain": [
       "False"
      ]
     },
     "execution_count": 40,
     "metadata": {},
     "output_type": "execute_result"
    }
   ],
   "source": [
    ">>> p = 'c:/temp/file.txt'\n",
    ">>> os.path.exists(p)"
   ]
  },
  {
   "cell_type": "code",
   "execution_count": 41,
   "metadata": {
    "collapsed": false
   },
   "outputs": [
    {
     "data": {
      "text/plain": [
       "False"
      ]
     },
     "execution_count": 41,
     "metadata": {},
     "output_type": "execute_result"
    }
   ],
   "source": [
    ">>> os.path.isfile(p)"
   ]
  },
  {
   "cell_type": "code",
   "execution_count": 42,
   "metadata": {
    "collapsed": false
   },
   "outputs": [
    {
     "data": {
      "text/plain": [
       "False"
      ]
     },
     "execution_count": 42,
     "metadata": {},
     "output_type": "execute_result"
    }
   ],
   "source": [
    ">>> os.path.isdir(p)"
   ]
  },
  {
   "cell_type": "markdown",
   "metadata": {},
   "source": [
    "Here, the isfile and isdir functions test both for the existence of the object as well as their type.\n",
    "\n",
    "One can get the size on disk (in bytes) of a file:"
   ]
  },
  {
   "cell_type": "code",
   "execution_count": 50,
   "metadata": {
    "collapsed": false
   },
   "outputs": [
    {
     "data": {
      "text/plain": [
       "98"
      ]
     },
     "execution_count": 50,
     "metadata": {},
     "output_type": "execute_result"
    }
   ],
   "source": [
    ">>> os.path.getsize('/Users/kevinhoang/Desktop/data.txt')"
   ]
  },
  {
   "cell_type": "code",
   "execution_count": 43,
   "metadata": {
    "collapsed": false
   },
   "outputs": [
    {
     "data": {
      "text/plain": [
       "'/Users/kevinhoang/Desktop'"
      ]
     },
     "execution_count": 43,
     "metadata": {},
     "output_type": "execute_result"
    }
   ],
   "source": [
    ">>> os.getcwd()"
   ]
  },
  {
   "cell_type": "code",
   "execution_count": 70,
   "metadata": {
    "collapsed": false
   },
   "outputs": [
    {
     "data": {
      "text/plain": [
       "'/Users/kevinhoang'"
      ]
     },
     "execution_count": 70,
     "metadata": {},
     "output_type": "execute_result"
    }
   ],
   "source": [
    ">>> os.chdir(\"..\")\n",
    ">>> os.getcwd()"
   ]
  },
  {
   "cell_type": "markdown",
   "metadata": {},
   "source": [
    "Note that the notation \"..\" signifies the containing directory one level up.\n",
    "\n",
    "\n",
    "A directory can be created:"
   ]
  },
  {
   "cell_type": "raw",
   "metadata": {},
   "source": [
    ">>> os.mkdir(\"c:/temp/newdir\")"
   ]
  },
  {
   "cell_type": "markdown",
   "metadata": {},
   "source": [
    "To delete a file:"
   ]
  },
  {
   "cell_type": "raw",
   "metadata": {},
   "source": [
    ">>> os.remove(\"c:/temp/deleteme.txt\")"
   ]
  },
  {
   "cell_type": "markdown",
   "metadata": {},
   "source": [
    "To delete a directory:"
   ]
  },
  {
   "cell_type": "raw",
   "metadata": {},
   "source": [
    ">>> os.rmdir(\"c:/temp/newdir\")"
   ]
  },
  {
   "cell_type": "markdown",
   "metadata": {},
   "source": [
    "To rename a file:"
   ]
  },
  {
   "cell_type": "raw",
   "metadata": {},
   "source": [
    ">>> os.rename(\"c:/temp/file.txt\", \"c:/temp/newname.txt\")"
   ]
  },
  {
   "cell_type": "markdown",
   "metadata": {},
   "source": [
    "The shutil module provides methods for copying and moving files:"
   ]
  },
  {
   "cell_type": "raw",
   "metadata": {},
   "source": [
    ">>> import shutil\n",
    ">>> shutil.copy(\"c:/temp/file.txt\", \"c:/temp/copied.txt\")\n",
    ">>> shutil.move(\"c:/temp/file.txt\", \"c:/moved.txt\")"
   ]
  },
  {
   "cell_type": "markdown",
   "metadata": {},
   "source": [
    "Finally, the glob module provides wildcard matching routines for finding files and directories that match a specification.  Matches are placed in lists:"
   ]
  },
  {
   "cell_type": "code",
   "execution_count": 72,
   "metadata": {
    "collapsed": false
   },
   "outputs": [
    {
     "data": {
      "text/plain": [
       "[]"
      ]
     },
     "execution_count": 72,
     "metadata": {},
     "output_type": "execute_result"
    }
   ],
   "source": [
    ">>> import glob\n",
    ">>> glob.glob(\"c:\\\\temp\\\\*.dat\")"
   ]
  },
  {
   "cell_type": "markdown",
   "metadata": {},
   "source": [
    "Here the \"*\" wildcard matches anything of any length.  The \"?\" wildcard will match anything of length one character.  Multiple wildcards can appear in a glob specification:"
   ]
  },
  {
   "cell_type": "code",
   "execution_count": 73,
   "metadata": {
    "collapsed": false
   },
   "outputs": [
    {
     "data": {
      "text/plain": [
       "[]"
      ]
     },
     "execution_count": 73,
     "metadata": {},
     "output_type": "execute_result"
    }
   ],
   "source": [
    ">>> glob.glob(\"c:\\\\*\\\\?.dat\")"
   ]
  },
  {
   "cell_type": "markdown",
   "metadata": {},
   "source": [
    "glob returns both files and directories.  List comprehensions provide an easy way to filter for one or the other."
   ]
  },
  {
   "cell_type": "code",
   "execution_count": 74,
   "metadata": {
    "collapsed": false
   },
   "outputs": [
    {
     "data": {
      "text/plain": [
       "[]"
      ]
     },
     "execution_count": 74,
     "metadata": {},
     "output_type": "execute_result"
    }
   ],
   "source": [
    ">>> [p for p in glob.glob(\"p*\") if os.path.isdir(p)]"
   ]
  },
  {
   "cell_type": "markdown",
   "metadata": {},
   "source": [
    "#Command line arguments\n",
    "\n",
    "It is very common to write programs that run with options from the command line, i.e., the DOS command prompt in Windows or a terminal in Linux or MacOS.  Usually, one provides a number of arguments to the program that are detected.  Let's say we wanted a program to take an input file in.txt and produce an output file out.txt in the following way at the prompt:"
   ]
  },
  {
   "cell_type": "raw",
   "metadata": {},
   "source": [
    "C:\\> python program.py in.txt out.txt"
   ]
  },
  {
   "cell_type": "markdown",
   "metadata": {},
   "source": [
    "In Windows, if Python is associated with files ending in '.py', we can just write instead:"
   ]
  },
  {
   "cell_type": "raw",
   "metadata": {},
   "source": [
    "C:\\> program.py in.txt out.txt"
   ]
  },
  {
   "cell_type": "markdown",
   "metadata": {},
   "source": [
    "In Linux, we can accomplish the same behavior by including in the very first line of our program a comment directive that tells the system to use Python to execute the file:"
   ]
  },
  {
   "cell_type": "raw",
   "metadata": {},
   "source": [
    "#!/usr/bin/env python"
   ]
  },
  {
   "cell_type": "markdown",
   "metadata": {},
   "source": [
    "Either way, we would like to capture the arguments in.txt and out.txt.  To do this, we use the sys module and its member variable argv:"
   ]
  },
  {
   "cell_type": "raw",
   "metadata": {},
   "source": [
    "program.py"
   ]
  },
  {
   "cell_type": "raw",
   "metadata": {},
   "source": [
    "#!/usr/bin/env python\n",
    "import sys\n",
    "print sys.argv\n",
    "InputFile = sys.argv[1]\n",
    "OutputFile = sys.argv[2]"
   ]
  },
  {
   "cell_type": "markdown",
   "metadata": {},
   "source": [
    "Running program.py from the command line:"
   ]
  },
  {
   "cell_type": "raw",
   "metadata": {},
   "source": [
    "C:\\> program.py in.txt out.txt\n",
    "['program.py', 'in.txt', 'out.txt']"
   ]
  },
  {
   "cell_type": "markdown",
   "metadata": {},
   "source": [
    "Notice that argv is a list that contains the (string) arguments in order.  The first argument, with index 0, is the name of the program that we are executing.  Subsequent arguments correspond to space-separated items that we input on the command line when running the program.  The form of argv is exactly the same whether or not we call Python directly, since the Python executable is ignored:"
   ]
  },
  {
   "cell_type": "raw",
   "metadata": {},
   "source": [
    "C:\\> program.py in.txt out.txt\n",
    "['program.py', 'in.txt', 'out.txt']\n",
    "C:\\> python program.py in.txt out.txt\n",
    "['program.py', 'in.txt', 'out.txt']"
   ]
  },
  {
   "cell_type": "markdown",
   "metadata": {},
   "source": [
    "#Classes\n",
    "\n",
    "So far, we have only dealt with built-in object types like floats and ints.  Python, however, allows us to create new object types called classes.  We can then use these classes to create new objects of our own design.  In the following example, we create a new class that describes an atom type.  "
   ]
  },
  {
   "cell_type": "raw",
   "metadata": {},
   "source": [
    "atom.py\n",
    "\n",
    "class AtomClass:\n",
    "    def __init__(self, Velocity, Element = 'C', Mass = 12.0):\n",
    "        self.Velocity = Velocity\n",
    "        self.Element = Element\n",
    "        self.Mass = Mass\n",
    "    def Momentum(self):\n",
    "        return self.Velocity * self.Mass"
   ]
  },
  {
   "cell_type": "markdown",
   "metadata": {},
   "source": [
    "We can import the atom.py module and create a new instance of the AtomClass type:"
   ]
  },
  {
   "cell_type": "code",
   "execution_count": 52,
   "metadata": {
    "collapsed": false
   },
   "outputs": [
    {
     "data": {
      "text/plain": [
       "'O'"
      ]
     },
     "execution_count": 52,
     "metadata": {},
     "output_type": "execute_result"
    }
   ],
   "source": [
    ">>> import atom\n",
    ">>> a = atom.AtomClass(2.0, Element = 'O', Mass = 16.0)\n",
    ">>> b = atom.AtomClass(1.0)\n",
    ">>> a.Element"
   ]
  },
  {
   "cell_type": "code",
   "execution_count": 53,
   "metadata": {
    "collapsed": false
   },
   "outputs": [
    {
     "data": {
      "text/plain": [
       "16.0"
      ]
     },
     "execution_count": 53,
     "metadata": {},
     "output_type": "execute_result"
    }
   ],
   "source": [
    ">>> a.Mass"
   ]
  },
  {
   "cell_type": "code",
   "execution_count": 54,
   "metadata": {
    "collapsed": false
   },
   "outputs": [
    {
     "data": {
      "text/plain": [
       "32.0"
      ]
     },
     "execution_count": 54,
     "metadata": {},
     "output_type": "execute_result"
    }
   ],
   "source": [
    ">>> a.Momentum()"
   ]
  },
  {
   "cell_type": "code",
   "execution_count": 55,
   "metadata": {
    "collapsed": false
   },
   "outputs": [
    {
     "data": {
      "text/plain": [
       "'C'"
      ]
     },
     "execution_count": 55,
     "metadata": {},
     "output_type": "execute_result"
    }
   ],
   "source": [
    ">>> b.Element"
   ]
  },
  {
   "cell_type": "code",
   "execution_count": 56,
   "metadata": {
    "collapsed": false
   },
   "outputs": [
    {
     "data": {
      "text/plain": [
       "1.0"
      ]
     },
     "execution_count": 56,
     "metadata": {},
     "output_type": "execute_result"
    }
   ],
   "source": [
    ">>> b.Velocity"
   ]
  },
  {
   "cell_type": "markdown",
   "metadata": {},
   "source": [
    "In this example, the class statement indicates the creation of a new class called AtomClass;  all definitions for this class must be indented underneath it.  The first definition is for a special function called __init__ that is a constructor for the class, meaning this function is automatically executed by Python every time a new object of type AtomClass is created.  There are actually many special functions that can be defined for a class; each of these begins and ends with two underscore marks.\n",
    "\n",
    "\n",
    "Notice that the first argument to the __init__ function is the object self.  This is a generic feature of any class function.  This syntax indicates that the object itself is automatically sent to the function upon calls to it.  This allows modifications to the object by manipulating the variable self; for example, new object members are added using expressions of the form self.X = Y.  This approach may seem unusual, but it actually simplifies the ways in which Python defines class functions behind the scenes.  \n",
    "\n",
    "\n",
    "The __init__ function gives the form of the arguments that are used when we create a new object with atom.AtomClass(2.0, Element = 'O', Mass = 16.0).   Like any other function in Python, this function can include optional arguments.\n",
    "\n",
    "\n",
    "Object members can be accessed using dot notation, as shown in the above example.  Each new instance object of a class acquires its own object members, separate from other instances.  Functions can also be defined as object members, as shown with the Momentum function above.  The first argument to any function in this definition must always be self; calls to functions through object instances, however, do not supply this variable since Python sends the object itself automatically as the first argument.\n",
    "\n",
    "\n",
    "Many special functions can be defined for objects that tell Python how to use your new type with existing operations.  Below is a selected list of some of these:"
   ]
  },
  {
   "cell_type": "markdown",
   "metadata": {},
   "source": [
    "special class method  |\tbehavior / purpose\n",
    "\n",
    "__del__(self) |\tA destructor; called when an instance is deleted using del or via Python's garbage collecting routines.\n",
    "\n",
    "__repr__(self) |\tReturns a string representation of the object; used by print statements, for example\n",
    "\n",
    "__cmp__(self, other) |\tDefines a comparison method with other objects.  Returns a negative number if self < other, zero if self == other, and a positive number if self > other.  Used to evaluate comparison statements for objects, like a > b, or for sorting.\n",
    "\n",
    "__len__(self) |\tReturns the length of the object; used by the len function.\n",
    "\n",
    "__getitem__(self, key),  \n",
    "__setitem__(self, key, value),  \n",
    "__delitem__(self, key) \t| Define methods for accessing and modifying elements of an object via bracket notation, e.g., a[key] = value.\n",
    "\n",
    "__contains__(self, item) |\tCalled for an object when the in statement is used, e.g., item in a.\n",
    "\n",
    "__add__(self, other),  \n",
    "__sub__(self, other),  \n",
    "__mul__(self, other),  \n",
    "__div__(self, other),  \n",
    "__mod__(self, other),  \n",
    "__pow__(self, other)  |\tMethods that are called when various arithmetic operations are executed on objects, e.g., a + b, a – b, a * b, a / b, a % b, and a**b.  In other programming languages, these functions might be termed operator overloading."
   ]
  },
  {
   "cell_type": "markdown",
   "metadata": {},
   "source": [
    "Object members can be accessed using dot notation, as shown in the above example.  Each new instance object of a class acquires its own object members, separate from other instances.  Functions can also be defined as object members, as shown with the Momentum function above.  The first argument to any function in this definition must always be self; calls to functions through object instances, however, do not supply this variable since Python sends the object itself automatically as the first argument.\n",
    "\n",
    "\n",
    "Many special functions can be defined for objects that tell Python how to use your new type with existing operations.  Below is a selected list of some of these:\n",
    "\n",
    "\n",
    "Classes can be an extremely convenient way for organizing data in scientific programs.  However, this benefit does not come without a cost: oftentimes stratifying data across a class will slow your program considerably.  Consider the atom class defined above.  We could put a separate position or velocity vector inside each atom instance.  However, when we perform calculations that make intense use of these quantities—such as a pairwise loop that computes all interatomic distances—it is inefficient for Python to jump around in memory accessing individual position variables in each class.  Rather, it would be much more efficient to store all positions for all atoms in a single large array that occupies one location in memory.  In this case, we would consider those quantities that appear in the slowest step of our calculations (typically the pairwise loop) and keep them outside of the classes as large, easily manipulated arrays and then put everything else that is not accessed frequently (such as the element name) inside the class definitions.  Such a separation may seem messy, but ultimately it is essential if we are to achieve reasonable performance in numeric computations."
   ]
  },
  {
   "cell_type": "markdown",
   "metadata": {},
   "source": [
    "#Exceptions\n",
    "\n",
    "Python offers a simple way to test for errors as a part of a program using the try and except statements:"
   ]
  },
  {
   "cell_type": "raw",
   "metadata": {},
   "source": [
    "test.py"
   ]
  },
  {
   "cell_type": "raw",
   "metadata": {},
   "source": [
    "def multiply(x, y):\n",
    "    try:\n",
    "        ret = x * y\n",
    "    except StandardError:\n",
    "        ret = 0\n",
    "    return ret"
   ]
  },
  {
   "cell_type": "markdown",
   "metadata": {},
   "source": [
    "Here we have defined a function that performs multiplication that we can call for any type.  If multiplication is not defined for a particular type, an error is thrown that is caught by the except statement.   Rather than stop our program, this error causes our own error-handling code to be executed.  The try statement defines the range of code in which we are testing for this error.  Consider this example:"
   ]
  },
  {
   "cell_type": "code",
   "execution_count": 57,
   "metadata": {
    "collapsed": false
   },
   "outputs": [
    {
     "data": {
      "text/plain": [
       "18"
      ]
     },
     "execution_count": 57,
     "metadata": {},
     "output_type": "execute_result"
    }
   ],
   "source": [
    ">>> import test\n",
    ">>> test.multiply(3, 6)"
   ]
  },
  {
   "cell_type": "code",
   "execution_count": 58,
   "metadata": {
    "collapsed": false
   },
   "outputs": [
    {
     "data": {
      "text/plain": [
       "0"
      ]
     },
     "execution_count": 58,
     "metadata": {},
     "output_type": "execute_result"
    }
   ],
   "source": [
    ">>> test.multiply(\"3\", \"6\")"
   ]
  },
  {
   "cell_type": "code",
   "execution_count": 59,
   "metadata": {
    "collapsed": false
   },
   "outputs": [
    {
     "ename": "TypeError",
     "evalue": "can't multiply sequence by non-int of type 'str'",
     "output_type": "error",
     "traceback": [
      "\u001b[0;31m---------------------------------------------------------------------------\u001b[0m",
      "\u001b[0;31mTypeError\u001b[0m                                 Traceback (most recent call last)",
      "\u001b[0;32m<ipython-input-59-a77d30a534a9>\u001b[0m in \u001b[0;36m<module>\u001b[0;34m()\u001b[0m\n\u001b[0;32m----> 1\u001b[0;31m \u001b[0;34m\"3\"\u001b[0m \u001b[0;34m*\u001b[0m \u001b[0;34m\"6\"\u001b[0m\u001b[0;34m\u001b[0m\u001b[0m\n\u001b[0m",
      "\u001b[0;31mTypeError\u001b[0m: can't multiply sequence by non-int of type 'str'"
     ]
    }
   ],
   "source": [
    ">>> \"3\" * \"6\""
   ]
  },
  {
   "cell_type": "raw",
   "metadata": {},
   "source": [
    "In the example above, we caught the kind of error called StandardError, which is a broad category that includes the specific kind of error TypeError.  Python has a large hierarchy of errors that can be caught.  Taken from the Python manual:\n",
    "\n",
    "BaseException\n",
    " +-- SystemExit\n",
    " +-- KeyboardInterrupt\n",
    " +-- Exception\n",
    "      +-- GeneratorExit\n",
    "      +-- StopIteration\n",
    "      +-- StandardError\n",
    "      |    +-- ArithmeticError\n",
    "      |    |    +-- FloatingPointError\n",
    "      |    |    +-- OverflowError\n",
    "      |    |    +-- ZeroDivisionError\n",
    "      |    +-- AssertionError\n",
    "      |    +-- AttributeError\n",
    "      |    +-- EnvironmentError\n",
    "      |    |    +-- IOError\n",
    "      |    |    +-- OSError\n",
    "      |    |         +-- WindowsError (Windows)\n",
    "      |    |         +-- VMSError (VMS)\n",
    "      |    +-- EOFError\n",
    "      |    +-- ImportError\n",
    "      |    +-- LookupError\n",
    "      |    |    +-- IndexError\n",
    "      |    |    +-- KeyError\n",
    "      |    +-- MemoryError\n",
    "      |    +-- NameError\n",
    "      |    |    +-- UnboundLocalError\n",
    "      |    +-- ReferenceError\n",
    "      |    +-- RuntimeError\n",
    "      |    |    +-- NotImplementedError\n",
    "      |    +-- SyntaxError\n",
    "      |    |    +-- IndentationError\n",
    "      |    |         +-- TabError\n",
    "      |    +-- SystemError\n",
    "      |    +-- TypeError\n",
    "      |    +-- ValueError\n",
    "      |    |    +-- UnicodeError\n",
    "      |    |         +-- UnicodeDecodeError\n",
    "      |    |         +-- UnicodeEncodeError\n",
    "      |    |         +-- UnicodeTranslateError\n",
    "      +-- Warning\n",
    "           +-- DeprecationWarning\n",
    "           +-- PendingDeprecationWarning\n",
    "           +-- RuntimeWarning\n",
    "           +-- SyntaxWarning\n",
    "           +-- UserWarning\n",
    "           +-- FutureWarning\n",
    "\t   +-- ImportWarning\n",
    "\t   +-- UnicodeWarning\n",
    "       \n",
    "In addition to catching errors, we can also throw errors using the raise statement:"
   ]
  },
  {
   "cell_type": "code",
   "execution_count": 6,
   "metadata": {
    "collapsed": false
   },
   "outputs": [
    {
     "ename": "FloatingPointError",
     "evalue": "A floating point error has occurred.",
     "output_type": "error",
     "traceback": [
      "\u001b[0;31m---------------------------------------------------------------------------\u001b[0m",
      "\u001b[0;31mFloatingPointError\u001b[0m                        Traceback (most recent call last)",
      "\u001b[0;32m<ipython-input-6-e4f7bf58d59d>\u001b[0m in \u001b[0;36m<module>\u001b[0;34m()\u001b[0m\n\u001b[0;32m----> 1\u001b[0;31m \u001b[0;32mraise\u001b[0m \u001b[0mFloatingPointError\u001b[0m\u001b[0;34m,\u001b[0m \u001b[0;34m\"A floating point error has occurred.\"\u001b[0m\u001b[0;34m\u001b[0m\u001b[0m\n\u001b[0m",
      "\u001b[0;31mFloatingPointError\u001b[0m: A floating point error has occurred."
     ]
    }
   ],
   "source": [
    ">>> raise FloatingPointError, \"A floating point error has occurred.\""
   ]
  },
  {
   "cell_type": "markdown",
   "metadata": {},
   "source": [
    "The ability to raise errors is convenient for adding user-defined information when improper calls to our functions or objects are made.  Ultimately this helps us locate bugs in our code."
   ]
  },
  {
   "cell_type": "markdown",
   "metadata": {},
   "source": [
    "#Timing functions and programs\n",
    "\n",
    "It is often useful to be able to time routines in our program, to get a sense of the relative computation demands of different parts of it.  A very simple approach is to use the time module:"
   ]
  },
  {
   "cell_type": "code",
   "execution_count": 7,
   "metadata": {
    "collapsed": false
   },
   "outputs": [
    {
     "data": {
      "text/plain": [
       "1431548389.826442"
      ]
     },
     "execution_count": 7,
     "metadata": {},
     "output_type": "execute_result"
    }
   ],
   "source": [
    ">>> import time\n",
    ">>> time.time()"
   ]
  },
  {
   "cell_type": "markdown",
   "metadata": {},
   "source": [
    "The time() function of the time module gives the time in seconds as measured from a reference date called the epoch.  Ultimately, we are interested in time differences between two points in our program and so this exact date is unimportant.  Consider the following code snippet from a script that computes the time required for a particular function ComputeEnergies() to finish:"
   ]
  },
  {
   "cell_type": "code",
   "execution_count": 61,
   "metadata": {
    "collapsed": false
   },
   "outputs": [
    {
     "ename": "NameError",
     "evalue": "name 'ComputeEnergies' is not defined",
     "output_type": "error",
     "traceback": [
      "\u001b[0;31m---------------------------------------------------------------------------\u001b[0m",
      "\u001b[0;31mNameError\u001b[0m                                 Traceback (most recent call last)",
      "\u001b[0;32m<ipython-input-61-6e1b6170fc98>\u001b[0m in \u001b[0;36m<module>\u001b[0;34m()\u001b[0m\n\u001b[1;32m      1\u001b[0m \u001b[0mt1\u001b[0m \u001b[0;34m=\u001b[0m \u001b[0mtime\u001b[0m\u001b[0;34m.\u001b[0m\u001b[0mtime\u001b[0m\u001b[0;34m(\u001b[0m\u001b[0;34m)\u001b[0m\u001b[0;34m\u001b[0m\u001b[0m\n\u001b[0;32m----> 2\u001b[0;31m \u001b[0mComputeEnergies\u001b[0m\u001b[0;34m(\u001b[0m\u001b[0;34m)\u001b[0m\u001b[0;34m\u001b[0m\u001b[0m\n\u001b[0m\u001b[1;32m      3\u001b[0m \u001b[0mt2\u001b[0m \u001b[0;34m=\u001b[0m \u001b[0mtime\u001b[0m\u001b[0;34m.\u001b[0m\u001b[0mtime\u001b[0m\u001b[0;34m(\u001b[0m\u001b[0;34m)\u001b[0m\u001b[0;34m\u001b[0m\u001b[0m\n\u001b[1;32m      4\u001b[0m \u001b[0;32mprint\u001b[0m \u001b[0;34m\"The time required was %.2f sec\"\u001b[0m \u001b[0;34m%\u001b[0m \u001b[0;34m(\u001b[0m\u001b[0mt2\u001b[0m \u001b[0;34m-\u001b[0m \u001b[0mt1\u001b[0m\u001b[0;34m)\u001b[0m\u001b[0;34m\u001b[0m\u001b[0m\n",
      "\u001b[0;31mNameError\u001b[0m: name 'ComputeEnergies' is not defined"
     ]
    }
   ],
   "source": [
    "t1 = time.time()\n",
    "ComputeEnergies()\n",
    "t2 = time.time()\n",
    "print \"The time required was %.2f sec\" % (t2 - t1)"
   ]
  },
  {
   "cell_type": "markdown",
   "metadata": {},
   "source": [
    "For long programs, adding such statements for each function execution would be very tedious.  Python includes a profiling module that enables you to examine timings throughout your code.  There are two modules: profile and cProfile.  These modules are entirely identical except that cProfile has been written mostly in C and is much faster.  cProfile is always recommended unless you have an older version of Python that doesn't include it.\n",
    "\n",
    "To use cProfile to profile a single function, "
   ]
  },
  {
   "cell_type": "code",
   "execution_count": 62,
   "metadata": {
    "collapsed": false
   },
   "outputs": [
    {
     "name": "stdout",
     "output_type": "stream",
     "text": [
      "         2 function calls in 0.000 seconds\n",
      "\n",
      "   Ordered by: standard name\n",
      "\n",
      "   ncalls  tottime  percall  cumtime  percall filename:lineno(function)\n",
      "        1    0.000    0.000    0.000    0.000 <string>:1(<module>)\n",
      "        1    0.000    0.000    0.000    0.000 {method 'disable' of '_lsprof.Profiler' objects}\n",
      "\n",
      "\n"
     ]
    },
    {
     "ename": "NameError",
     "evalue": "name 'ComputeEnergies' is not defined",
     "output_type": "error",
     "traceback": [
      "\u001b[0;31m---------------------------------------------------------------------------\u001b[0m",
      "\u001b[0;31mNameError\u001b[0m                                 Traceback (most recent call last)",
      "\u001b[0;32m<ipython-input-62-ddca58c435a1>\u001b[0m in \u001b[0;36m<module>\u001b[0;34m()\u001b[0m\n\u001b[1;32m      1\u001b[0m \u001b[0;32mimport\u001b[0m \u001b[0mcProfile\u001b[0m\u001b[0;34m\u001b[0m\u001b[0m\n\u001b[0;32m----> 2\u001b[0;31m \u001b[0mcProfile\u001b[0m\u001b[0;34m.\u001b[0m\u001b[0mrun\u001b[0m\u001b[0;34m(\u001b[0m\u001b[0;34m\"ComputeEnergies()\"\u001b[0m\u001b[0;34m)\u001b[0m\u001b[0;34m\u001b[0m\u001b[0m\n\u001b[0m",
      "\u001b[0;32m/Users/kevinhoang/anaconda/lib/python2.7/cProfile.pyc\u001b[0m in \u001b[0;36mrun\u001b[0;34m(statement, filename, sort)\u001b[0m\n\u001b[1;32m     27\u001b[0m     \u001b[0;32mtry\u001b[0m\u001b[0;34m:\u001b[0m\u001b[0;34m\u001b[0m\u001b[0m\n\u001b[1;32m     28\u001b[0m         \u001b[0;32mtry\u001b[0m\u001b[0;34m:\u001b[0m\u001b[0;34m\u001b[0m\u001b[0m\n\u001b[0;32m---> 29\u001b[0;31m             \u001b[0mprof\u001b[0m \u001b[0;34m=\u001b[0m \u001b[0mprof\u001b[0m\u001b[0;34m.\u001b[0m\u001b[0mrun\u001b[0m\u001b[0;34m(\u001b[0m\u001b[0mstatement\u001b[0m\u001b[0;34m)\u001b[0m\u001b[0;34m\u001b[0m\u001b[0m\n\u001b[0m\u001b[1;32m     30\u001b[0m         \u001b[0;32mexcept\u001b[0m \u001b[0mSystemExit\u001b[0m\u001b[0;34m:\u001b[0m\u001b[0;34m\u001b[0m\u001b[0m\n\u001b[1;32m     31\u001b[0m             \u001b[0;32mpass\u001b[0m\u001b[0;34m\u001b[0m\u001b[0m\n",
      "\u001b[0;32m/Users/kevinhoang/anaconda/lib/python2.7/cProfile.pyc\u001b[0m in \u001b[0;36mrun\u001b[0;34m(self, cmd)\u001b[0m\n\u001b[1;32m    133\u001b[0m         \u001b[0;32mimport\u001b[0m \u001b[0m__main__\u001b[0m\u001b[0;34m\u001b[0m\u001b[0m\n\u001b[1;32m    134\u001b[0m         \u001b[0mdict\u001b[0m \u001b[0;34m=\u001b[0m \u001b[0m__main__\u001b[0m\u001b[0;34m.\u001b[0m\u001b[0m__dict__\u001b[0m\u001b[0;34m\u001b[0m\u001b[0m\n\u001b[0;32m--> 135\u001b[0;31m         \u001b[0;32mreturn\u001b[0m \u001b[0mself\u001b[0m\u001b[0;34m.\u001b[0m\u001b[0mrunctx\u001b[0m\u001b[0;34m(\u001b[0m\u001b[0mcmd\u001b[0m\u001b[0;34m,\u001b[0m \u001b[0mdict\u001b[0m\u001b[0;34m,\u001b[0m \u001b[0mdict\u001b[0m\u001b[0;34m)\u001b[0m\u001b[0;34m\u001b[0m\u001b[0m\n\u001b[0m\u001b[1;32m    136\u001b[0m \u001b[0;34m\u001b[0m\u001b[0m\n\u001b[1;32m    137\u001b[0m     \u001b[0;32mdef\u001b[0m \u001b[0mrunctx\u001b[0m\u001b[0;34m(\u001b[0m\u001b[0mself\u001b[0m\u001b[0;34m,\u001b[0m \u001b[0mcmd\u001b[0m\u001b[0;34m,\u001b[0m \u001b[0mglobals\u001b[0m\u001b[0;34m,\u001b[0m \u001b[0mlocals\u001b[0m\u001b[0;34m)\u001b[0m\u001b[0;34m:\u001b[0m\u001b[0;34m\u001b[0m\u001b[0m\n",
      "\u001b[0;32m/Users/kevinhoang/anaconda/lib/python2.7/cProfile.pyc\u001b[0m in \u001b[0;36mrunctx\u001b[0;34m(self, cmd, globals, locals)\u001b[0m\n\u001b[1;32m    138\u001b[0m         \u001b[0mself\u001b[0m\u001b[0;34m.\u001b[0m\u001b[0menable\u001b[0m\u001b[0;34m(\u001b[0m\u001b[0;34m)\u001b[0m\u001b[0;34m\u001b[0m\u001b[0m\n\u001b[1;32m    139\u001b[0m         \u001b[0;32mtry\u001b[0m\u001b[0;34m:\u001b[0m\u001b[0;34m\u001b[0m\u001b[0m\n\u001b[0;32m--> 140\u001b[0;31m             \u001b[0;32mexec\u001b[0m \u001b[0mcmd\u001b[0m \u001b[0;32min\u001b[0m \u001b[0mglobals\u001b[0m\u001b[0;34m,\u001b[0m \u001b[0mlocals\u001b[0m\u001b[0;34m\u001b[0m\u001b[0m\n\u001b[0m\u001b[1;32m    141\u001b[0m         \u001b[0;32mfinally\u001b[0m\u001b[0;34m:\u001b[0m\u001b[0;34m\u001b[0m\u001b[0m\n\u001b[1;32m    142\u001b[0m             \u001b[0mself\u001b[0m\u001b[0;34m.\u001b[0m\u001b[0mdisable\u001b[0m\u001b[0;34m(\u001b[0m\u001b[0;34m)\u001b[0m\u001b[0;34m\u001b[0m\u001b[0m\n",
      "\u001b[0;32m<string>\u001b[0m in \u001b[0;36m<module>\u001b[0;34m()\u001b[0m\n",
      "\u001b[0;31mNameError\u001b[0m: name 'ComputeEnergies' is not defined"
     ]
    }
   ],
   "source": [
    "import cProfile\n",
    "cProfile.run(\"ComputeEnergies()\")"
   ]
  },
  {
   "cell_type": "markdown",
   "metadata": {},
   "source": [
    "Notice that we send to the run function in cProfile a string that we want to execute.  After ComputeEnergies() finishes, cProfile will print out a long list of statistics about timings in for that function and the functions it calls.\n",
    "\n",
    "To profile a complete script, we can run cProfile on it from the command line:"
   ]
  },
  {
   "cell_type": "raw",
   "metadata": {},
   "source": [
    "c:\\> python –m cProfile myscript.py"
   ]
  },
  {
   "cell_type": "markdown",
   "metadata": {},
   "source": [
    "After running, we get a report that looks something like this (abbreviated):"
   ]
  },
  {
   "cell_type": "raw",
   "metadata": {},
   "source": [
    "         15686 function calls (15618 primitive calls) in 10.570 CPU seconds\n",
    "\n",
    "   Ordered by: standard name\n",
    "\n",
    "   ncalls  tottime  percall  cumtime  percall filename:lineno(function)\n",
    "        1    0.000    0.000    0.000    0.000 <string>:1(<module>)\n",
    "        1    0.000    0.000    0.000    0.000 __config__.py:3(<module>)\n",
    "        1    0.000    0.000    0.000    0.000 __future__.py:48(<module>)\n",
    "        1    0.000    0.000    0.000    0.000 __future__.py:70(_Feature)\n",
    "        5    0.000    0.000    0.000    0.000 __future__.py:71(__init__)\n",
    "        1    0.000    0.000    0.000    0.000 __init__.py:161(c_ushort)\n",
    "        1    0.000    0.000    0.000    0.000 __init__.py:165(c_long)\n",
    "        1    0.000    0.000    0.000    0.000 __init__.py:169(c_ulong)\n",
    "        1    0.000    0.000    0.000    0.000 __init__.py:186(c_float)\n",
    "        1    0.000    0.000    0.000    0.000 __init__.py:190(c_double)\n",
    "        1    0.000    0.000    0.000    0.000 __init__.py:199(c_longlong)\n",
    "        1    0.012    0.012    0.036    0.036 __init__.py:2(<module>)\n",
    "        1    0.000    0.000    0.000    0.000 __init__.py:203(c_ulonglong)\n",
    "        1    0.000    0.000    0.001    0.001 md.py:25(InitPositions)\n",
    "        1    0.007    0.007   10.569   10.569 md.py:3(<module>)\n",
    "       11    0.001    0.000    0.001    0.000 md.py:54(RescaleVelocities)\n",
    "        1    0.000    0.000    0.000    0.000 md.py:71(InitVelocities)\n",
    "        1    0.001    0.001    0.001    0.001 md.py:84(InitAccel)\n",
    "        1   10.350   10.350   10.358   10.358 md.py:99(RunTest)\n",
    "        1    0.000    0.000    0.000    0.000 memmap.py:1(<module>)\n",
    "        1    0.000    0.000    0.000    0.000 memmap.py:17(memmap)\n",
    "        1    0.003    0.003    0.005    0.005 numeric.py:1(<module>)\n",
    "        3    0.000    0.000    0.000    0.000 numeric.py:142(extend_all)\n",
    "        1    0.000    0.000    0.000    0.000 numeric.py:1685(seterr)\n",
    "        1    0.000    0.000    0.000    0.000 numeric.py:1774(geterr)\n",
    "       52    0.000    0.000    0.000    0.000 {min}\n",
    "      100    0.001    0.000    0.001    0.000 {numpy.core.multiarray.array}\n",
    "       18    0.000    0.000    0.000    0.000 {numpy.core.multiarray.empty}\n",
    "        1    0.000    0.000    0.000    0.000 {numpy.core.multiarray.zeros}\n",
    "        2    0.000    0.000    0.000    0.000 {numpy.core.umath.geterrobj}\n",
    "        2    0.000    0.000    0.000    0.000 {numpy.core.umath.seterrobj}\n",
    "        3    0.001    0.000    0.001    0.000 {open}\n",
    "       42    0.000    0.000    0.000    0.000 {ord}\n",
    "        8    0.000    0.000    0.000    0.000 {range}\n",
    "        6    0.000    0.000    0.000    0.000 {setattr}\n",
    "       15    0.000    0.000    0.000    0.000 {sys._getframe}\n",
    "    10095    0.005    0.000    0.005    0.000 {time.time}\n"
   ]
  },
  {
   "cell_type": "markdown",
   "metadata": {},
   "source": [
    "The names to the right are names of the modules and functions called by our program.  Some of them might not look familiar; this is usually the case when modules that have functions that call other functions in the same and other modules.  The numbers in columns give statistics about the program timing:\n",
    "\n",
    "    •ncalls – number of times a function was called\n",
    "\n",
    "    •tottime – total time spent in a function, summed over all calls\n",
    "\n",
    "    •percall – average time per call spent in a function\n",
    "\n",
    "    •cumtime – total time spent in a function and all the functions called by it\n",
    "\n",
    "    •percall – average time per call spent in a function and all the functions called by it"
   ]
  }
 ],
 "metadata": {
  "kernelspec": {
   "display_name": "Python 2",
   "language": "python",
   "name": "python2"
  },
  "language_info": {
   "codemirror_mode": {
    "name": "ipython",
    "version": 2
   },
   "file_extension": ".py",
   "mimetype": "text/x-python",
   "name": "python",
   "nbconvert_exporter": "python",
   "pygments_lexer": "ipython2",
   "version": "2.7.9"
  }
 },
 "nbformat": 4,
 "nbformat_minor": 0
}
