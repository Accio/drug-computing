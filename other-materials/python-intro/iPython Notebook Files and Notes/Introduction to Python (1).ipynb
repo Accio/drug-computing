{
 "cells": [
  {
   "cell_type": "markdown",
   "metadata": {},
   "source": [
    "#Overview\n",
    "\n",
    "Python is an extremely usable, high-level programming language that is quickly becoming a standard in scientific computing.  It is open source, completely standardized across different platforms (Windows / MacOS / Linux), immensely flexible, and easy to use and learn.  Programs written in Python are highly readable and often much shorter than comparable programs written in other languages like C or Fortran.  Moreover, Python comes pre-loaded with standard modules that provide a huge array of functions and algorithms, for tasks like parsing text data, manipulating and finding files on disk, reading/writing compressed files, and downloading data from web servers.  Python is also capable of all of the complex techniques that advanced programmers expect, like object orientation.\n",
    "\n",
    "Python is somewhat different than languages like C, C++, or Fortran.  In the latter, source code must first be compiled to an executable format before it can be run.  In Python, there is no compilation step; instead, source code is interpreted on the fly in a line-by-line basis.  That is, Python executes code as if it were a script.  The main advantage of an interpreted language is that it is flexible; variables do not need to be declared ahead of time, and the program can adapt on-the-fly.  The main disadvantage, however, is that numerically-intensive programs written in Python typically run slower than those in compiled languages.  This would seem to make Python a poor choice for scientific computing; however, time-intensive subroutines can be compiled in C or Fortran and imported into Python in such a manner that they appear to behave just like normal Python functions.  \n",
    "\n",
    "Fortunately, many common mathematical  and numerical routines have been pre-compiled to run very fast and grouped into two packages that can be added to Python in an entirely transparent manner.  The NumPy (Numeric Python) package provides basic routines for manipulating large arrays and matrices of numeric data.  The SciPy (Scientific Python) package extends the functionality of NumPy with a substantial collection of useful algorithms, like minimization, Fourier transformation, regression, and other applied mathematical techniques.  Both of these packages are also open source and growing in popularity in the scientific community.  With NumPy and SciPy, Python become comparable to, perhaps even more competitive than, expensive commercial packages like MatLab.\n",
    "\n",
    "This tutorial will cover the Python 2.7 language version.  A new language version, the 3.0 series, also exists, but breaks compatibility with the earlier versions of the language.  The 2.7 series is currently the standard for scientific computing efforts in Python.\n"
   ]
  },
  {
   "cell_type": "markdown",
   "metadata": {},
   "source": [
    "#Installation\n",
    "\n",
    "To use Python, one must install the base interpreter.  In addition, there are a number of applications that provide a nice GUI-driven editor for writing Python programs.  For Windows platforms, I prefer to use the freely available Python(x,y) installation and the included Spyder editor.  This single package includes virtually all tools one would need for scientific Python computing, and can be downloaded at:\n",
    "\n",
    "http://www.pythonxy.com\n",
    "\n",
    "Download the installation executable and proceed through the automated setup.  If you want to save space, you do not need to install all of the add-on packages during installation.  The main recommended packages are Python, NumPy, SciPy, Spyder, IPython, Matplotlib, VPython, MinGW, and their dependencies.\n",
    "\n",
    "If you do not use Python(x,y), you should install the following software:\n",
    "\n",
    "•\tPython at http://www.python.org/.  Be sure to install the 2.7 series.\n",
    "\n",
    "•\tNumPy for Python 2.7 at http://www.scipy.org/.\n",
    "\n",
    "•\tSciPy for Python 2.7 at http://www.scipy.org/.\n",
    "\n",
    "•\tGFortran at http://gcc.gnu.org/fortran/.  You will need this to \n",
    "compile Fortran routines. \n",
    "\n",
    "•\tVPython version 5.x at http://www.vpython.org (optional, for real-time 3D visualization)\n",
    "\n",
    "#Other Resources\n",
    "\n",
    "Python comes standard with extensive documentation.  In the Spyder editor included with Python(x,y), this is easily accessed through Help (?) > Python Documentation.  One can search through function and module definitions, or find general information on the language using the table of contents.  The entire manual, and many other helpful documents and links, can also be found at:\n",
    "\n",
    "http://docs.python.org\n",
    "\n",
    "The Python development community also maintains an extensive wiki.  In particular, for programming beginners, there are several pages of tutorials and help at:\n",
    "\n",
    "http://wiki.python.org/moin/BeginnersGuide\n",
    "\n",
    "For those who have had some programming experience and don't need to start learning Python from scratch, the Dive Into Python website is an excellent tutorial that can teach you most of the basics in a few hours:\n",
    "\n",
    "http://www.diveintopython.org/"
   ]
  },
  {
   "cell_type": "markdown",
   "metadata": {},
   "source": [
    "#Interactive Interpreter\n",
    "\n",
    "Start Python by typing \"python\" at a command prompt or terminal.  You should see something similar to the following:"
   ]
  },
  {
   "cell_type": "code",
   "execution_count": null,
   "metadata": {
    "collapsed": true
   },
   "outputs": [],
   "source": [
    "Python 2.6.5 (r265:79096, Mar 19 2010, 21:48:26) [MSC v.1500 32 bit (Intel)] on win32\n",
    "Type \"help\", \"copyright\", \"credits\" or \"license\" for more information.\n",
    ">>>"
   ]
  },
  {
   "cell_type": "markdown",
   "metadata": {},
   "source": [
    "The \">>>\" at the bottom indicates that Python is awaiting your input.  This is the interactive interpreter; Python programs do not need to be compiled and commands can be entered directly, step-by-step.  In the interactive interpreter, Python reads your commands and gives responses:"
   ]
  },
  {
   "cell_type": "code",
   "execution_count": 3,
   "metadata": {
    "collapsed": false
   },
   "outputs": [
    {
     "data": {
      "text/plain": [
       "1"
      ]
     },
     "execution_count": 3,
     "metadata": {},
     "output_type": "execute_result"
    }
   ],
   "source": [
    ">>> 1"
   ]
  },
  {
   "cell_type": "markdown",
   "metadata": {},
   "source": [
    "As we will show later, Python can also read scripts, or files that are pre-written lists of commands to execute in sequence.  With the exception that output after each line is suppressed when reading from a file, there is no difference in the way Python treats commands entered interactively and in scripts; the latter are simply read in as if they were typed at the interactive prompt.  This gives us a powerful way to test out commands in your programs by entering them interactively while writing code.\n",
    "\n",
    "Comments in Python are indicated using the \"#\" symbol.  Python ignores everything after them until reaching the end of the line."
   ]
  },
  {
   "cell_type": "code",
   "execution_count": 4,
   "metadata": {
    "collapsed": false
   },
   "outputs": [
    {
     "data": {
      "text/plain": [
       "1"
      ]
     },
     "execution_count": 4,
     "metadata": {},
     "output_type": "execute_result"
    }
   ],
   "source": [
    ">>> 1 #I just entered the number 1"
   ]
  },
  {
   "cell_type": "markdown",
   "metadata": {},
   "source": [
    "Long commands in Python can be split across several lines using the line continuation character \"\\\".  When using this character, subsequent lines must be indented by exactly the same amount of space.  This is because spacing in Python is syntactic, as we will discuss in greater depth later."
   ]
  },
  {
   "cell_type": "code",
   "execution_count": 6,
   "metadata": {
    "collapsed": false
   },
   "outputs": [
    {
     "data": {
      "text/plain": [
       "25.9414676"
      ]
     },
     "execution_count": 6,
     "metadata": {},
     "output_type": "execute_result"
    }
   ],
   "source": [
    ">>> 1.243 + (3.42839 - 4.394834) * 2.1 \\\n",
    "...   + 4.587 - 9.293 + 34.234 \\\n",
    "...   - 6.2 + 3.4"
   ]
  },
  {
   "cell_type": "markdown",
   "metadata": {},
   "source": [
    "Here, Python automatically draws the ellipses mark to indicate that the command you are entering spans more than one line.  Alternatively, lines are continued implicitly without using the \"\\\" character if enclosing characters (parenthesis, brackets) are present"
   ]
  },
  {
   "cell_type": "code",
   "execution_count": 7,
   "metadata": {
    "collapsed": false
   },
   "outputs": [
    {
     "data": {
      "text/plain": [
       "25.9414676"
      ]
     },
     "execution_count": 7,
     "metadata": {},
     "output_type": "execute_result"
    }
   ],
   "source": [
    ">>> (1.243 + (3.42839 - 4.394834) * 2.1 \n",
    "...   + 4.587 - 9.293 + 34.234 \n",
    "...   - 6.2 + 3.4)"
   ]
  },
  {
   "cell_type": "markdown",
   "metadata": {},
   "source": [
    "Typically the use of parenthesis is preferred over the \"\\\" character for line continuation.\n",
    "\n",
    "It is uncommon in practice, but more than one command can be entered on the same line in a Python script using the \";\" symbol:"
   ]
  },
  {
   "cell_type": "code",
   "execution_count": 2,
   "metadata": {
    "collapsed": false
   },
   "outputs": [
    {
     "name": "stdout",
     "output_type": "stream",
     "text": [
      "5\n"
     ]
    },
    {
     "data": {
      "text/plain": [
       "4"
      ]
     },
     "execution_count": 2,
     "metadata": {},
     "output_type": "execute_result"
    }
   ],
   "source": [
    ">>> print 1 + 4 ; 6 - 2"
   ]
  },
  {
   "cell_type": "markdown",
   "metadata": {},
   "source": [
    "** ( Have to use the print statement in iPython notebook ) **\n",
    "        Normal code: >>> 1 + 4 ; 6 - 2"
   ]
  },
  {
   "cell_type": "markdown",
   "metadata": {},
   "source": [
    "Avoid using this notation in programs that you write, as it will densify your code at the expense of legibility.\n",
    "\n",
    "There is a generic help function in Python that will tell you about almost everything.  For example, it will tell you what the proper arguments for a function are:"
   ]
  },
  {
   "cell_type": "code",
   "execution_count": 17,
   "metadata": {
    "collapsed": false
   },
   "outputs": [
    {
     "name": "stdout",
     "output_type": "stream",
     "text": [
      "Help on built-in function sum in module __builtin__:\n",
      "\n",
      "sum(...)\n",
      "    sum(sequence[, start]) -> value\n",
      "    \n",
      "    Return the sum of a sequence of numbers (NOT strings) plus the value\n",
      "    of parameter 'start' (which defaults to 0).  When the sequence is\n",
      "    empty, return start.\n",
      "\n"
     ]
    }
   ],
   "source": [
    ">>> help(sum)"
   ]
  },
  {
   "cell_type": "markdown",
   "metadata": {},
   "source": [
    "The help function will even work with functions and variables that you create yourself, and Python provides a very easy way to add extra descriptive text that the help function can use, as we will discuss later on.\n",
    "\n",
    "Python is a case sensitive language.  \n",
    "\n",
    "That means that variables and functions must be given the correct case in order to be recognized.  Similarly, the following two variables are different:"
   ]
  },
  {
   "cell_type": "code",
   "execution_count": 3,
   "metadata": {
    "collapsed": false
   },
   "outputs": [],
   "source": [
    ">>> Var = 1\n",
    ">>> var = 2"
   ]
  },
  {
   "cell_type": "code",
   "execution_count": 4,
   "metadata": {
    "collapsed": false
   },
   "outputs": [
    {
     "data": {
      "text/plain": [
       "1"
      ]
     },
     "execution_count": 4,
     "metadata": {},
     "output_type": "execute_result"
    }
   ],
   "source": [
    ">>> Var"
   ]
  },
  {
   "cell_type": "code",
   "execution_count": 5,
   "metadata": {
    "collapsed": false
   },
   "outputs": [
    {
     "data": {
      "text/plain": [
       "2"
      ]
     },
     "execution_count": 5,
     "metadata": {},
     "output_type": "execute_result"
    }
   ],
   "source": [
    ">>> var"
   ]
  },
  {
   "cell_type": "markdown",
   "metadata": {},
   "source": [
    "To exit the Python interactive prompt, we need to use an end-of-file character.  Under Windows, this corresponds to the Ctrl-Z key combination; in Linux, it corresponds to Ctrl-D.  Alternatively, one can use the exit() function:"
   ]
  },
  {
   "cell_type": "code",
   "execution_count": 23,
   "metadata": {
    "collapsed": true
   },
   "outputs": [],
   "source": [
    ">>> exit()"
   ]
  }
 ],
 "metadata": {
  "kernelspec": {
   "display_name": "Python 2",
   "language": "python",
   "name": "python2"
  },
  "language_info": {
   "codemirror_mode": {
    "name": "ipython",
    "version": 2
   },
   "file_extension": ".py",
   "mimetype": "text/x-python",
   "name": "python",
   "nbconvert_exporter": "python",
   "pygments_lexer": "ipython2",
   "version": "2.7.9"
  }
 },
 "nbformat": 4,
 "nbformat_minor": 0
}
