{
 "cells": [
  {
   "cell_type": "markdown",
   "metadata": {},
   "source": [
    "# A brief, basic introduction to Python for scientific computing - Chapter 3\n",
    "## Background/prerequisites\n",
    "\n",
    "This is part of a brief introduction to Python; please find links to the other chapters and authorship information [here](https://github.com/MobleyLab/drug-computing/blob/master/other-materials/python-intro/README.md) on GitHub. This information will assume you have been through the previous chapters already.\n",
    "\n",
    "For best results with these notebooks, we recommend using the [Table of Contents nbextension](https://github.com/ipython-contrib/jupyter_contrib_nbextensions/tree/master/src/jupyter_contrib_nbextensions/nbextensions/toc2) which will provide you with a \"Navigate\" menu in the top menu bar which, if dragged out, will allow you to easily jump between sections in these notebooks. To install, in your command prompt, use:\n",
    "* `conda install -c conda-forge jupyter_contrib_nbextensions`\n",
    "* `jupyter contrib nbextension install --user`\n",
    "* Open `jupyter notebook` and click the `nbextensions` button to enable `Table of Contents`. \n",
    "(See the [jupyter nbextensions documentation](https://github.com/ipython-contrib/jupyter_contrib_nbextensions) for more information on using these.)\n",
    "\n",
    "This notebook continues our dscussion of basic object types in Python.\n",
    "\n",
    "## Tuples and immutable versus mutable objects\n",
    "\n",
    "### Tuples are immutable objects\n",
    "Tuples are similar to lists but are immutable.  That is, once they are created, they cannot be changed.  Tuples are created using parenthesis instead of brackets:"
   ]
  },
  {
   "cell_type": "code",
   "execution_count": 1,
   "metadata": {},
   "outputs": [
    {
     "ename": "TypeError",
     "evalue": "'tuple' object does not support item assignment",
     "output_type": "error",
     "traceback": [
      "\u001b[0;31m-----------------------------------------------------------\u001b[0m",
      "\u001b[0;31mTypeError\u001b[0m                 Traceback (most recent call last)",
      "\u001b[0;32m<ipython-input-1-572922f2ca77>\u001b[0m in \u001b[0;36m<module>\u001b[0;34m()\u001b[0m\n\u001b[1;32m      1\u001b[0m \u001b[0mt\u001b[0m \u001b[0;34m=\u001b[0m \u001b[0;34m(\u001b[0m\u001b[0;36m1\u001b[0m\u001b[0;34m,\u001b[0m \u001b[0;36m2\u001b[0m\u001b[0;34m,\u001b[0m \u001b[0;36m3\u001b[0m\u001b[0;34m)\u001b[0m\u001b[0;34m\u001b[0m\u001b[0m\n\u001b[0;32m----> 2\u001b[0;31m \u001b[0mt\u001b[0m\u001b[0;34m[\u001b[0m\u001b[0;36m1\u001b[0m\u001b[0;34m]\u001b[0m \u001b[0;34m=\u001b[0m \u001b[0;36m0\u001b[0m\u001b[0;34m\u001b[0m\u001b[0m\n\u001b[0m",
      "\u001b[0;31mTypeError\u001b[0m: 'tuple' object does not support item assignment"
     ]
    }
   ],
   "source": [
    "t = (1, 2, 3)\n",
    "t[1] = 0"
   ]
  },
  {
   "cell_type": "markdown",
   "metadata": {},
   "source": [
    "Like lists, tuples can contain any object, including other tuples and lists:"
   ]
  },
  {
   "cell_type": "code",
   "execution_count": null,
   "metadata": {
    "collapsed": true
   },
   "outputs": [],
   "source": [
    "t = (0., 1, 'two', [3, 4], (5,6) )"
   ]
  },
  {
   "cell_type": "markdown",
   "metadata": {},
   "source": [
    "### Tuples are similar to lists but faster\n",
    "\n",
    "The advantage of tuples is that they are faster than lists, and Python often uses them behind the scenes to achieve efficient passing of data and function arguments.  In fact, one can write a comma separated list without any enclosing characters and Python will, by default, interpret it as a tuple:"
   ]
  },
  {
   "cell_type": "code",
   "execution_count": null,
   "metadata": {
    "collapsed": true
   },
   "outputs": [],
   "source": [
    "1, 2, 3"
   ]
  },
  {
   "cell_type": "code",
   "execution_count": null,
   "metadata": {
    "collapsed": true
   },
   "outputs": [],
   "source": [
    "\"hello\", 5., [1, 2, 3]"
   ]
  },
  {
   "cell_type": "markdown",
   "metadata": {},
   "source": [
    "### Strings are immutable objects too\n",
    "Tuples aren't the only immutable objects in Python.  Strings are also immutable:"
   ]
  },
  {
   "cell_type": "code",
   "execution_count": null,
   "metadata": {
    "collapsed": true
   },
   "outputs": [],
   "source": [
    "s = \"There are 5 cars.\"\n",
    "s[10] = \"6\""
   ]
  },
  {
   "cell_type": "markdown",
   "metadata": {},
   "source": [
    "To modify strings in this way, we instead need to use slicing to create a new string and then store it:"
   ]
  },
  {
   "cell_type": "code",
   "execution_count": null,
   "metadata": {
    "collapsed": true
   },
   "outputs": [],
   "source": [
    "s = s[:10] + \"6\" + s[11:]\n",
    "s"
   ]
  },
  {
   "cell_type": "markdown",
   "metadata": {},
   "source": [
    "Floats, integers, and complex numbers are also immutable; however, this is not obvious to the programmer.  For these types, what immutable means is that new numeric values always involve the creation of a new spot in memory for a new variable, rather than the modification of the memory used for an existing variable."
   ]
  },
  {
   "cell_type": "markdown",
   "metadata": {},
   "source": [
    "## Assignment and name binding\n",
    "\n",
    "\n",
    "### Variable assgnment in python is interesting\n",
    "Python treats variable assignment slightly differently than what you might expect from other programming languages where variables must be declared beforehand so that a corresponding spot in memory is available to manipulate.  Consider the assignment:"
   ]
  },
  {
   "cell_type": "raw",
   "metadata": {},
   "source": [
    "a = 1"
   ]
  },
  {
   "cell_type": "markdown",
   "metadata": {},
   "source": [
    "In other programming languages, this statement might be read as \"put the value 1 in the spot in memory corresponding to the variable a.\"  In Python, however, this statement says something quite different: \"create a spot in memory for an integer variable, give it a value 1, and then point the variable a to it.\"  This behavior is called name binding in Python.  It means that most variables act like little roadmaps to spots in memory, rather than designate specific spots themselves.\n",
    "\n",
    "Consider the following:"
   ]
  },
  {
   "cell_type": "code",
   "execution_count": null,
   "metadata": {
    "collapsed": true
   },
   "outputs": [],
   "source": [
    "a = [1, 2, 3]\n",
    "b = a\n",
    "a[1] = 0\n",
    "a"
   ]
  },
  {
   "cell_type": "code",
   "execution_count": null,
   "metadata": {
    "collapsed": true
   },
   "outputs": [],
   "source": [
    "b"
   ]
  },
  {
   "cell_type": "markdown",
   "metadata": {},
   "source": [
    "In the second line, Python bound the variable b to the same spot in memory as the variable `a`.  Notice that it did not copy the contents of `a`, and thus any modifications to `a` subsequently affect `b` also.  This can sometimes be a convenience and speed execution of a program.\n",
    "\n",
    "### `copy` can be used when objects need to be coped\n",
    "\n",
    "If an explicit copy of an object is needed, one can use the copy module:"
   ]
  },
  {
   "cell_type": "code",
   "execution_count": null,
   "metadata": {
    "collapsed": true
   },
   "outputs": [],
   "source": [
    "import copy\n",
    "a = [1, 2, 3]\n",
    "b = copy.copy(a)\n",
    "a[1] = 0\n",
    "a"
   ]
  },
  {
   "cell_type": "code",
   "execution_count": null,
   "metadata": {
    "collapsed": true
   },
   "outputs": [],
   "source": [
    "b"
   ]
  },
  {
   "cell_type": "markdown",
   "metadata": {},
   "source": [
    "Here, the `copy.copy` function makes a new location in memory and copies the contents of `a` to it, and then `b` is pointed to it.  Since `a` and `b` now point to separate locations in memory, modifications to one do not affect the other.  \n",
    "\n",
    "Actually the copy.copy function only copies the outermost structure of a list.  If a list contains another list, or objects with deeper levels of variables, the copy.deepcopy function must be used to make a full copy."
   ]
  },
  {
   "cell_type": "code",
   "execution_count": null,
   "metadata": {
    "collapsed": true
   },
   "outputs": [],
   "source": [
    "import copy\n",
    "a = [1, 2, [3, 4]]\n",
    "b = copy.copy(a)\n",
    "c = copy.deepcopy(a)\n",
    "a[2][1] = 5\n",
    "a"
   ]
  },
  {
   "cell_type": "code",
   "execution_count": null,
   "metadata": {
    "collapsed": true
   },
   "outputs": [],
   "source": [
    "b"
   ]
  },
  {
   "cell_type": "code",
   "execution_count": null,
   "metadata": {
    "collapsed": true
   },
   "outputs": [],
   "source": [
    "c"
   ]
  },
  {
   "cell_type": "markdown",
   "metadata": {},
   "source": [
    "The `copy` module should be used with great caution, which is why it is a module and not part of the standard command set.  The vast majority of Python programs do not need this function if one programs in a Pythonic style—that is, if one uses Python idioms and ways of doing things.  If you find yourself using the `copy` module frequently, chances are that your code could be rewritten to read and operate much cleaner.\n",
    "\n",
    "### Not all types of objects need copying because of mutability/immutability\n",
    "\n",
    "The following example may now puzzle you:"
   ]
  },
  {
   "cell_type": "code",
   "execution_count": null,
   "metadata": {
    "collapsed": true
   },
   "outputs": [],
   "source": [
    "a = 1\n",
    "b = a\n",
    "a = 2\n",
    "a"
   ]
  },
  {
   "cell_type": "code",
   "execution_count": null,
   "metadata": {
    "collapsed": true
   },
   "outputs": [],
   "source": [
    "b"
   ]
  },
  {
   "cell_type": "markdown",
   "metadata": {},
   "source": [
    "Why did b not also change?  The reason has to do with immutable objects.  Recall that values are immutable, meaning they cannot be changed once in memory.  In the second line, `b` points to the location in memory where the value \"1\" was created in the first line.  In the third line, a new value \"2\" is created in memory and `a` is pointed to it—the old value \"1\" is not modified at all because it is immutable.  As a result, `a` and `b` then point to different parts of memory.  In the previous example using a list, the list was actually modified in memory because it is mutable.\n",
    "\n",
    "Similarly, consider the following example:"
   ]
  },
  {
   "cell_type": "code",
   "execution_count": null,
   "metadata": {
    "collapsed": true
   },
   "outputs": [],
   "source": [
    "a = 1\n",
    "b = a\n",
    "a = []\n",
    "a.append(1)\n",
    "a"
   ]
  },
  {
   "cell_type": "code",
   "execution_count": null,
   "metadata": {
    "collapsed": true
   },
   "outputs": [],
   "source": [
    "b"
   ]
  },
  {
   "cell_type": "markdown",
   "metadata": {},
   "source": [
    "Here in the third line, a is assigned to point at a new empty list that is created in memory.\n",
    "\n",
    "### Rules of thumb for assignments in Python\n",
    "\n",
    "The general rules of thumb for assignments in Python are the following:\n",
    "\n",
    "* Assignment using the equals sign (\"=\") means point the variable name on the left hand side to the location in memory on the right hand side. \n",
    "\n",
    "* If the right hand side is a variable, point the left hand side to the same location in memory that the right hand side points to.  If the right hand side is a new object or value, create a new spot in memory for it and point the left hand side to it.\n",
    "\n",
    "* Modifications to a mutable object will affect the corresponding location in memory and hence any variable pointing to it.  Immutable objects cannot be modified and usually involve the creation of new spots in memory.\n",
    "\n",
    "### `is` tests whether variables point to the same object\n",
    "\n",
    "It is possible to determine if two variable names in Python are pointing to the same value or object in memory using the is statement:"
   ]
  },
  {
   "cell_type": "code",
   "execution_count": null,
   "metadata": {
    "collapsed": true
   },
   "outputs": [],
   "source": [
    "a = [1, 2, 3]\n",
    "b = a\n",
    "a is b"
   ]
  },
  {
   "cell_type": "code",
   "execution_count": null,
   "metadata": {
    "collapsed": true
   },
   "outputs": [],
   "source": [
    "b = [1, 2, 3]\n",
    "a is b"
   ]
  },
  {
   "cell_type": "markdown",
   "metadata": {},
   "source": [
    "In the next to the last line, a new spot in memory is created for a new list and `b` is assigned to it.  This spot is distinct from the area in memory to which a points and thus the is statement returns `False` when `a` and `b` are compared, even though their data is identical.  \n",
    "\n",
    "## Garbage collection and memory use in Python\n",
    "\n",
    "One might wonder if Python is memory-intensive given the frequency with which it must create new spots in memory for new objects and values.  Fortunately, Python handles memory management quite transparently and intelligently.  In particular, it uses a technique called garbage collection.  This means that for every spot in memory that Python creates for a value or object, it keeps track of how many variable names are pointing at it.  When no variable name any longer points to a given spot, Python automatically deletes the value or object in memory, freeing its memory for later use.  Consider this example:"
   ]
  },
  {
   "cell_type": "code",
   "execution_count": null,
   "metadata": {
    "collapsed": true
   },
   "outputs": [],
   "source": [
    "a = [1, 2, 3, 4]  #a points to list 1\n",
    "b = [2, 3, 4, 5]  #b points to list 2\n",
    "c = a             #c points to list 1\n",
    "a = b             #a points to list 2\n",
    "c = b[1]          #c points '3'; list 1 deleted in memory"
   ]
  },
  {
   "cell_type": "markdown",
   "metadata": {},
   "source": [
    "In the last line, there are no longer any variables that point to the first list and so Python automatically deletes it from memory.  One can explicitly delete a variable using the `del` statement:"
   ]
  },
  {
   "cell_type": "code",
   "execution_count": null,
   "metadata": {
    "collapsed": true
   },
   "outputs": [],
   "source": [
    "a = [1, 2, 3, 4]\n",
    "del a"
   ]
  },
  {
   "cell_type": "markdown",
   "metadata": {},
   "source": [
    "This will delete the variable name a.  In general, however, it does not delete the object to which a points unless a is the only variable pointing to it and Python's garbage-collecting routines kick in.  Consider:"
   ]
  },
  {
   "cell_type": "code",
   "execution_count": null,
   "metadata": {
    "collapsed": true
   },
   "outputs": [],
   "source": [
    "a = [1, 2, 3, 4]\n",
    "b = a\n",
    "del a\n",
    "b"
   ]
  },
  {
   "cell_type": "markdown",
   "metadata": {},
   "source": [
    "## Multiple assignment\n",
    "\n",
    "### Multiple assignment looks odd at first, but is frequently used.\n",
    "\n",
    "Lists and tuples enable multiple items to be assigned at the same time.  Consider the following example using lists:"
   ]
  },
  {
   "cell_type": "code",
   "execution_count": null,
   "metadata": {
    "collapsed": true
   },
   "outputs": [],
   "source": [
    "[a, b, c] = [1, 5, 9]\n",
    "a"
   ]
  },
  {
   "cell_type": "code",
   "execution_count": null,
   "metadata": {
    "collapsed": true
   },
   "outputs": [],
   "source": [
    "b"
   ]
  },
  {
   "cell_type": "code",
   "execution_count": null,
   "metadata": {
    "collapsed": true
   },
   "outputs": [],
   "source": [
    "c"
   ]
  },
  {
   "cell_type": "markdown",
   "metadata": {},
   "source": [
    "In this example, Python assigned variables by lining up elements in the lists on each side.  The lists must be the same length, or an error will be returned.\n",
    "\n",
    "Tuples are more efficient for this purpose and are usually used instead of lists for multiple assignments:"
   ]
  },
  {
   "cell_type": "code",
   "execution_count": null,
   "metadata": {
    "collapsed": true
   },
   "outputs": [],
   "source": [
    "(a, b, c) = (5, \"hello\", [1, 2])\n",
    "a"
   ]
  },
  {
   "cell_type": "code",
   "execution_count": null,
   "metadata": {
    "collapsed": true
   },
   "outputs": [],
   "source": [
    "b"
   ]
  },
  {
   "cell_type": "code",
   "execution_count": null,
   "metadata": {
    "collapsed": true
   },
   "outputs": [],
   "source": [
    "c"
   ]
  },
  {
   "cell_type": "markdown",
   "metadata": {},
   "source": [
    "However, since Python will interpret any non-enclosed list of values separated by commas as a tuple it is more common to see the following, equivalent statement:"
   ]
  },
  {
   "cell_type": "code",
   "execution_count": null,
   "metadata": {
    "collapsed": true
   },
   "outputs": [],
   "source": [
    "a, b, c = 5, \"hello\", [1, 2]"
   ]
  },
  {
   "cell_type": "markdown",
   "metadata": {},
   "source": [
    "Here, each side of the equals sign is interpreted as a tuple and the assignment proceeds as before.\n",
    "\n",
    "### Functions often use multiple assignment\n",
    "\n",
    "The preceding notation is particularly helpful for functions that return multiple values.  We will discuss this in greater detail later, but here is preview example of a function returning two values:"
   ]
  },
  {
   "cell_type": "raw",
   "metadata": {},
   "source": [
    "a, b = f(c)"
   ]
  },
  {
   "cell_type": "markdown",
   "metadata": {},
   "source": [
    "Technically, the function returns one thing – a tuple containing two values.  However, the multiple assignment notation allows us to treat it as two sequential values.  Alternatively, one could write this statement as:"
   ]
  },
  {
   "cell_type": "raw",
   "metadata": {},
   "source": [
    "returned = f(c)\n",
    "a, b = returned"
   ]
  },
  {
   "cell_type": "markdown",
   "metadata": {},
   "source": [
    "In this case, returned would be a tuple containing two values.\n",
    "\n",
    "### List comprehensions can use multiple assignment\n",
    "Because of multiple assignment, list comprehensions can also iterate over multiple values:"
   ]
  },
  {
   "cell_type": "code",
   "execution_count": 2,
   "metadata": {},
   "outputs": [
    {
     "data": {
      "text/plain": [
       "[3, 7, 11]"
      ]
     },
     "execution_count": 2,
     "metadata": {},
     "output_type": "execute_result"
    }
   ],
   "source": [
    "l = [(1,2), (3,4), (5,6)]\n",
    "[a+b for (a,b) in l]"
   ]
  },
  {
   "cell_type": "markdown",
   "metadata": {},
   "source": [
    "In this example, the tuple (a,b) is assigned to each item in l, in sequence.  Since l contains tuples, this amounts to assigning a and b to individual tuple members.  We could have done this equivalently in the following, less elegant way:"
   ]
  },
  {
   "cell_type": "code",
   "execution_count": 3,
   "metadata": {},
   "outputs": [
    {
     "data": {
      "text/plain": [
       "[3, 7, 11]"
      ]
     },
     "execution_count": 3,
     "metadata": {},
     "output_type": "execute_result"
    }
   ],
   "source": [
    "[t[0] + t[1] for t in l]"
   ]
  },
  {
   "cell_type": "markdown",
   "metadata": {},
   "source": [
    "Here, t is assigned to the tuple and we access its elements using bracket indexing.  A final alternative would have been:"
   ]
  },
  {
   "cell_type": "code",
   "execution_count": 4,
   "metadata": {},
   "outputs": [
    {
     "data": {
      "text/plain": [
       "[3, 7, 11]"
      ]
     },
     "execution_count": 4,
     "metadata": {},
     "output_type": "execute_result"
    }
   ],
   "source": [
    "[sum(t) for t in l]"
   ]
  },
  {
   "cell_type": "markdown",
   "metadata": {},
   "source": [
    "A common use of multiple assignment is to swap variable values:"
   ]
  },
  {
   "cell_type": "code",
   "execution_count": 5,
   "metadata": {},
   "outputs": [
    {
     "data": {
      "text/plain": [
       "5"
      ]
     },
     "execution_count": 5,
     "metadata": {},
     "output_type": "execute_result"
    }
   ],
   "source": [
    "a = 1\n",
    "b = 5\n",
    "a, b = b, a\n",
    "a"
   ]
  },
  {
   "cell_type": "code",
   "execution_count": 6,
   "metadata": {},
   "outputs": [
    {
     "data": {
      "text/plain": [
       "1"
      ]
     },
     "execution_count": 6,
     "metadata": {},
     "output_type": "execute_result"
    }
   ],
   "source": [
    "b"
   ]
  },
  {
   "cell_type": "markdown",
   "metadata": {},
   "source": [
    "## String functions and manipulation\n",
    "\n",
    "### Python is particularly powerful for working with strings\n",
    "Python's string processing functions make it enormously powerful and easy to use for processing string and text data, particularly when combined with the utility of lists.  Every string in Python (like every other variable) is an object.  String functions are member functions of these objects, accessed using dot notation.  \n",
    "\n",
    "Keep in mind two very important points with these functions: (1) strings are immutable, so functions that modify strings actually return new strings that are modified versions of the originals; and (2) all string functions are case sensitive so that `'this'` is recognized as a different string than `'This'`.\n",
    "\n",
    "Strings can be sliced just like lists.  This makes it easy to extract substrings:"
   ]
  },
  {
   "cell_type": "code",
   "execution_count": 7,
   "metadata": {},
   "outputs": [
    {
     "data": {
      "text/plain": [
       "'This'"
      ]
     },
     "execution_count": 7,
     "metadata": {},
     "output_type": "execute_result"
    }
   ],
   "source": [
    "s = \"This is a string\"\n",
    "s[:4]"
   ]
  },
  {
   "cell_type": "code",
   "execution_count": 8,
   "metadata": {},
   "outputs": [
    {
     "data": {
      "text/plain": [
       "'string'"
      ]
     },
     "execution_count": 8,
     "metadata": {},
     "output_type": "execute_result"
    }
   ],
   "source": [
    "\"This is a string\"[-6:]"
   ]
  },
  {
   "cell_type": "markdown",
   "metadata": {},
   "source": [
    "### Strings can be split or joined\n",
    "\n",
    "Strings can also be split apart into lists.  The split function will automatically split strings wherever it finds whitespace (e.g., a space or a line break):"
   ]
  },
  {
   "cell_type": "code",
   "execution_count": 9,
   "metadata": {},
   "outputs": [
    {
     "data": {
      "text/plain": [
       "['This', 'is', 'a', 'string.', 'Hello.']"
      ]
     },
     "execution_count": 9,
     "metadata": {},
     "output_type": "execute_result"
    }
   ],
   "source": [
    "\"This is a string.\\nHello.\".split()"
   ]
  },
  {
   "cell_type": "markdown",
   "metadata": {},
   "source": [
    "Alternatively, one can split a string wherever a particular substring is encountered:"
   ]
  },
  {
   "cell_type": "code",
   "execution_count": 10,
   "metadata": {},
   "outputs": [
    {
     "data": {
      "text/plain": [
       "['Th', ' ', ' a string.']"
      ]
     },
     "execution_count": 10,
     "metadata": {},
     "output_type": "execute_result"
    }
   ],
   "source": [
    "\"This is a string.\".split('is')"
   ]
  },
  {
   "cell_type": "markdown",
   "metadata": {},
   "source": [
    "The opposite of the split function is the join function, which takes a list of strings and joins them together with a common separation string.  This function is actually called as a member function of the separation string, not of the list to be joined:"
   ]
  },
  {
   "cell_type": "code",
   "execution_count": 11,
   "metadata": {},
   "outputs": [
    {
     "data": {
      "text/plain": [
       "'This is a string. Hello.'"
      ]
     },
     "execution_count": 11,
     "metadata": {},
     "output_type": "execute_result"
    }
   ],
   "source": [
    "l = ['This', 'is', 'a', 'string.', 'Hello.']\n",
    "\" \".join(l)"
   ]
  },
  {
   "cell_type": "code",
   "execution_count": 12,
   "metadata": {},
   "outputs": [
    {
     "data": {
      "text/plain": [
       "'blue, red, orange'"
      ]
     },
     "execution_count": 12,
     "metadata": {},
     "output_type": "execute_result"
    }
   ],
   "source": [
    "\", \".join([\"blue\", \"red\", \"orange\"])"
   ]
  },
  {
   "cell_type": "markdown",
   "metadata": {},
   "source": [
    "The join function can be used with a zero-length string:"
   ]
  },
  {
   "cell_type": "code",
   "execution_count": 13,
   "metadata": {},
   "outputs": [
    {
     "data": {
      "text/plain": [
       "'houseboat'"
      ]
     },
     "execution_count": 13,
     "metadata": {},
     "output_type": "execute_result"
    }
   ],
   "source": [
    "\"\".join([\"house\", \"boat\"])"
   ]
  },
  {
   "cell_type": "markdown",
   "metadata": {},
   "source": [
    "To remove extra beginning and ending whitespace, use the strip function:"
   ]
  },
  {
   "cell_type": "code",
   "execution_count": 14,
   "metadata": {},
   "outputs": [
    {
     "data": {
      "text/plain": [
       "'string'"
      ]
     },
     "execution_count": 14,
     "metadata": {},
     "output_type": "execute_result"
    }
   ],
   "source": [
    "\"    string   \".strip()"
   ]
  },
  {
   "cell_type": "code",
   "execution_count": 15,
   "metadata": {},
   "outputs": [
    {
     "data": {
      "text/plain": [
       "'string'"
      ]
     },
     "execution_count": 15,
     "metadata": {},
     "output_type": "execute_result"
    }
   ],
   "source": [
    "\"string\\n\\n  \".strip()"
   ]
  },
  {
   "cell_type": "markdown",
   "metadata": {},
   "source": [
    "### String replacement is useful\n",
    "\n",
    "The replace function will make a new string in which all specified substrings have been replaced:"
   ]
  },
  {
   "cell_type": "code",
   "execution_count": 16,
   "metadata": {},
   "outputs": [
    {
     "data": {
      "text/plain": [
       "'You code in Python.  You like it.'"
      ]
     },
     "execution_count": 16,
     "metadata": {},
     "output_type": "execute_result"
    }
   ],
   "source": [
    "\"We code in Python.  We like it.\".replace(\"We\", \"You\")"
   ]
  },
  {
   "cell_type": "markdown",
   "metadata": {},
   "source": [
    "It is possible to test if a substring is present in a string and to get the index of the first character in the string where the substring starts:"
   ]
  },
  {
   "cell_type": "code",
   "execution_count": 17,
   "metadata": {},
   "outputs": [
    {
     "data": {
      "text/plain": [
       "True"
      ]
     },
     "execution_count": 17,
     "metadata": {},
     "output_type": "execute_result"
    }
   ],
   "source": [
    "s = \"This is a string.\"\n",
    "\"is\" in s"
   ]
  },
  {
   "cell_type": "code",
   "execution_count": 18,
   "metadata": {},
   "outputs": [
    {
     "data": {
      "text/plain": [
       "2"
      ]
     },
     "execution_count": 18,
     "metadata": {},
     "output_type": "execute_result"
    }
   ],
   "source": [
    "s.index(\"is\")"
   ]
  },
  {
   "cell_type": "code",
   "execution_count": 19,
   "metadata": {},
   "outputs": [
    {
     "ename": "ValueError",
     "evalue": "substring not found",
     "output_type": "error",
     "traceback": [
      "\u001b[0;31m-----------------------------------------------------------\u001b[0m",
      "\u001b[0;31mValueError\u001b[0m                Traceback (most recent call last)",
      "\u001b[0;32m<ipython-input-19-a392e87a05d9>\u001b[0m in \u001b[0;36m<module>\u001b[0;34m()\u001b[0m\n\u001b[0;32m----> 1\u001b[0;31m \u001b[0ms\u001b[0m\u001b[0;34m.\u001b[0m\u001b[0mindex\u001b[0m\u001b[0;34m(\u001b[0m\u001b[0;34m\"not\"\u001b[0m\u001b[0;34m)\u001b[0m\u001b[0;34m\u001b[0m\u001b[0m\n\u001b[0m",
      "\u001b[0;31mValueError\u001b[0m: substring not found"
     ]
    }
   ],
   "source": [
    "s.index(\"not\")"
   ]
  },
  {
   "cell_type": "markdown",
   "metadata": {},
   "source": [
    "This last one raises a `ValueError` exception since there is no index for `\"not\"`.\n",
    "\n",
    "### Justification is handled by special functions, as is capitalization\n",
    "\n",
    "Sometimes you need to left- or right-justify strings within a certain field width, padding them with extra spaces as necessary.  There are two functions for doing that:"
   ]
  },
  {
   "cell_type": "code",
   "execution_count": null,
   "metadata": {
    "collapsed": true
   },
   "outputs": [],
   "source": [
    "s = \"apple\".ljust(10) + \"orange\".rjust(10) + \"\\n\"  \\\n",
    "     + \"grape\".ljust(10) + \"pear\".rjust(10)\n",
    "print(s)"
   ]
  },
  {
   "cell_type": "markdown",
   "metadata": {},
   "source": [
    "There are a number of functions for manipulating capitalization:"
   ]
  },
  {
   "cell_type": "code",
   "execution_count": null,
   "metadata": {
    "collapsed": true
   },
   "outputs": [],
   "source": [
    "s = \"this is a String.\"\n",
    "s.lower()"
   ]
  },
  {
   "cell_type": "code",
   "execution_count": null,
   "metadata": {
    "collapsed": true
   },
   "outputs": [],
   "source": [
    "s.upper()"
   ]
  },
  {
   "cell_type": "code",
   "execution_count": null,
   "metadata": {
    "collapsed": true
   },
   "outputs": [],
   "source": [
    "s.capitalize()"
   ]
  },
  {
   "cell_type": "code",
   "execution_count": null,
   "metadata": {
    "collapsed": true
   },
   "outputs": [],
   "source": [
    "s.title()"
   ]
  },
  {
   "cell_type": "markdown",
   "metadata": {},
   "source": [
    "### Specific functions provide string tests\n",
    "\n",
    "Finally, there are a number of very helpful utilities for testing strings.  One can determine if a string starts or ends with specified substrings:"
   ]
  },
  {
   "cell_type": "code",
   "execution_count": null,
   "metadata": {
    "collapsed": true
   },
   "outputs": [],
   "source": [
    "s = \"this is a string.\"\n",
    "s.startswith(\"th\")"
   ]
  },
  {
   "cell_type": "code",
   "execution_count": null,
   "metadata": {
    "collapsed": true
   },
   "outputs": [],
   "source": [
    "s.startswith(\"T\")"
   ]
  },
  {
   "cell_type": "code",
   "execution_count": null,
   "metadata": {
    "collapsed": true
   },
   "outputs": [],
   "source": [
    "s.endswith(\".\")"
   ]
  },
  {
   "cell_type": "markdown",
   "metadata": {},
   "source": [
    "You can also test the kind of contents in a string.  To see if it contains all alphabetical characters,"
   ]
  },
  {
   "cell_type": "code",
   "execution_count": null,
   "metadata": {
    "collapsed": true
   },
   "outputs": [],
   "source": [
    "\"string\".isalpha()"
   ]
  },
  {
   "cell_type": "code",
   "execution_count": null,
   "metadata": {
    "collapsed": true
   },
   "outputs": [],
   "source": [
    "\"string.\".isalpha()"
   ]
  },
  {
   "cell_type": "markdown",
   "metadata": {},
   "source": [
    "Similarly, you can test for all numerical characters:"
   ]
  },
  {
   "cell_type": "code",
   "execution_count": null,
   "metadata": {
    "collapsed": true
   },
   "outputs": [],
   "source": [
    "\"12834\".isdigit()"
   ]
  },
  {
   "cell_type": "code",
   "execution_count": null,
   "metadata": {
    "collapsed": true
   },
   "outputs": [],
   "source": [
    "\"50 cars\".isdigit()"
   ]
  },
  {
   "cell_type": "markdown",
   "metadata": {},
   "source": [
    "## Dictionaries\n",
    "\n",
    "### Basic dictionaries and keys\n",
    "\n",
    "Dictionaries are another type in Python that, like lists, are collections of objects.  Unlike lists, dictionaries have no ordering.  Instead, they associate keys with values similar to that of a database.  To create a dictionary, we use braces.  The following example creates a dictionary with three items:"
   ]
  },
  {
   "cell_type": "code",
   "execution_count": null,
   "metadata": {
    "collapsed": true
   },
   "outputs": [],
   "source": [
    "d = {\"city\":\"Irvine\", \"state\":\"CA\", \"zip\":\"92697\"}"
   ]
  },
  {
   "cell_type": "markdown",
   "metadata": {},
   "source": [
    "Here, each element of a dictionary consists of two parts that are entered in key:value syntax.  The keys are like labels that will return the associated value.  Values can be obtained by using bracket notation:"
   ]
  },
  {
   "cell_type": "code",
   "execution_count": null,
   "metadata": {
    "collapsed": true
   },
   "outputs": [],
   "source": [
    "d[\"city\"]"
   ]
  },
  {
   "cell_type": "code",
   "execution_count": null,
   "metadata": {
    "collapsed": true
   },
   "outputs": [],
   "source": [
    "d[\"zip\"]"
   ]
  },
  {
   "cell_type": "code",
   "execution_count": null,
   "metadata": {
    "collapsed": true
   },
   "outputs": [],
   "source": [
    "d[\"street\"]"
   ]
  },
  {
   "cell_type": "markdown",
   "metadata": {},
   "source": [
    "Notice that a nonexistent key will return an error.  "
   ]
  },
  {
   "cell_type": "markdown",
   "metadata": {},
   "source": [
    "### Dictionary keys are flexible\n",
    "\n",
    "Dictionary keys do not have to be strings.  They can be any immutable object in Python: integers, tuples, or strings.  Dictionaries can contain a mixture of these.  Values are not restricted at all; they can be any object in Python: numbers, lists, modules, functions, anything."
   ]
  },
  {
   "cell_type": "code",
   "execution_count": null,
   "metadata": {
    "collapsed": true
   },
   "outputs": [],
   "source": [
    "d = {\"one\" : 80.0,  2 : [0, 1, 1],  3 : (-20,-30),  (4, 5) : 60}\n",
    "d[(4,5)]"
   ]
  },
  {
   "cell_type": "code",
   "execution_count": null,
   "metadata": {
    "collapsed": true
   },
   "outputs": [],
   "source": [
    "d[2]"
   ]
  },
  {
   "cell_type": "markdown",
   "metadata": {},
   "source": [
    "The following example creates an empty dictionary:"
   ]
  },
  {
   "cell_type": "code",
   "execution_count": null,
   "metadata": {
    "collapsed": true
   },
   "outputs": [],
   "source": [
    "d = {}"
   ]
  },
  {
   "cell_type": "markdown",
   "metadata": {},
   "source": [
    "Items can be added to dictionaries using assignment and a new key.  If the key already exists, its value is replaced:"
   ]
  },
  {
   "cell_type": "code",
   "execution_count": null,
   "metadata": {
    "collapsed": true
   },
   "outputs": [],
   "source": [
    "d = {\"city\":\"Irvine\", \"state\":\"CA\"}\n",
    "d[\"city\"] = \"Costa Mesa\"\n",
    "d[\"street\"] = \"Bristol\"\n",
    "d"
   ]
  },
  {
   "cell_type": "markdown",
   "metadata": {},
   "source": [
    "To delete an element from a dictionary, use the del statement:"
   ]
  },
  {
   "cell_type": "code",
   "execution_count": null,
   "metadata": {
    "collapsed": true
   },
   "outputs": [],
   "source": [
    "del d[\"street\"]"
   ]
  },
  {
   "cell_type": "markdown",
   "metadata": {},
   "source": [
    "### Additional dictionary operations\n",
    "\n",
    "One tests if a key is in a dictionary using `in`:"
   ]
  },
  {
   "cell_type": "code",
   "execution_count": null,
   "metadata": {
    "collapsed": true
   },
   "outputs": [],
   "source": [
    "d = {\"city\":\"Irvine\", \"state\":\"CA\"}\n",
    "\"city\" in d"
   ]
  },
  {
   "cell_type": "markdown",
   "metadata": {},
   "source": [
    "The size of a dictionary is given by the len function:"
   ]
  },
  {
   "cell_type": "code",
   "execution_count": null,
   "metadata": {
    "collapsed": true
   },
   "outputs": [],
   "source": [
    "len(d)"
   ]
  },
  {
   "cell_type": "markdown",
   "metadata": {},
   "source": [
    "To remove all elements from a dictionary, use the clear object function:"
   ]
  },
  {
   "cell_type": "code",
   "execution_count": null,
   "metadata": {
    "collapsed": true
   },
   "outputs": [],
   "source": [
    "d = {\"city\":\"Irvine\", \"state\":\"CA\"}\n",
    "d.clear()\n",
    "d"
   ]
  },
  {
   "cell_type": "markdown",
   "metadata": {},
   "source": [
    "One can obtain all keys and values (in no particular order):"
   ]
  },
  {
   "cell_type": "code",
   "execution_count": null,
   "metadata": {
    "collapsed": true
   },
   "outputs": [],
   "source": [
    "d = {\"city\":\"Irvine\", \"state\":\"CA\"}\n",
    "d.keys()"
   ]
  },
  {
   "cell_type": "code",
   "execution_count": null,
   "metadata": {
    "collapsed": true
   },
   "outputs": [],
   "source": [
    "d.values()"
   ]
  },
  {
   "cell_type": "markdown",
   "metadata": {},
   "source": [
    "Alternatively, one can get (key,value) tuples for the entire dictionary:"
   ]
  },
  {
   "cell_type": "code",
   "execution_count": null,
   "metadata": {
    "collapsed": true
   },
   "outputs": [],
   "source": [
    "d.items()"
   ]
  },
  {
   "cell_type": "markdown",
   "metadata": {},
   "source": [
    "Similarly, it is possible to create a dictionary from a list of two-tuples:"
   ]
  },
  {
   "cell_type": "code",
   "execution_count": null,
   "metadata": {
    "collapsed": true
   },
   "outputs": [],
   "source": [
    "l = [(\"street\", \"Peltason\"), (\"school\", \"UCI\")]\n",
    "dict(l)"
   ]
  },
  {
   "cell_type": "markdown",
   "metadata": {},
   "source": [
    "Finally, dictionaries provide a method to return a default value if a given key is not present:"
   ]
  },
  {
   "cell_type": "code",
   "execution_count": null,
   "metadata": {
    "collapsed": true
   },
   "outputs": [],
   "source": [
    "d = {\"city\":\"Irvine\", \"state\":\"CA\"}\n",
    "d.get(\"city\", \"Costa Mesa\")"
   ]
  },
  {
   "cell_type": "code",
   "execution_count": null,
   "metadata": {
    "collapsed": true
   },
   "outputs": [],
   "source": [
    "d.get(\"zip\", 92617)"
   ]
  },
  {
   "cell_type": "markdown",
   "metadata": {},
   "source": [
    "## Conditional (`if`) statements\n",
    "\n",
    "### Basic usage\n",
    "`if` statements allow conditional execution.  Here is an example:"
   ]
  },
  {
   "cell_type": "code",
   "execution_count": null,
   "metadata": {
    "collapsed": true
   },
   "outputs": [],
   "source": [
    "x = 2\n",
    "if x > 3:\n",
    "   print(\"greater than three\")\n",
    "elif x > 0:\n",
    "   print(\"greater than zero\")\n",
    "else:\n",
    "   print(\"less than or equal to zero\")"
   ]
  },
  {
   "cell_type": "markdown",
   "metadata": {},
   "source": [
    "Notice that the first testing line begins with `if`, the second `elif` meaning 'else if', and the third with `else`.  Each of these is followed by a colon with the corresponding commands to execute.  Items after the colon are indented.  For `if` statements, both `elif` and `else` are optional.\n",
    "\n",
    "### Spacing and indentation\n",
    "\n",
    "A very important concept in Python is that spacing and indentations carry syntactical meaning.  That is, they dictate how to execute statements.  Colons occur whenever there is a set of sub-commands after an if statement, loop, or function definition.  All of the commands that are meant to be grouped together after the colon must be indented by the same amount.  Python does not specify how much to indent, but only requires that the commands be indented in the same way.  Consider:"
   ]
  },
  {
   "cell_type": "code",
   "execution_count": null,
   "metadata": {
    "collapsed": true
   },
   "outputs": [],
   "source": [
    "if 1 < 3:\n",
    "     print(\"line one\")\n",
    "       print(\"line two\")"
   ]
  },
  {
   "cell_type": "code",
   "execution_count": null,
   "metadata": {
    "collapsed": true
   },
   "outputs": [],
   "source": [
    "if 1 < 3:\n",
    "       print(\"line one\")\n",
    "       print(\"line two\")"
   ]
  },
  {
   "cell_type": "markdown",
   "metadata": {},
   "source": [
    "### How many spaces?\n",
    "\n",
    "It is typical to indent four spaces after each colon. (Tangent: If you use tabs to indent occasionally, you may wish to set your text editor to automaticall convert tabs to spaces to avoid problems down the road.) \n",
    "\n",
    "Ultimately Python's use of syntactical whitespace helps make its programs look cleaner and more standardized.\n",
    "\n",
    "Any statement or function returning a Boolean `True` or `False` value can be used in an if statement.  The number 0 is also interpreted as `False`, while any other number is considered `True`.  Empty lists and objects return `False`, whereas non-empty ones are `True`."
   ]
  },
  {
   "cell_type": "code",
   "execution_count": null,
   "metadata": {
    "collapsed": true
   },
   "outputs": [],
   "source": [
    "d = {}\n",
    "if d:\n",
    "    print(\"Dictionary is not empty.\")\n",
    "else:\n",
    "    print(\"Dictionary is empty.\")"
   ]
  },
  {
   "cell_type": "markdown",
   "metadata": {},
   "source": [
    "Single `if` statements (without `elif` or `else` constructs) that execute a single command can be written in one line without indentation:"
   ]
  },
  {
   "cell_type": "code",
   "execution_count": null,
   "metadata": {
    "collapsed": true
   },
   "outputs": [],
   "source": [
    "if 5 < 10: print(\"Five is less than ten.\")"
   ]
  },
  {
   "cell_type": "markdown",
   "metadata": {},
   "source": [
    "### Nested `if` statements\n",
    "\n",
    "Finally, `if` statements can be nested using indentation:"
   ]
  },
  {
   "cell_type": "code",
   "execution_count": null,
   "metadata": {
    "collapsed": true
   },
   "outputs": [],
   "source": [
    "s = \"chocolate chip\"\n",
    "if \"mint\" in s:\n",
    "     print(\"We do not sell mint.\")\n",
    "elif \"chocolate\" in s:\n",
    "     if \"ripple\" in s:\n",
    "         print(\"We are all out of chocolate ripple.\")\n",
    "     elif \"chip\" in s:\n",
    "         print(\"Chocolate chip is our most popular.\")"
   ]
  },
  {
   "cell_type": "markdown",
   "metadata": {},
   "source": [
    "## `for` loops\n",
    "\n",
    "### Basic usage\n",
    "Like other programming languages, Python provides a mechanism for looping over consecutive values.  Unlike many languages, however, Python's loops do not intrinsically iterate over integers, but rather elements in sequences, like lists and tuples.  The general construct is:"
   ]
  },
  {
   "cell_type": "raw",
   "metadata": {},
   "source": [
    "for element in sequence:\n",
    "    # do something"
   ]
  },
  {
   "cell_type": "markdown",
   "metadata": {},
   "source": [
    "Notice that anything falling within the loop is indented beneath the first line, similar to `if` statements. Here are some examples that iterate over tuples and lists:"
   ]
  },
  {
   "cell_type": "code",
   "execution_count": null,
   "metadata": {
    "collapsed": true
   },
   "outputs": [],
   "source": [
    "for i in [3, \"hello\", 9.5]:\n",
    "   print(i)"
   ]
  },
  {
   "cell_type": "code",
   "execution_count": null,
   "metadata": {
    "collapsed": true
   },
   "outputs": [],
   "source": [
    "for i in (2.3, [8, 9, 10], {\"city\":\"Irvine\"}):\n",
    "   print(i)"
   ]
  },
  {
   "cell_type": "markdown",
   "metadata": {},
   "source": [
    "Notice that the items in the iterable do not need to be the same type.  In each case, the variable i is given the value of the current list or tuple element, and the loop proceeds over these in sequence.  One does not have to use the variable i; any variable name will do, but if an existing variable is used, its value will be overwritten by the loop.\n",
    "\n",
    "\n",
    "### `for` loops using slicing and dictionaries\n",
    "It is very easy to loop over a part of a list using slicing:"
   ]
  },
  {
   "cell_type": "code",
   "execution_count": null,
   "metadata": {
    "collapsed": true
   },
   "outputs": [],
   "source": [
    "l = [4, 6, 7, 8, 10]\n",
    "for i in l[2:]:\n",
    "   print(i)"
   ]
  },
  {
   "cell_type": "markdown",
   "metadata": {},
   "source": [
    "Iteration over a dictionary proceeds over its keys, not its values.  Keep in mind, though, that dictionaries will not return these in any particular order.  In general, it may be better to iterate explicitly over keys or values using the dictionary functions that return lists of these:"
   ]
  },
  {
   "cell_type": "code",
   "execution_count": null,
   "metadata": {
    "collapsed": true
   },
   "outputs": [],
   "source": [
    "d = {\"city\":\"Irvine\", \"state\":\"CA\"}\n",
    "for key in d:\n",
    "   print(key)"
   ]
  },
  {
   "cell_type": "code",
   "execution_count": null,
   "metadata": {
    "collapsed": true
   },
   "outputs": [],
   "source": [
    "for key in d.keys():\n",
    "   print(key)"
   ]
  },
  {
   "cell_type": "code",
   "execution_count": null,
   "metadata": {
    "collapsed": true
   },
   "outputs": [],
   "source": [
    "for val in d.values():\n",
    "   print(val)"
   ]
  },
  {
   "cell_type": "markdown",
   "metadata": {},
   "source": [
    "### Iterating over multiple values\n",
    "\n",
    "Using Python's multiple assignment capabilities, it is possible to iterate over more than one value at a time:"
   ]
  },
  {
   "cell_type": "code",
   "execution_count": null,
   "metadata": {
    "collapsed": true
   },
   "outputs": [],
   "source": [
    "l = [(1, 2), (3, 4), (5, 6)]\n",
    "for (a, b) in l:\n",
    "   print(a + b)"
   ]
  },
  {
   "cell_type": "markdown",
   "metadata": {},
   "source": [
    "In this example, Python cycles through the list and makes the assignment `(a,b) = element` for each element in the list.  Since the list contains two-tuples, it effectively assigns a to the first member of the tuple and b to the second.\n",
    "\n",
    "Multiple assignment makes it easy to cycle over both keys and values in dictionaries at the same time:"
   ]
  },
  {
   "cell_type": "code",
   "execution_count": null,
   "metadata": {
    "collapsed": true
   },
   "outputs": [],
   "source": [
    "d = {\"city\":\"Irvine\", \"state\":\"CA\"}\n",
    "d.items()"
   ]
  },
  {
   "cell_type": "code",
   "execution_count": null,
   "metadata": {
    "collapsed": true
   },
   "outputs": [],
   "source": [
    "for (key, val) in d.items():\n",
    "   print(\"The key is %s and the value is %s\" % (key, val))"
   ]
  },
  {
   "cell_type": "markdown",
   "metadata": {},
   "source": [
    "It is possible to iterate over sequences of numbers using the range function:"
   ]
  },
  {
   "cell_type": "code",
   "execution_count": null,
   "metadata": {
    "collapsed": true
   },
   "outputs": [],
   "source": [
    "for i in range(4):\n",
    "   print(i)"
   ]
  },
  {
   "cell_type": "markdown",
   "metadata": {},
   "source": [
    "### Pythonic iteration through lists\n",
    "\n",
    "In other programming languages, one might use the following idiom to iterate through items in a list:"
   ]
  },
  {
   "cell_type": "code",
   "execution_count": null,
   "metadata": {
    "collapsed": true
   },
   "outputs": [],
   "source": [
    "l = [8, 10, 12]\n",
    "for i in range(len(l)):\n",
    "   print(l[i])"
   ]
  },
  {
   "cell_type": "markdown",
   "metadata": {},
   "source": [
    "In Python, however, the following is more natural and efficient, and thus always preferred:"
   ]
  },
  {
   "cell_type": "code",
   "execution_count": null,
   "metadata": {
    "collapsed": true
   },
   "outputs": [],
   "source": [
    "l = [8, 10, 12]\n",
    "for i in l:\n",
    "   print(i)"
   ]
  },
  {
   "cell_type": "markdown",
   "metadata": {},
   "source": [
    "Notice that the second line could have been written in a single line since there is a single command within the loop, although this is not usually preferred because the loop is less clear upon inspection:"
   ]
  },
  {
   "cell_type": "code",
   "execution_count": null,
   "metadata": {
    "collapsed": true
   },
   "outputs": [],
   "source": [
    "for i in l: print(l)"
   ]
  },
  {
   "cell_type": "markdown",
   "metadata": {},
   "source": [
    "### Enumerate and loops\n",
    "\n",
    "If one desires to have the index of the loop in addition to the iterated element, the `enumerate` command is helpful:"
   ]
  },
  {
   "cell_type": "code",
   "execution_count": null,
   "metadata": {
    "collapsed": true
   },
   "outputs": [],
   "source": [
    "l = [8, 10, 12]\n",
    "for (ind, val) in enumerate(l):\n",
    "   print(\"The %ith element in the list is %d\" % (ind, val))"
   ]
  },
  {
   "cell_type": "markdown",
   "metadata": {},
   "source": [
    "Notice that enumerate returns indices that always begin at 0, whether or not the loop actually iterates over a slice of a list:"
   ]
  },
  {
   "cell_type": "code",
   "execution_count": null,
   "metadata": {
    "collapsed": true
   },
   "outputs": [],
   "source": [
    "l = [4, 6, 7, 8, 10]\n",
    "for (ind, val) in enumerate(l[2:]):\n",
    "   print(\"The %ith element in the list is %d\" % (ind, val))"
   ]
  },
  {
   "cell_type": "markdown",
   "metadata": {},
   "source": [
    "### `zip` for working with multiple lists\n",
    "\n",
    "It is also possible to iterate over two lists simultaneously using the zip function:"
   ]
  },
  {
   "cell_type": "code",
   "execution_count": null,
   "metadata": {
    "collapsed": true
   },
   "outputs": [],
   "source": [
    "l1 = [1, 2, 3]\n",
    "l2 = [0, 6, 8]\n",
    "for (a, b) in zip(l1, l2):\n",
    "    print(a, b, a+b)"
   ]
  },
  {
   "cell_type": "markdown",
   "metadata": {},
   "source": [
    "The zip function can be used outside of for loops.  It simply takes two or more lists and groups them together, making an iterable (an item which can be iterated over) consisting of tuples of corresponding list elements:"
   ]
  },
  {
   "cell_type": "code",
   "execution_count": null,
   "metadata": {
    "collapsed": true
   },
   "outputs": [],
   "source": [
    "res = zip([1, 2, 3], [4, 5, 6])\n",
    "for elem in res: print(elem)"
   ]
  },
  {
   "cell_type": "code",
   "execution_count": null,
   "metadata": {
    "collapsed": true
   },
   "outputs": [],
   "source": [
    "res= zip([1, 2, 3], [4, 5, 6], [7, 8, 9])\n",
    "for elem in res: print(elem)"
   ]
  },
  {
   "cell_type": "markdown",
   "metadata": {},
   "source": [
    "This behavior, combined with multiple assignment, is how zip allows simultaneous iteration over multiple lists at once.\n",
    "\n",
    "### Like `if` statements, loops can be nested"
   ]
  },
  {
   "cell_type": "code",
   "execution_count": null,
   "metadata": {
    "collapsed": true
   },
   "outputs": [],
   "source": [
    "for i in range(3):\n",
    "   for j in range(0,i):\n",
    "     print (i, j)"
   ]
  },
  {
   "cell_type": "markdown",
   "metadata": {},
   "source": [
    "### `break` and `continue`\n",
    "\n",
    "It is possible to skip forward to the next loop iteration immediately, without executing subsequent commands in the same indentation block, using the `continue` statement.  The following produces the same output as the previous example using `continue`, but is ultimately less efficient because more loop cycles need to be traversed:"
   ]
  },
  {
   "cell_type": "code",
   "execution_count": 1,
   "metadata": {},
   "outputs": [
    {
     "name": "stdout",
     "output_type": "stream",
     "text": [
      "1 0\n",
      "2 0\n",
      "2 1\n"
     ]
    }
   ],
   "source": [
    "for i in range(3):\n",
    "   for j in range(3):\n",
    "     if i <= j: continue\n",
    "     print (i, j)"
   ]
  },
  {
   "cell_type": "markdown",
   "metadata": {},
   "source": [
    "One can also terminate the innermost loop using the `break` statement.  Again, the following produces the same result but is almost as efficient as the first example because the inner loop terminates as soon as the `break` statement is encountered:"
   ]
  },
  {
   "cell_type": "code",
   "execution_count": 2,
   "metadata": {},
   "outputs": [
    {
     "name": "stdout",
     "output_type": "stream",
     "text": [
      "1 0\n",
      "2 0\n",
      "2 1\n"
     ]
    }
   ],
   "source": [
    "for i in range(3):\n",
    "   for j in range(3):\n",
    "     if i <= j: break\n",
    "     print (i, j)"
   ]
  },
  {
   "cell_type": "markdown",
   "metadata": {},
   "source": [
    "## `while` loops\n",
    "\n",
    "Unlike for loops, while loops do not iterate over a sequence of elements but rather continue so long as some test condition is met.  Their syntax follows indentation rules similar to the cases we have seen before.  The initial statement takes the form:"
   ]
  },
  {
   "cell_type": "raw",
   "metadata": {},
   "source": [
    "while condition:"
   ]
  },
  {
   "cell_type": "markdown",
   "metadata": {},
   "source": [
    "The following example computes the first couple of values in the Fibonacci sequence:"
   ]
  },
  {
   "cell_type": "code",
   "execution_count": 3,
   "metadata": {},
   "outputs": [
    {
     "name": "stdout",
     "output_type": "stream",
     "text": [
      "1\n",
      "2\n",
      "3\n",
      "5\n",
      "8\n",
      "13\n",
      "21\n"
     ]
    }
   ],
   "source": [
    "k1, k2 = 1, 1\n",
    "while k1 < 20:\n",
    "   k1, k2 = k2, k1 + k2\n",
    "   print(k1)"
   ]
  },
  {
   "cell_type": "markdown",
   "metadata": {},
   "source": [
    "Sometimes it is desired to stop the while loop somewhere in the middle of the commands that follow it.  For this purpose, the `break` statement can be used with an infinite loop.  In the previous example, we might want to print all Fibonacci numbers less than or equal to 20:"
   ]
  },
  {
   "cell_type": "code",
   "execution_count": 4,
   "metadata": {},
   "outputs": [
    {
     "name": "stdout",
     "output_type": "stream",
     "text": [
      "1\n",
      "2\n",
      "3\n",
      "5\n",
      "8\n",
      "13\n"
     ]
    }
   ],
   "source": [
    "k1, k2 = 1, 1\n",
    "while True:\n",
    "   k1, k2 = k2, k1 + k2\n",
    "   if k1 > 20: break\n",
    "   print(k1)"
   ]
  },
  {
   "cell_type": "markdown",
   "metadata": {},
   "source": [
    "Here the infinite while loop is created with the `while True` statement.  Keep in mind that, if multiple loops are nested, the break statement will stop only the innermost loop "
   ]
  }
 ],
 "metadata": {
  "kernelspec": {
   "display_name": "Python [conda root]",
   "language": "python",
   "name": "conda-root-py"
  },
  "language_info": {
   "codemirror_mode": {
    "name": "ipython",
    "version": 3
   },
   "file_extension": ".py",
   "mimetype": "text/x-python",
   "name": "python",
   "nbconvert_exporter": "python",
   "pygments_lexer": "ipython3",
   "version": "3.6.2"
  },
  "toc": {
   "nav_menu": {
    "height": "351px",
    "width": "485px"
   },
   "number_sections": true,
   "sideBar": true,
   "skip_h1_title": false,
   "toc_cell": false,
   "toc_position": {},
   "toc_section_display": "block",
   "toc_window_display": false
  }
 },
 "nbformat": 4,
 "nbformat_minor": 1
}
