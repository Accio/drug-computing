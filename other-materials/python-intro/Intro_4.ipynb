{
 "cells": [
  {
   "cell_type": "markdown",
   "metadata": {},
   "source": [
    "# A brief, basic introduction to Python for scientific computing - Chapter 4\n",
    "## Functions\n",
    "\n",
    "Functions are an important part of any program.  Some programming languages make a distinction between \"functions\" that return values and \"subroutines\" that do not return anything but rather do something.  In Python, there is only one kind, functions, but these can return single, multiple, or no values at all.  In addition, like everything else, functions in Python are objects.  That means that they can be included in lists, tuples, or dictionaries, or even sent to other functions.  This makes Python extraordinarily flexible.\n",
    "\n",
    "To make a function, use the def statement:"
   ]
  },
  {
   "cell_type": "code",
   "execution_count": 1,
   "metadata": {
    "collapsed": true
   },
   "outputs": [],
   "source": [
    "def add(arg1, arg2):\n",
    "   x = arg1 + arg2\n",
    "   return x"
   ]
  },
  {
   "cell_type": "markdown",
   "metadata": {},
   "source": [
    "Here, `def` signals the creation of a new function named `add`, which takes two arguments.  All of the commands associated with this function are then indented underneath the `def` statement, similar to the syntactic indentation used in loops.  The `return` statement tells Python to do two things: exit the function and, if a value is provided, use that as the `return` value -- the value given back to the user or to the code which calls the function.\n",
    "\n",
    "Unlike other programming languages, functions do not need to specify the types of the arguments sent to them.  Python evaluates these at runtime every time the function is called.  Using the above example, we could apply our function to many different types:"
   ]
  },
  {
   "cell_type": "code",
   "execution_count": 2,
   "metadata": {},
   "outputs": [
    {
     "data": {
      "text/plain": [
       "3"
      ]
     },
     "execution_count": 2,
     "metadata": {},
     "output_type": "execute_result"
    }
   ],
   "source": [
    "add(1, 2)"
   ]
  },
  {
   "cell_type": "code",
   "execution_count": 3,
   "metadata": {},
   "outputs": [
    {
     "data": {
      "text/plain": [
       "'houseboat'"
      ]
     },
     "execution_count": 3,
     "metadata": {},
     "output_type": "execute_result"
    }
   ],
   "source": [
    "add(\"house\", \"boat\")"
   ]
  },
  {
   "cell_type": "code",
   "execution_count": 4,
   "metadata": {},
   "outputs": [
    {
     "data": {
      "text/plain": [
       "[1, 2, 3, 4, 5, 6]"
      ]
     },
     "execution_count": 4,
     "metadata": {},
     "output_type": "execute_result"
    }
   ],
   "source": [
    "add([1, 2, 3], [4, 5, 6])"
   ]
  },
  {
   "cell_type": "code",
   "execution_count": 5,
   "metadata": {},
   "outputs": [
    {
     "ename": "TypeError",
     "evalue": "unsupported operand type(s) for +: 'int' and 'str'",
     "output_type": "error",
     "traceback": [
      "\u001b[0;31m-----------------------------------------------------------\u001b[0m",
      "\u001b[0;31mTypeError\u001b[0m                 Traceback (most recent call last)",
      "\u001b[0;32m<ipython-input-5-15c8b8fec19b>\u001b[0m in \u001b[0;36m<module>\u001b[0;34m()\u001b[0m\n\u001b[0;32m----> 1\u001b[0;31m \u001b[0madd\u001b[0m\u001b[0;34m(\u001b[0m\u001b[0;36m1\u001b[0m\u001b[0;34m,\u001b[0m \u001b[0;34m\"house\"\u001b[0m\u001b[0;34m)\u001b[0m\u001b[0;34m\u001b[0m\u001b[0m\n\u001b[0m",
      "\u001b[0;32m<ipython-input-1-4f7c0a8fdb4e>\u001b[0m in \u001b[0;36madd\u001b[0;34m(arg1, arg2)\u001b[0m\n\u001b[1;32m      1\u001b[0m \u001b[0;32mdef\u001b[0m \u001b[0madd\u001b[0m\u001b[0;34m(\u001b[0m\u001b[0marg1\u001b[0m\u001b[0;34m,\u001b[0m \u001b[0marg2\u001b[0m\u001b[0;34m)\u001b[0m\u001b[0;34m:\u001b[0m\u001b[0;34m\u001b[0m\u001b[0m\n\u001b[0;32m----> 2\u001b[0;31m    \u001b[0mx\u001b[0m \u001b[0;34m=\u001b[0m \u001b[0marg1\u001b[0m \u001b[0;34m+\u001b[0m \u001b[0marg2\u001b[0m\u001b[0;34m\u001b[0m\u001b[0m\n\u001b[0m\u001b[1;32m      3\u001b[0m    \u001b[0;32mreturn\u001b[0m \u001b[0mx\u001b[0m\u001b[0;34m\u001b[0m\u001b[0m\n",
      "\u001b[0;31mTypeError\u001b[0m: unsupported operand type(s) for +: 'int' and 'str'"
     ]
    }
   ],
   "source": [
    "add(1, \"house\")"
   ]
  },
  {
   "cell_type": "markdown",
   "metadata": {},
   "source": [
    "In the last example, an error occurs because the addition operator is not defined for an integer with a string.  This error is only thrown when we call the function with inappropriate arguments.\n",
    "\n",
    "The `return` statement can be called from anywhere within a function:"
   ]
  },
  {
   "cell_type": "code",
   "execution_count": 6,
   "metadata": {
    "collapsed": true
   },
   "outputs": [],
   "source": [
    "def power(x, y):\n",
    "   if x <= 0:\n",
    "     return 0.\n",
    "   else:\n",
    "     return x**y"
   ]
  },
  {
   "cell_type": "markdown",
   "metadata": {},
   "source": [
    "If no `return` statement is present within a function, or if the `return` statement is used without a return value, Python automatically returns the special value `None`:"
   ]
  },
  {
   "cell_type": "code",
   "execution_count": 7,
   "metadata": {
    "collapsed": true
   },
   "outputs": [],
   "source": [
    "def test(x):\n",
    "   print(\"%11.4e\" % x)\n",
    "   return"
   ]
  },
  {
   "cell_type": "code",
   "execution_count": 8,
   "metadata": {},
   "outputs": [
    {
     "name": "stdout",
     "output_type": "stream",
     "text": [
      " 1.0000e+00\n"
     ]
    }
   ],
   "source": [
    "ret = test(1)"
   ]
  },
  {
   "cell_type": "code",
   "execution_count": 9,
   "metadata": {},
   "outputs": [
    {
     "data": {
      "text/plain": [
       "True"
      ]
     },
     "execution_count": 9,
     "metadata": {},
     "output_type": "execute_result"
    }
   ],
   "source": [
    "ret == None"
   ]
  },
  {
   "cell_type": "code",
   "execution_count": 10,
   "metadata": {},
   "outputs": [
    {
     "data": {
      "text/plain": [
       "True"
      ]
     },
     "execution_count": 10,
     "metadata": {},
     "output_type": "execute_result"
    }
   ],
   "source": [
    "ret is None"
   ]
  },
  {
   "cell_type": "markdown",
   "metadata": {},
   "source": [
    "`None` is a reserved, special object in Python, similar to `True` and `False`.  It essentially means nothing, and will not appear using the `print` statement.  However, as seen in the above example, one can test for the `None` value using conditional equality or the `is` statement.\n",
    "\n",
    "If one wants a function that modifies its behavior depending on the type of the argument, it is possible to test for different types using the `type` function (though often it is regarded as bad practice to write functions which require the types of objects to be known or manipulated):"
   ]
  },
  {
   "cell_type": "code",
   "execution_count": 11,
   "metadata": {
    "collapsed": true
   },
   "outputs": [],
   "source": [
    "def add(arg1, arg2):\n",
    "   #test to see if one is a string and the other is not\n",
    "   if type(arg1) is str and not type(arg2) is str:\n",
    "     arg1convert = type(arg2)(arg1)\n",
    "     return arg1convert + arg2\n",
    "   elif not type(arg1) is str and type(arg2) is str:\n",
    "     arg2convert = type(arg1)(arg2)\n",
    "     return arg1 + arg2convert\n",
    "   else:\n",
    "     return arg1 + arg2   "
   ]
  },
  {
   "cell_type": "code",
   "execution_count": 12,
   "metadata": {},
   "outputs": [
    {
     "data": {
      "text/plain": [
       "41"
      ]
     },
     "execution_count": 12,
     "metadata": {},
     "output_type": "execute_result"
    }
   ],
   "source": [
    "add(1, \"40\")"
   ]
  },
  {
   "cell_type": "code",
   "execution_count": 13,
   "metadata": {},
   "outputs": [
    {
     "data": {
      "text/plain": [
       "41.0"
      ]
     },
     "execution_count": 13,
     "metadata": {},
     "output_type": "execute_result"
    }
   ],
   "source": [
    "add(40., \"1\")"
   ]
  },
  {
   "cell_type": "markdown",
   "metadata": {},
   "source": [
    "Notice that in this example, the `type(arg2)` statement is also used to return the function that converts generic objects to the type of `arg2`, e.g., `int`, `float`, or `complex`.  Thus the statement `type(arg2)(arg1)` actually runs this type-conversion function on the string `arg1` to convert it to the type of `arg2`.  \n",
    "\n",
    "Functions can return more than one value using Python's tuple capabilities.  To do so, specify a comma-separated list after the `return` statement:"
   ]
  },
  {
   "cell_type": "code",
   "execution_count": 14,
   "metadata": {
    "collapsed": true
   },
   "outputs": [],
   "source": [
    "def test(x, y):\n",
    "   a = x / y\n",
    "   b = x % y\n",
    "   return a, b"
   ]
  },
  {
   "cell_type": "code",
   "execution_count": 15,
   "metadata": {},
   "outputs": [
    {
     "data": {
      "text/plain": [
       "(2.5, 1)"
      ]
     },
     "execution_count": 15,
     "metadata": {},
     "output_type": "execute_result"
    }
   ],
   "source": [
    "test(5, 2)"
   ]
  },
  {
   "cell_type": "code",
   "execution_count": 16,
   "metadata": {},
   "outputs": [
    {
     "data": {
      "text/plain": [
       "2.5"
      ]
     },
     "execution_count": 16,
     "metadata": {},
     "output_type": "execute_result"
    }
   ],
   "source": [
    "c, d = test(5,2)\n",
    "c"
   ]
  },
  {
   "cell_type": "code",
   "execution_count": 17,
   "metadata": {},
   "outputs": [
    {
     "data": {
      "text/plain": [
       "1"
      ]
     },
     "execution_count": 17,
     "metadata": {},
     "output_type": "execute_result"
    }
   ],
   "source": [
    "d"
   ]
  },
  {
   "cell_type": "markdown",
   "metadata": {},
   "source": [
    "## Optional arguments in functions\n",
    "\n",
    "Arguments of functions can be optional.  Such optional arguments must have a default value, specified in the `def` statement.  If optional arguments are given when a function is called, the arguments will take on the supplied values.  If not, they will assume the default values:"
   ]
  },
  {
   "cell_type": "code",
   "execution_count": 18,
   "metadata": {
    "collapsed": true
   },
   "outputs": [],
   "source": [
    "def fmtWithUnits(x, format = \"%.3f\", unit = \"inches\"):\n",
    "   return format % x + \" \" + unit"
   ]
  },
  {
   "cell_type": "code",
   "execution_count": 19,
   "metadata": {},
   "outputs": [
    {
     "data": {
      "text/plain": [
       "'7.000 inches'"
      ]
     },
     "execution_count": 19,
     "metadata": {},
     "output_type": "execute_result"
    }
   ],
   "source": [
    "fmtWithUnits(7)"
   ]
  },
  {
   "cell_type": "code",
   "execution_count": 20,
   "metadata": {},
   "outputs": [
    {
     "data": {
      "text/plain": [
       "'7.0 inches'"
      ]
     },
     "execution_count": 20,
     "metadata": {},
     "output_type": "execute_result"
    }
   ],
   "source": [
    "fmtWithUnits(7, \"%.1f\")"
   ]
  },
  {
   "cell_type": "code",
   "execution_count": 21,
   "metadata": {},
   "outputs": [
    {
     "data": {
      "text/plain": [
       "'7.0 feet'"
      ]
     },
     "execution_count": 21,
     "metadata": {},
     "output_type": "execute_result"
    }
   ],
   "source": [
    "fmtWithUnits(7, \"%.1f\", \"feet\")"
   ]
  },
  {
   "cell_type": "code",
   "execution_count": 22,
   "metadata": {},
   "outputs": [
    {
     "data": {
      "text/plain": [
       "'7.000 feet'"
      ]
     },
     "execution_count": 22,
     "metadata": {},
     "output_type": "execute_result"
    }
   ],
   "source": [
    "fmtWithUnits(7, unit = \"feet\")"
   ]
  },
  {
   "cell_type": "markdown",
   "metadata": {},
   "source": [
    "Notice in the penultimate line that we needed to specify the unit optional argument explicitly, since we skipped the optional format one.  In general, it is good practice to explicitly specify optional arguments in this way whether or not one needs to, since this makes it clearer that the arguments in the call are optional:"
   ]
  },
  {
   "cell_type": "code",
   "execution_count": 23,
   "metadata": {},
   "outputs": [
    {
     "data": {
      "text/plain": [
       "'7.0 feet'"
      ]
     },
     "execution_count": 23,
     "metadata": {},
     "output_type": "execute_result"
    }
   ],
   "source": [
    "fmtWithUnits(7, format = \"%.1f\", unit = \"feet\")"
   ]
  },
  {
   "cell_type": "markdown",
   "metadata": {},
   "source": [
    "## Function namespaces\n",
    "\n",
    "Argument variables within functions exist in their own namespace.  This means that assignment of an argument to a new value does not affect the original value outside of the function.  Consider the following:"
   ]
  },
  {
   "cell_type": "code",
   "execution_count": 24,
   "metadata": {
    "collapsed": true
   },
   "outputs": [],
   "source": [
    "def increment(a):\n",
    "   a = a + 1\n",
    "   return a"
   ]
  },
  {
   "cell_type": "code",
   "execution_count": 25,
   "metadata": {},
   "outputs": [
    {
     "data": {
      "text/plain": [
       "6"
      ]
     },
     "execution_count": 25,
     "metadata": {},
     "output_type": "execute_result"
    }
   ],
   "source": [
    "a = 5\n",
    "increment(a)"
   ]
  },
  {
   "cell_type": "code",
   "execution_count": 26,
   "metadata": {},
   "outputs": [
    {
     "data": {
      "text/plain": [
       "5"
      ]
     },
     "execution_count": 26,
     "metadata": {},
     "output_type": "execute_result"
    }
   ],
   "source": [
    "a"
   ]
  },
  {
   "cell_type": "markdown",
   "metadata": {},
   "source": [
    "What happened here?  Because `a` is an argument variable defined in the `def` statement, it is treated as a new variable that exists only within the function.  Once the function has finished and the program exits it, this new `a` is destroyed in memory by Python's garbage-collecting routines.  The `a` that we defined outside of the function remains the same.\n",
    "\n",
    "How, then, does one modify variables using functions?  In other programming languages, you may have been used to sending variables to functions to change their values directly.  This is not a \"Pythonic\" way of doing things (a way which is considered good style or appropriate in the Python language).  Instead, the Pythonic approach is to use assignment to a function return value.  This is actually a clearer approach than the way of many other programming languages because it shows explicitly that the variable is being changed upon calling the function:"
   ]
  },
  {
   "cell_type": "code",
   "execution_count": 27,
   "metadata": {
    "collapsed": true
   },
   "outputs": [],
   "source": [
    "def increment(a):\n",
    "   return a + 1"
   ]
  },
  {
   "cell_type": "code",
   "execution_count": 28,
   "metadata": {},
   "outputs": [
    {
     "data": {
      "text/plain": [
       "6"
      ]
     },
     "execution_count": 28,
     "metadata": {},
     "output_type": "execute_result"
    }
   ],
   "source": [
    "a = 5\n",
    "a = increment(a)\n",
    "a"
   ]
  },
  {
   "cell_type": "markdown",
   "metadata": {},
   "source": [
    "There is one subtlety to this issue.  Mutable objects can actually be changed by functions if one uses object functions and/or element access.  Consider the following example that uses both to modify a list:"
   ]
  },
  {
   "cell_type": "code",
   "execution_count": 29,
   "metadata": {
    "collapsed": true
   },
   "outputs": [],
   "source": [
    "def modifylist(l):\n",
    "   l.append(5)\n",
    "   l[0] = 20"
   ]
  },
  {
   "cell_type": "code",
   "execution_count": 30,
   "metadata": {},
   "outputs": [
    {
     "data": {
      "text/plain": [
       "[20, 2, 3, 5]"
      ]
     },
     "execution_count": 30,
     "metadata": {},
     "output_type": "execute_result"
    }
   ],
   "source": [
    "l = [1, 2, 3]\n",
    "modifylist(l)\n",
    "l"
   ]
  },
  {
   "cell_type": "markdown",
   "metadata": {},
   "source": [
    "The reason for the distinction with mutable objects has to do with Python's name-binding approach.  Consider the following generic construct:"
   ]
  },
  {
   "cell_type": "raw",
   "metadata": {},
   "source": [
    "def fn(arg):\n",
    "   arg = newvalue\n",
    "x = value\n",
    "fn(x)"
   ]
  },
  {
   "cell_type": "markdown",
   "metadata": {},
   "source": [
    "When one calls `fn(x)`, Python creates the new variable arg within the function namespace and points it to the data residing in the spot of memory to which `x` points.  Setting `arg` equal to another value within the function simply has the effect of pointing arg to a new location in memory corresponding to newvalue, rather than changing the existing spot in memory associated with `x`.  Therefore, `x` remains unaffected.\n",
    "\n",
    "On the other hand, consider the following:"
   ]
  },
  {
   "cell_type": "raw",
   "metadata": {},
   "source": [
    "def fn(arg):\n",
    "   arg[index] = newvalue\n",
    "x = [values]\n",
    "fn(x)"
   ]
  },
  {
   "cell_type": "markdown",
   "metadata": {},
   "source": [
    "Here, in the second line, the bracket notation tells Python to do the following: find the area in memory where the indexth element of `arg` resides and put newvalue in it.  This occurs because the brackets after `arg` are actually treated as an object function of `arg`, and thus are inherently a function of the memory and data to which `arg` points.  A similar case would exist if we had called some object function that modified its contents, like `arg.sort()`.  In these cases, `x` would be modified outside of the function."
   ]
  },
  {
   "cell_type": "markdown",
   "metadata": {},
   "source": [
    "## Functions as objects\n",
    "\n",
    "As alluded to previously, functions are objects and thus can be sent to other functions as arguments.  Consider the following:"
   ]
  },
  {
   "cell_type": "code",
   "execution_count": 31,
   "metadata": {
    "collapsed": true
   },
   "outputs": [],
   "source": [
    "def squareme(x):\n",
    "   return x*x"
   ]
  },
  {
   "cell_type": "code",
   "execution_count": 32,
   "metadata": {
    "collapsed": true
   },
   "outputs": [],
   "source": [
    "def applytolist(l, fn):\n",
    "   return [fn(ele) for ele in l]"
   ]
  },
  {
   "cell_type": "code",
   "execution_count": 33,
   "metadata": {},
   "outputs": [
    {
     "data": {
      "text/plain": [
       "[1, 49, 81]"
      ]
     },
     "execution_count": 33,
     "metadata": {},
     "output_type": "execute_result"
    }
   ],
   "source": [
    "l = [1, 7, 9]\n",
    "applytolist(l, squareme)"
   ]
  },
  {
   "cell_type": "markdown",
   "metadata": {},
   "source": [
    "Here, we sent the `squareme` function to the `applytolist` function.  Notice that when we send a function to another function, we do not supply arguments.  If we had supplied arguments, we would have instead sent the return value of the function, rather than the function itself.\n",
    "\n",
    "**Python shows us that a function is an object**.  Consider, from the above example:"
   ]
  },
  {
   "cell_type": "code",
   "execution_count": 34,
   "metadata": {},
   "outputs": [
    {
     "data": {
      "text/plain": [
       "<function __main__.squareme>"
      ]
     },
     "execution_count": 34,
     "metadata": {},
     "output_type": "execute_result"
    }
   ],
   "source": [
    "squareme"
   ]
  },
  {
   "cell_type": "markdown",
   "metadata": {},
   "source": [
    "The information printed shows that this is a function.  We can also test the type:"
   ]
  },
  {
   "cell_type": "code",
   "execution_count": 35,
   "metadata": {},
   "outputs": [
    {
     "data": {
      "text/plain": [
       "function"
      ]
     },
     "execution_count": 35,
     "metadata": {},
     "output_type": "execute_result"
    }
   ],
   "source": [
    "type(squareme)"
   ]
  },
  {
   "cell_type": "markdown",
   "metadata": {},
   "source": [
    "Like other objects, we can perform assignment using functions:"
   ]
  },
  {
   "cell_type": "code",
   "execution_count": 36,
   "metadata": {
    "collapsed": true
   },
   "outputs": [],
   "source": [
    "def a(x, y):\n",
    "   return x+y"
   ]
  },
  {
   "cell_type": "code",
   "execution_count": 37,
   "metadata": {},
   "outputs": [
    {
     "data": {
      "text/plain": [
       "5"
      ]
     },
     "execution_count": 37,
     "metadata": {},
     "output_type": "execute_result"
    }
   ],
   "source": [
    "b = a\n",
    "b(1, 4)"
   ]
  },
  {
   "cell_type": "markdown",
   "metadata": {},
   "source": [
    "## Function documentation\n",
    "\n",
    "Functions can be self-documenting in Python.  A docstring can be written after the def statement that provides a description of what a function does.  This extremely useful for documenting your code and providing explanations that both you and subsequent users can use. The built-in help function uses docstrings to provide help about functions. **Get in the habit of always writing doc strings for your functions**, even before you write the code itself."
   ]
  },
  {
   "cell_type": "code",
   "execution_count": 38,
   "metadata": {
    "collapsed": true
   },
   "outputs": [],
   "source": [
    "def a(x, y):\n",
    "   \"\"\"Adds two variables x and y, of any type.  Returns single value.\"\"\"\n",
    "   return x + y"
   ]
  },
  {
   "cell_type": "code",
   "execution_count": 39,
   "metadata": {},
   "outputs": [
    {
     "name": "stdout",
     "output_type": "stream",
     "text": [
      "Help on function a in module __main__:\n",
      "\n",
      "a(x, y)\n",
      "    Adds two variables x and y, of any type.  Returns single value.\n",
      "\n"
     ]
    }
   ],
   "source": [
    "help(a)"
   ]
  },
  {
   "cell_type": "markdown",
   "metadata": {},
   "source": [
    "It is typical to enclose docstrings using triple-quotes, since complex functions might require longer, multi-line documentation.  It is a good habit to write docstrings for your code, and code should really not be regarded as complete until it has useful doc strings.  Each should contain three pieces of information: (1) a basic description of what the function does, (2) what the function expects as arguments, and (3) what the function returns (including the variable types)."
   ]
  },
  {
   "cell_type": "markdown",
   "metadata": {},
   "source": [
    "## Writing scripts\n",
    "\n",
    "So far, the examples we have covered have involved commands interpreted directly from the Python interactive prompt.  Python also supports scripts, or lists of commands and function definitions (and any other Python constructs) that are defined in files, similar to source code in other programming languages.  These scripts are no different from the commands and instructions that you would enter at the command prompt.  Python scripts end in the extension .py in all platforms.  \n",
    "\n",
    "Consider the following contents of a script file called [`primes.py`](primes.py) (also present in this directory) that finds all prime numbers less than or equal to 50:"
   ]
  },
  {
   "cell_type": "raw",
   "metadata": {},
   "source": [
    "def nextprime(primelist):\n",
    "    #find the maximum term in primelist and start one more than it\n",
    "    k = max(primelist) + 1\n",
    "    #starting at this number find the next integer that is \n",
    "    #not divisible by any number in primelist\n",
    "    while True:\n",
    "        FoundDivisor = False\n",
    "        #search current primes for a divisor; if found, k not a prime\n",
    "        for prime in primelist:\n",
    "            if k % prime == 0:\n",
    "                FoundDivisor = True\n",
    "                #break the loop since we don't need to test further\n",
    "                break\n",
    "        #check if we found any divisors\n",
    "        if FoundDivisor:\n",
    "            #try the next number\n",
    "            k += 1\n",
    "        else:\n",
    "            #found a prime; return it\n",
    "            return k\n",
    "\n",
    "#set the max prime\n",
    "upperlimit = 50\n",
    "\n",
    "#find all primes less than or equal to this value\n",
    "l = [2]\n",
    "while l[-1] < upperlimit:\n",
    "    l.append(nextprime(l))\n",
    "\n",
    "#trim out the last element, which is greater than upperlimit\n",
    "l = l[:-1]\n",
    "\n",
    "#print out the list\n",
    "print l "
   ]
  },
  {
   "cell_type": "markdown",
   "metadata": {},
   "source": [
    "We can run this program from the command line by calling Python with an argument that is the name of our script.  Python will run the contents of the file as if we typed them at the interactive prompt and then exit.  Under Windows, for example, this might look something like:"
   ]
  },
  {
   "cell_type": "raw",
   "metadata": {},
   "source": [
    "c:\\> python primes.py\n",
    "[2, 3, 5, 7, 11, 13, 17, 19, 23, 29, 31, 37, 41, 43, 47] \n",
    "c:\\>"
   ]
  },
  {
   "cell_type": "markdown",
   "metadata": {},
   "source": [
    "## Modules\n",
    "\n",
    "It is also possible to import scripts from within the Python interpreter.  When files of Python commands are imported in this way they are termed modules.  Modules are a major basis of programming efforts in Python as they allow you to organize reusable code that can be imported as necessary in specific programming applications.  Considering the previous example:"
   ]
  },
  {
   "cell_type": "code",
   "execution_count": 40,
   "metadata": {},
   "outputs": [
    {
     "name": "stdout",
     "output_type": "stream",
     "text": [
      "[2, 3, 5, 7, 11, 13, 17, 19, 23, 29, 31, 37, 41, 43, 47]\n"
     ]
    }
   ],
   "source": [
    "import primes"
   ]
  },
  {
   "cell_type": "code",
   "execution_count": 41,
   "metadata": {},
   "outputs": [
    {
     "data": {
      "text/plain": [
       "module"
      ]
     },
     "execution_count": 41,
     "metadata": {},
     "output_type": "execute_result"
    }
   ],
   "source": [
    "type(primes)"
   ]
  },
  {
   "cell_type": "code",
   "execution_count": 42,
   "metadata": {},
   "outputs": [
    {
     "data": {
      "text/plain": [
       "<function primes.nextprime>"
      ]
     },
     "execution_count": 42,
     "metadata": {},
     "output_type": "execute_result"
    }
   ],
   "source": [
    "primes.nextprime"
   ]
  },
  {
   "cell_type": "code",
   "execution_count": 43,
   "metadata": {},
   "outputs": [
    {
     "data": {
      "text/plain": [
       "[2, 3, 5, 7, 11, 13, 17, 19, 23, 29, 31, 37, 41, 43, 47]"
      ]
     },
     "execution_count": 43,
     "metadata": {},
     "output_type": "execute_result"
    }
   ],
   "source": [
    "primes.l"
   ]
  },
  {
   "cell_type": "markdown",
   "metadata": {},
   "source": [
    "Notice several features of this example:\n",
    "\n",
    "* Scripts are imported using the `import` command.  Upon processing the import statement, Python immediately executes the contents of the file primes.py file.  \n",
    "\n",
    "* One does not use the .py extension in the `import` command; Python assumes the file ends in this and is accessible in the current directory (if unchanged, the same directory from which Python was started).  If Python does not find the script to be imported in the current directory, it will search a specific path called PYTHONPATH, discussed later.\n",
    "\n",
    "* When Python executes the imported script, it creates an object from it of type module.  \n",
    "\n",
    "* Any objects created when running the imported file are not deleted but are placed as members of the module object.  In this way, we can access the functions and variables that were part of the module program by using dot notation, like primes.l and primes.nextprime.\n",
    "\n",
    "\n",
    "By making script objects members of the module, Python gives us a powerful way to write reusable code, i.e., code with generic functions and variables that we can import into programs.  Modules can also import other modules, so that we can have hierarchies of code with variable degrees of generality.\n",
    "\n",
    "\n",
    "Module objects can be created and modified just like any other object in Python:"
   ]
  },
  {
   "cell_type": "code",
   "execution_count": 44,
   "metadata": {},
   "outputs": [
    {
     "data": {
      "text/plain": [
       "[]"
      ]
     },
     "execution_count": 44,
     "metadata": {},
     "output_type": "execute_result"
    }
   ],
   "source": [
    "primes.l = []\n",
    "primes.l"
   ]
  },
  {
   "cell_type": "code",
   "execution_count": 45,
   "metadata": {},
   "outputs": [
    {
     "data": {
      "text/plain": [
       "5"
      ]
     },
     "execution_count": 45,
     "metadata": {},
     "output_type": "execute_result"
    }
   ],
   "source": [
    "primes.k = 5   #create new object in primes module\n",
    "primes.k"
   ]
  },
  {
   "cell_type": "markdown",
   "metadata": {},
   "source": [
    "Importing a module twice does not execute it twice:"
   ]
  },
  {
   "cell_type": "code",
   "execution_count": 46,
   "metadata": {},
   "outputs": [],
   "source": [
    "import primes"
   ]
  },
  {
   "cell_type": "markdown",
   "metadata": {},
   "source": [
    "Python will import a module only once, for reasons of efficiency (in the case, for instance, that many modules import the same sub-module).  This can be overridden using the reload function, which is itself in `importlib`:"
   ]
  },
  {
   "cell_type": "code",
   "execution_count": 47,
   "metadata": {},
   "outputs": [
    {
     "name": "stdout",
     "output_type": "stream",
     "text": [
      "[2, 3, 5, 7, 11, 13, 17, 19, 23, 29, 31, 37, 41, 43, 47]\n"
     ]
    },
    {
     "data": {
      "text/plain": [
       "<module 'primes' from '/Users/dmobley/github/drug-computing/other-materials/python-intro/primes.py'>"
      ]
     },
     "execution_count": 47,
     "metadata": {},
     "output_type": "execute_result"
    }
   ],
   "source": [
    "from importlib import reload\n",
    "reload(primes)"
   ]
  },
  {
   "cell_type": "markdown",
   "metadata": {},
   "source": [
    "Sometimes we want scripts to behave differently when we execute them at the command line versus import them into other programs.  Commonly we want the script to execute certain commands when run from the command line, but need to suppress this behavior when imported.  To achieve this, we need to test whether or not the program is being run from the command line.  Consider the following program:"
   ]
  },
  {
   "cell_type": "raw",
   "metadata": {},
   "source": [
    "#defined regardless of how we run / import this script\n",
    "def multiply(x, y):\n",
    "    return x*y\n",
    "\n",
    "if __name__ == \"__main__\":\n",
    "    #only executed if run directly from the command line\n",
    "    print multiply(4, 5)"
   ]
  },
  {
   "cell_type": "markdown",
   "metadata": {},
   "source": [
    "In the penultimate line, we test to see if the script `test.py` has been run from the command line.  The variable __name__ is a special variable that Python creates which tells us the name of the current module.  (There are many such special variables, and they are always identified by preceding and trailing double-underscores.)  Python gives the value of \"__main__\" to the variable __name__ if and only if that program is the main program and has been called from the command line (i.e., not imported).  Here is the behavior of our program at the command line:\n",
    "```\n",
    "python test.py\n",
    "20\n",
    "```"
   ]
  },
  {
   "cell_type": "markdown",
   "metadata": {},
   "source": [
    "And here is its behavior if we import it:"
   ]
  },
  {
   "cell_type": "code",
   "execution_count": 48,
   "metadata": {},
   "outputs": [
    {
     "data": {
      "text/plain": [
       "6"
      ]
     },
     "execution_count": 48,
     "metadata": {},
     "output_type": "execute_result"
    }
   ],
   "source": [
    "import test\n",
    "test.multiply(2, 3)"
   ]
  },
  {
   "cell_type": "markdown",
   "metadata": {},
   "source": [
    "Notice that Python does not execute the `multiply(4, 5)` command when we import, but we still have access to any functions or objects defined in `test.py`.\n",
    "\n",
    "\n",
    "It is not possible to use path names in the `import` statement.  Instead, by default, Python will look for modules in three places: (1) the current working directory, (2) a special directory or set of directories called `PYTHONPATH`, and (3) the standard Python installation.  The second location makes it convenient to store user-written reuseable code in a common folder.  `PYTHONPATH` is actually a system environment variable that Python looks for and can point to such a folder.  To set it on Windows machines, one needs to edit the system/environment variables (exact procedure depends on your version of Windows).  Then, `PYTHONPATH` can be added to the User Variables category with a value that is the name of a path where your common scripts are. On Mac, this is done by editing your environment variables such as your `~/.bash_profile` directory; help for this is provided elsewhere or via Google."
   ]
  },
  {
   "cell_type": "markdown",
   "metadata": {},
   "source": [
    "## Standard modules\n",
    "\n",
    "Python has a \"batteries included\" philosophy and therefore comes with a huge library of pre-written modules that accomplish a tremendous range of possible tasks.  It is beyond the scope of this tutorial to cover all but a small few of these.  However, here is a brief list of some of these modules that can come in handy for scientific programming:\n",
    "\n",
    "* `os` – functions for various operating system operations\n",
    "\n",
    "* `os.path` – functions for manipulating directory/folder path names\n",
    "\n",
    "* `sys` – functions for system-specific programs and services\n",
    "\n",
    "* `time` – functions for program timing and returning the current time/date in various formats\n",
    "\n",
    "* `filecmp` – functions for comparing files and directories\n",
    "\n",
    "* `tempfile` – functions for automatic creation and deletion of temporary files\n",
    "\n",
    "* `glob` – functions for matching wildcard-type file expressions (e.g., `*.txt`)\n",
    "\n",
    "* `shutil` – functions for high-level file operations (e.g., copying, moving files)\n",
    "\n",
    "* `struct` – functions for storing numeric data as compact, binary strings\n",
    "\n",
    "* `gzip, bz2, zipfile, tarfile` – functions for writing to and reading from various compressed file formats\n",
    "\n",
    "* `pickle` – functions for converting any Python object to a string that can be written to or subsequently read from a file\n",
    "\n",
    "* `hashlib` – functions for cryptography / encrypting strings\n",
    "\n",
    "* `socket` – functions for low-level networking \n",
    "\n",
    "* `popen2` – functions for running other programs and capturing their output\n",
    "\n",
    "* `urllib` – functions for grabbing data from internet servers\n",
    "\n",
    "* `smtplib` - functions for interfacing with SMTP (e-mail) servers\n",
    "\n",
    "* `audioop, imageop` – functions for manipulating raw audio and image data (e.g., cropping, resizing, etc.)\n",
    "\n",
    "\n",
    "A complete listing of all of the modules that come with Python are given in the Python Library Reference in the Python Documentation.  In addition to these modules, scientific computing often makes extensive use of various extremely valuable add-on modules that form part of a relatively standard scientific Python \"stack\". These include `numpy`, `scipy`, `matplotlib`, `scikit-learn`, and many others."
   ]
  }
 ],
 "metadata": {
  "kernelspec": {
   "display_name": "Python [conda root]",
   "language": "python",
   "name": "conda-root-py"
  },
  "language_info": {
   "codemirror_mode": {
    "name": "ipython",
    "version": 3
   },
   "file_extension": ".py",
   "mimetype": "text/x-python",
   "name": "python",
   "nbconvert_exporter": "python",
   "pygments_lexer": "ipython3",
   "version": "3.6.2"
  }
 },
 "nbformat": 4,
 "nbformat_minor": 1
}
