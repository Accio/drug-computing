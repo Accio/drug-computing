{
 "cells": [
  {
   "cell_type": "markdown",
   "metadata": {},
   "source": [
    "# A brief, basic introduction to Python for scientific computing - Chapter 1\n",
    "\n",
    "## Introduction/Overview\n",
    "\n",
    "Python is an extremely usable, high-level programming language that is quickly becoming a standard in scientific computing.  It is open source, completely standardized across different platforms (Windows / MacOS / Linux), immensely flexible, and easy to use and learn.  Programs written in Python are highly readable and often much shorter than comparable programs written in other languages like C or Fortran.  Moreover, Python comes pre-loaded with standard modules that provide a huge array of functions and algorithms, for tasks like parsing text data, manipulating and finding files on disk, reading/writing compressed files, and downloading data from web servers.  Python is also capable of all of the complex techniques that advanced programmers expect, like object orientation.\n",
    "\n",
    "Python is somewhat different than languages like C, C++, or Fortran.  In the latter, source code must first be compiled to an executable format before it can be run.  In Python, there is no compilation step; instead, source code is interpreted on the fly in a line-by-line basis.  That is, Python executes code as if it were a script.  The main advantage of an interpreted language is that it is flexible; variables do not need to be declared ahead of time, and the program can adapt on-the-fly.  The main disadvantage, however, is that numerically-intensive programs written in Python typically run slower than those in compiled languages.  This would seem to make Python a poor choice for scientific computing; however, time-intensive subroutines can be compiled in C or Fortran and imported into Python in such a manner that they appear to behave just like normal Python functions.  \n",
    "\n",
    "Fortunately, many common mathematical  and numerical routines have been pre-compiled to run very fast and grouped into two packages that can be added to Python in an entirely transparent manner.  The NumPy (Numeric Python) package provides basic routines for manipulating large arrays and matrices of numeric data.  The SciPy (Scientific Python) package extends the functionality of NumPy with a substantial collection of useful algorithms, like minimization, Fourier transformation, regression, and other applied mathematical techniques.  Both of these packages are also open source and growing in popularity in the scientific community.  With NumPy and SciPy, Python become comparable to, perhaps even more competitive than, expensive commercial packages like MatLab.\n",
    "\n",
    "This tutorial will cover the Python 3.x language version. Some packages still use the 2.7 series, but support is being dropped and modern packages must move to the 3.x series.\n",
    "\n",
    "## Getting started\n",
    "\n",
    "### Installation\n",
    "\n",
    "To use Python, one must install the base interpreter.  In addition, there are a number of applications that provide a nice GUI-driven editor for writing Python programs.  Currently the preferred method of installing Python on most platforms (Mac, Linux, Windows) is the Anaconda Python distribution, which is free and provides a wide variety of standard scientific Python packages as well as a built in package manager called `conda` which makes it easy to install a variety of other packages you might need. \n",
    "\n",
    "\n",
    "### Other Resources\n",
    "\n",
    "Python comes standard with extensive documentation.  This can typically be accessed via built-in help, such as typing `help` on the Python prompt. One can search through function and module definitions, or find general information on the language using the table of contents.  The entire manual, and many other helpful documents and links, can also be found at:\n",
    "\n",
    "http://docs.python.org\n",
    "\n",
    "The Python development community also maintains an extensive wiki.  In particular, for programming beginners, there are several pages of tutorials and help at:\n",
    "\n",
    "http://wiki.python.org/moin/BeginnersGuide\n",
    "\n",
    "For those who have had some programming experience and don't need to start learning Python from scratch, the Dive Into Python website is an excellent tutorial that can teach you most of the basics in a few hours:\n",
    "\n",
    "http://www.diveintopython3.net\n",
    "\n",
    "## Jupyter notebooks and the format of THIS document\n",
    "\n",
    "This document is formatted as a Jupyter notebook; Jupyter is a convenient way of running Python within your web browser, interspersed with documents and other types of images.\n",
    "Basic elements in Jupyter notebooks are cells (such as this one) which can hold \"markdown\" formatted text (plain text with special formatting symbols) or code (Python code, specifically); the former is simply displayed, while the latter can be run.\n",
    "Code blocks can typically be \"run\" to display the output of Python commands, so you should be able to run the examples in what follows and modify them as you like. Here is a sample code block; try it out by clicking on it and hitting shift-enter to evaluate it (or by clicking the \"run cell\" button at the top of your screen)."
   ]
  },
  {
   "cell_type": "code",
   "execution_count": 2,
   "metadata": {},
   "outputs": [
    {
     "data": {
      "text/plain": [
       "3"
      ]
     },
     "execution_count": 2,
     "metadata": {},
     "output_type": "execute_result"
    }
   ],
   "source": [
    "# This is a code block\n",
    "1+2"
   ]
  },
  {
   "cell_type": "markdown",
   "metadata": {},
   "source": [
    "## Using the interactive interpreter\n",
    "\n",
    "On your computer, you can start Python by typing \"python\" at a command prompt or terminal.  You should see something similar to the following (note that this is formatted as a code block but it will not \"run\"):"
   ]
  },
  {
   "cell_type": "code",
   "execution_count": null,
   "metadata": {},
   "outputs": [],
   "source": [
    "Python 3.6.2 |Anaconda custom (x86_64)| (default, Sep 21 2017, 18:29:43)\n",
    "[GCC 4.2.1 Compatible Clang 4.0.1 (tags/RELEASE_401/final)] on darwin\n",
    "Type \"help\", \"copyright\", \"credits\" or \"license\" for more information.\n",
    ">>>"
   ]
  },
  {
   "cell_type": "markdown",
   "metadata": {},
   "source": [
    "The \">>>\" at the bottom indicates that Python is awaiting your input.  This is the interactive interpreter; Python programs do not need to be compiled and commands can be entered directly, step-by-step.  In the interactive interpreter, Python reads your commands and gives responses:"
   ]
  },
  {
   "cell_type": "code",
   "execution_count": null,
   "metadata": {},
   "outputs": [],
   "source": [
    ">>> 1"
   ]
  },
  {
   "cell_type": "markdown",
   "metadata": {},
   "source": [
    "Here, in this Jupyter notebook, each code cell effectively functions as part of an interactive interpreter, so you will see very similar behavior (with some additional bells and whistles) compared to what you would see in the commmand line on your own computer.\n",
    "\n",
    "As we will show later, Python can also read scripts, or files that are pre-written lists of commands to execute in sequence.  With the exception that output after each line is suppressed when reading from a file, there is no difference in the way Python treats commands entered interactively, in Jupyter notebooks, and in scripts; the latter are simply read in as if they were typed at the interactive prompt or in a Jupyter notebook (except that Jupyter notebooks also provide some special commands).  This gives us a powerful way to test out commands in your programs by entering them interactively while writing code.\n",
    "\n",
    "Comments in Python are indicated using the \"#\" symbol.  Python ignores everything after them until reaching the end of the line."
   ]
  },
  {
   "cell_type": "code",
   "execution_count": null,
   "metadata": {},
   "outputs": [],
   "source": [
    ">>> 1 #I just entered the number 1"
   ]
  },
  {
   "cell_type": "markdown",
   "metadata": {},
   "source": [
    "Long commands in Python can be split across several lines using the line continuation character \"\\\".  When using this character, subsequent lines must be indented by exactly the same amount of space.  This is because spacing in Python is syntactic, as we will discuss in greater depth later."
   ]
  },
  {
   "cell_type": "code",
   "execution_count": null,
   "metadata": {},
   "outputs": [],
   "source": [
    ">>> 1.243 + (3.42839 - 4.394834) * 2.1 \\\n",
    "...   + 4.587 - 9.293 + 34.234 \\\n",
    "...   - 6.2 + 3.4"
   ]
  },
  {
   "cell_type": "markdown",
   "metadata": {},
   "source": [
    "Here, Python automatically draws the ellipses mark to indicate that the command you are entering spans more than one line.  Alternatively, lines are continued implicitly without using the \"\\\" character if enclosing characters (parenthesis, brackets) are present"
   ]
  },
  {
   "cell_type": "code",
   "execution_count": null,
   "metadata": {},
   "outputs": [],
   "source": [
    ">>> (1.243 + (3.42839 - 4.394834) * 2.1 \n",
    "...   + 4.587 - 9.293 + 34.234 \n",
    "...   - 6.2 + 3.4)"
   ]
  },
  {
   "cell_type": "markdown",
   "metadata": {},
   "source": [
    "Typically the use of parenthesis is preferred over the \"\\\" character for line continuation.\n",
    "\n",
    "It is uncommon in practice, but more than one command can be entered on the same line in a Python script using the \";\" symbol:"
   ]
  },
  {
   "cell_type": "code",
   "execution_count": 4,
   "metadata": {},
   "outputs": [
    {
     "name": "stdout",
     "output_type": "stream",
     "text": [
      "5\n",
      "4\n"
     ]
    }
   ],
   "source": [
    ">>> print(1 + 4); print(6 - 2)"
   ]
  },
  {
   "cell_type": "markdown",
   "metadata": {},
   "source": [
    "Avoid using this notation in programs that you write, as it will make your code more dense and less legible.\n",
    "\n",
    "There is a generic help function in Python that will tell you about almost everything.  For example, it will tell you what the proper arguments for a function are:"
   ]
  },
  {
   "cell_type": "code",
   "execution_count": null,
   "metadata": {},
   "outputs": [],
   "source": [
    ">>> help(sum)"
   ]
  },
  {
   "cell_type": "markdown",
   "metadata": {},
   "source": [
    "The help function will even work with functions and variables that you create yourself, and Python provides a very easy way to add extra descriptive text that the help function can use, as we will discuss later on.\n",
    "\n",
    "Python is a case sensitive language.  \n",
    "\n",
    "That means that variables and functions must be given the correct case in order to be recognized.  Similarly, the following two variables are different:"
   ]
  },
  {
   "cell_type": "code",
   "execution_count": null,
   "metadata": {},
   "outputs": [],
   "source": [
    ">>> Var = 1\n",
    ">>> var = 2"
   ]
  },
  {
   "cell_type": "code",
   "execution_count": null,
   "metadata": {},
   "outputs": [],
   "source": [
    ">>> Var"
   ]
  },
  {
   "cell_type": "code",
   "execution_count": null,
   "metadata": {},
   "outputs": [],
   "source": [
    ">>> var"
   ]
  },
  {
   "cell_type": "markdown",
   "metadata": {},
   "source": [
    "To exit the Python interactive prompt on your computer (not relevant for Jupyter notebooks, as here), we need to use an end-of-file character.  Under Windows, this corresponds to the Ctrl-Z key combination; in Linux, it corresponds to Ctrl-D.  Alternatively, one can use the exit() function:"
   ]
  },
  {
   "cell_type": "code",
   "execution_count": null,
   "metadata": {
    "collapsed": true
   },
   "outputs": [],
   "source": [
    ">>> exit()"
   ]
  }
 ],
 "metadata": {
  "kernelspec": {
   "display_name": "Python [default]",
   "language": "python",
   "name": "python3"
  },
  "language_info": {
   "codemirror_mode": {
    "name": "ipython",
    "version": 3
   },
   "file_extension": ".py",
   "mimetype": "text/x-python",
   "name": "python",
   "nbconvert_exporter": "python",
   "pygments_lexer": "ipython3",
   "version": "3.6.2"
  }
 },
 "nbformat": 4,
 "nbformat_minor": 1
}
