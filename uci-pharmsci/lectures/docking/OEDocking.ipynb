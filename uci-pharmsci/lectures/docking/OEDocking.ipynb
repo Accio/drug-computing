{
 "cells": [
  {
   "cell_type": "markdown",
   "metadata": {},
   "source": [
    "# Docking molecules into a pre-defined binding site\n",
    "\n",
    "In previous tutorials, you should have learned how to generate the full 3D structures starting from a given SMILES string. Now, we will take those 3D molecules and dock them into a pre-prepared receptor file that has the protein binding site already defined. To prepare a receptor file for docking, see the [MAKE_RECEPTOR](https://docs.eyesopen.com/oedocking/make_receptor_gui.html) docs for the OpenEye Toolkits. \n",
    "\n",
    "In this tutorial we will be using the docking method [FRED](https://docs.eyesopen.com/oedocking/fred.html) which is used in cases where the protein does not have a bound ligand, but we define a region or box to dock our molecules to."
   ]
  },
  {
   "cell_type": "code",
   "execution_count": 1,
   "metadata": {
    "collapsed": true
   },
   "outputs": [],
   "source": [
    "#Import our required openeye modules\n",
    "from openeye import oechem, oedocking"
   ]
  },
  {
   "cell_type": "code",
   "execution_count": 2,
   "metadata": {
    "collapsed": true
   },
   "outputs": [],
   "source": [
    "#Define file path and initialize receptor variable\n",
    "receptor_file = 'sEH-receptor.oeb'\n",
    "receptor = oechem.OEGraphMol()\n",
    "\n",
    "#Read in our receptor from disc\n",
    "if not oedocking.OEReadReceptorFile( receptor, str( receptor_file ) ):\n",
    "    # raise an exception if the receptor file cannot be read\n",
    "    raise Exception(\"Unable to read receptor from {0}\".format( receptor_file ))"
   ]
  },
  {
   "cell_type": "code",
   "execution_count": 3,
   "metadata": {
    "collapsed": true
   },
   "outputs": [],
   "source": [
    "#Set the docking method and other paramters\n",
    "# Note: Chemgauss4 is the scoring function for FRED\n",
    "dock_method = oedocking.OEDockMethod_Chemgauss4\n",
    "dock_resolution = oedocking.OESearchResolution_Default\n",
    "sdtag = oedocking.OEDockMethodGetName( dock_method )\n",
    "\n",
    "#Generate our OEDocking object\n",
    "dock = oedocking.OEDock( dock_method, dock_resolution)\n",
    "\n",
    "#Initialize the OEDocking by providing it the receptor\n",
    "if not dock.Initialize(receptor):\n",
    "    # raise an exception if the receptor cannot be initialized\n",
    "    raise Exception(\"Unable to initialize Docking with {0}\".format(self.args.receptor))"
   ]
  },
  {
   "cell_type": "markdown",
   "metadata": {},
   "source": [
    "Now that we have initialized our OEDocking object with our receptor, let's write a function that will take in the following input parameters:\n",
    "    - dock: OEDock object\n",
    "    - sdtag: string representing the name of the docking method\n",
    "    - numpose: int with the number of poses to generate for each ligand\n",
    "    - mcmol: multicomformer molecule"
   ]
  },
  {
   "cell_type": "code",
   "execution_count": 4,
   "metadata": {
    "collapsed": true,
    "deletable": true,
    "editable": true
   },
   "outputs": [],
   "source": [
    "def dock_molecule( dock: \"OEDock\", sdtag: str, num_poses: int, mcmol ) -> tuple:\n",
    "    ''' Docks the multiconfomer molecule, with the given number of poses\n",
    "        Returns a tuple of the docked molecule (dockedMol) and its score\n",
    "        i.e. ( dockedMol, score )\n",
    "    '''\n",
    "    dockedMol = oechem.OEMol()\n",
    "\n",
    "    #Dock the molecule into a given number of poses\n",
    "    res = dock.DockMultiConformerMolecule(dockedMol, mcmol, num_poses)\n",
    "    \n",
    "    if res == oedocking.OEDockingReturnCode_Success:\n",
    "        \n",
    "        #Annotate the molecule with the score and SDTag that contains the docking method\n",
    "        oedocking.OESetSDScore(dockedMol, dock, sdtag)\n",
    "        dock.AnnotatePose(dockedMol)\n",
    "        score = dock.ScoreLigand(dockedMol)\n",
    "        oechem.OESetSDData(dockedMol, sdtag, \"{}\".format(score))\n",
    "        return dockedMol, score\n",
    "    \n",
    "    else:\n",
    "        # raise an exception if the docking is not successful\n",
    "        raise Exception(\"Unable to dock ligand {0} to receptor\".format( dockedMol ))"
   ]
  },
  {
   "cell_type": "markdown",
   "metadata": {},
   "source": [
    "With the docking function written, we can then loop over our 3D molecules and dock them to the given receptor"
   ]
  },
  {
   "cell_type": "code",
   "execution_count": 5,
   "metadata": {
    "collapsed": false
   },
   "outputs": [
    {
     "name": "stdout",
     "output_type": "stream",
     "text": [
      "Chemgauss4 V2Z_1 score = -11.0289\n",
      "Chemgauss4 6NM_2 score = -13.2391\n",
      "Chemgauss4 6NM_1 score = -13.2391\n",
      "Chemgauss4 KWB_1 score = -10.9041\n",
      "Chemgauss4 6NJ_1 score = -11.7682\n",
      "Chemgauss4 6NJ_2 score = -12.3281\n",
      "Chemgauss4 FCW_1 score = -11.5328\n",
      "Chemgauss4 BSU_1 score = -11.2830\n",
      "Chemgauss4 WMR_1 score = -10.0978\n",
      "Chemgauss4 5ZM_1 score = -11.9286\n",
      "Chemgauss4 6NF_1 score = -10.8372\n",
      "Chemgauss4 WMR_2 score = -11.9275\n",
      "Chemgauss4 GZP_1 score = -12.4088\n",
      "Chemgauss4 6NF_2 score = -10.8372\n",
      "Chemgauss4 9XZ_1 score = -11.1971\n",
      "Chemgauss4 T5J_1 score = -12.6881\n",
      "Chemgauss4 LWS_1 score = -10.4294\n",
      "Chemgauss4 B7H_1 score = -11.0405\n",
      "Chemgauss4 6NZ_1 score = -11.1256\n",
      "Chemgauss4 8TM_1 score = -12.8298\n",
      "Chemgauss4 DUL_1 score = -11.9211\n",
      "Chemgauss4 7GM_1 score = -10.5626\n",
      "Chemgauss4 JQN_1 score = -12.0121\n"
     ]
    }
   ],
   "source": [
    "#Define how many docked poses to generate per molecule\n",
    "num_poses = 2\n",
    "\n",
    "#Read in our 3D molecules \n",
    "with oechem.oemolistream('c0-chgd.oeb.gz') as ifs:\n",
    "    \n",
    "    #Open a filestream for writing the docked molecules\n",
    "    with oechem.oemolostream( 'c0-dockd.oeb.gz') as ofs:\n",
    "        \n",
    "        #Loop over 3D molecules from the input filestream\n",
    "        for mcmol in ifs.GetOEMols():\n",
    "            \n",
    "            #Call our written docking function\n",
    "            dockedMol, score = dock_molecule( dock, sdtag, num_poses, mcmol )\n",
    "            print(\"{} {} score = {:.4f}\".format(sdtag, dockedMol.GetTitle(), score))\n",
    "            \n",
    "            #Write docked molecules to output filestream\n",
    "            oechem.OEWriteMolecule(ofs, dockedMol)"
   ]
  },
  {
   "cell_type": "markdown",
   "metadata": {},
   "source": [
    "# Visualizing the ligands\n",
    "\n",
    "To visualize the ligands in their docked poses, you will need OpenEye's visualization application called [VIDA](https://www.eyesopen.com/vida).\n",
    "\n",
    "If you want to view them within the binding site you will need to load both the docked molecules file and the receptor file.\n",
    "> vida c0-dockd.oeb.gz  sEH-receptor.oeb\n",
    "\n",
    "\n",
    "## Changing the view settings\n",
    "If the protein is not being displayed at first, simply toggle the green button from the list view menu (shown below):\n",
    "![Toggle](imgs/listview.png)\n",
    "\n",
    "\n",
    "I like to turn on the ribbon representation for the protein (shown below):\n",
    "![Ribbons](imgs/ribbons.png)\n",
    "\n",
    "\n",
    "Now, if you toggle the green button from the list view for the ligands, you will see the 2 docked poses generated for the selected ligand. You can also hit `Center` to move the ligand into the center view.\n",
    "![Ligands](imgs/listligand.png)\n",
    "![6NJ_1-poses](imgs/6NJ_1-poses.png)\n"
   ]
  },
  {
   "cell_type": "markdown",
   "metadata": {},
   "source": [
    "# Acknowledgements\n",
    "\n",
    "- Authors: Meghan Osato, Nathan M. Lim"
   ]
  },
  {
   "cell_type": "code",
   "execution_count": null,
   "metadata": {
    "collapsed": true
   },
   "outputs": [],
   "source": []
  }
 ],
 "metadata": {
  "kernelspec": {
   "display_name": "bluesdev",
   "language": "python",
   "name": "bluesdev"
  },
  "language_info": {
   "codemirror_mode": {
    "name": "ipython",
    "version": 3
   },
   "file_extension": ".py",
   "mimetype": "text/x-python",
   "name": "python",
   "nbconvert_exporter": "python",
   "pygments_lexer": "ipython3",
   "version": "3.5.3"
  }
 },
 "nbformat": 4,
 "nbformat_minor": 2
}
