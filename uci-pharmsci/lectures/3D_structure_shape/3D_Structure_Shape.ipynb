{
 "cells": [
  {
   "cell_type": "markdown",
   "metadata": {},
   "source": [
    "# Working with molecules in Python: OpenEye toolkits, 3D structures, and shape overlays\n",
    "\n",
    "Often, we have a molecule or set of molecules we would like to work with as part of some workflow, and we need a way to load the molecule so we can interact with it. Perhaps we only have its name, or [SMILES string](http://en.wikipedia.org/wiki/Simplified_molecular-input_line-entry_system). Or maybe we have it in a line-drawing format such as from ChemDraw, MarvinSketch, or ChemDoodle. Or maybe we have the molecule from a co-crystal structure with a protein - so we have the approximate coordinates of heavy atoms but we are missing bonding information and proton coordinates. Regardless, we will typically want to load this molecule and be able to manipulate it. Let's assume here we do NOT have the full 3D coordinates of all of the atoms. So we will need to generate these somehow.\n",
    "\n",
    "For today's class, we will consider a couple simple problems which are useful in their own right, and help provide an intro into the [OpenEye toolkits](www.eyesopen.com) which we will use for manipulating molecules in this class:\n",
    "1. Loading molecules from files/names/SMILES\n",
    "2. Generating 3D conformations\n",
    "3. Doing shape overlays \n",
    "4. Writing out the final molecules\n",
    "\n",
    "Before getting carried away on this, though, I should point out that the [OpenEye Python toolkit documentation](http://docs.eyesopen.com/toolkits/python/) is readily available, and they also have a [cookbook](https://docs.eyesopen.com/toolkits/cookbook/python/) with a variety of interesting examples.\n",
    "\n",
    "## Here we will draw mainly on five OpenEye toolkits\n",
    "* OEChem: The generic OpenEye chemistry toolkit, for working with molecules (reading/writing, traversing atoms/bonds, etc)\n",
    "* OEOmega: Omega is OpenEye's toolkit for working with molecular conformations/generating 3D conformations\n",
    "* OEShape: Their shape toolkit, for doing things like shape overlays of molecules\n",
    "* OEIUPAC: For working with chemical naming\n",
    "* OEDepict: For depiction of small molecules\n",
    "\n",
    "We need to start off by importing these so we can work with them here (REMINDER: be sure to shift-enter/hit play in the box below to evaluate it so that you import these for yourself):"
   ]
  },
  {
   "cell_type": "code",
   "execution_count": 1,
   "metadata": {
    "collapsed": true
   },
   "outputs": [],
   "source": [
    "from openeye.oechem import *\n",
    "from openeye.oeiupac import *\n",
    "from openeye.oeomega import *\n",
    "from openeye.oeshape import *\n",
    "from openeye.oedepict import *"
   ]
  },
  {
   "cell_type": "markdown",
   "metadata": {},
   "source": [
    "## Not everyone will have ChemDraw, so I like to recommend MarvinSketch\n",
    "* There's an [online (web-based) version](https://www.chemaxon.com/marvin/sketch/index.php)\n",
    "* As well as a [free downloadable version](https://www.chemaxon.com/products/marvin/marvinsketch/)\n",
    "\n",
    "With Marvin you should be able to easily make some molecules and download them in various formats for manipulating here. Draw a molecule you'd like to work on, then you can access it in several formats:\n",
    "* For SMILES: Select the molecule, choose \"Edit\">\"Copy as Smiles\"\n",
    "* For compound name: Choose \"Structure\">\"Structure to name\">\"Generate name\"\n",
    "* For a file: Select the molecule, choose \"File\">\"Save as...\" and select your file format. MDL .mol files are fairly universal.\n",
    "\n",
    "Below, we'll look at examples of loading molecules from all three formats using the OpenEye toolkits. As a starting point let's take this molecule drawn in Marvin:\n",
    "\n",
    "<img src=\"Marvin_molecule.png\">\n",
    "\n",
    "We obtain the SMILES and compound name (\"CC1=CC2=C(C=C1)C(Cl)=CC=C2\" and \"1-chloro-6-methylnapthalene\", respectively) and I exported the molecule to \"Marvin_molecule.mol\".\n",
    "\n",
    "\n",
    "## Next we load the molecule \n",
    "\n",
    "Now we move to Python to load the molecule:"
   ]
  },
  {
   "cell_type": "code",
   "execution_count": 2,
   "metadata": {
    "collapsed": false
   },
   "outputs": [
    {
     "data": {
      "text/plain": [
       "True"
      ]
     },
     "execution_count": 2,
     "metadata": {},
     "output_type": "execute_result"
    }
   ],
   "source": [
    "#First, we create an empty OEChem molecule object which we will store our molecule into\n",
    "mol_from_smiles = OEMol()\n",
    "\n",
    "#Next we grab our SMILES string from Marvin\n",
    "smiles = \"CC1=CC2=C(C=C1)C(Cl)=CC=C2\"\n",
    "\n",
    "#Then we parse the SMILES string\n",
    "OEParseSmiles(mol_from_smiles, smiles)\n",
    "\n",
    "#If successful, we should see no error message and the function will output 'True'. \n",
    "#We could catch this in a variable if we wanted.\n"
   ]
  },
  {
   "cell_type": "code",
   "execution_count": 3,
   "metadata": {
    "collapsed": false
   },
   "outputs": [
    {
     "data": {
      "text/plain": [
       "True"
      ]
     },
     "execution_count": 3,
     "metadata": {},
     "output_type": "execute_result"
    }
   ],
   "source": [
    "#Next, let's work from the IUPAC name\n",
    "mol_from_name = OEMol()\n",
    "\n",
    "#Store our name\n",
    "name = \"1-chloro-6-methylnapthalene\"\n",
    "\n",
    "#Parse the name\n",
    "OEParseIUPACName(mol_from_name, name)\n",
    "\n",
    "#Again, if successful, we should see no error message and the function will output 'True'."
   ]
  },
  {
   "cell_type": "code",
   "execution_count": 4,
   "metadata": {
    "collapsed": false
   },
   "outputs": [],
   "source": [
    "#Finally, let's proceed to reading our molecule in from a file\n",
    "\n",
    "#First, we need to initialize an OpenEye \"molecule stream\" to read from a file - in this case an input stream\n",
    "istream = oemolistream( 'Marvin_molecule.mol') #oemolistream is an openeye molecule input stream. We name it istream\n",
    "\n",
    "#Next we create a molecule object\n",
    "mol_from_file = OEMol()\n",
    "\n",
    "#We read the molecule\n",
    "OEReadMolecule( istream, mol_from_file)\n",
    "\n",
    "#Close our file\n",
    "istream.close()\n",
    "\n",
    "#Here there should be no message if successful."
   ]
  },
  {
   "cell_type": "markdown",
   "metadata": {},
   "source": [
    "## We can also draw molecules from the OpenEye toolkits!"
   ]
  },
  {
   "cell_type": "code",
   "execution_count": 5,
   "metadata": {
    "collapsed": false
   },
   "outputs": [
    {
     "data": {
      "image/png": "[encoded data removed]",
      "text/plain": [
       "<IPython.core.display.Image object>"
      ]
     },
     "execution_count": 5,
     "metadata": {},
     "output_type": "execute_result"
    }
   ],
   "source": [
    "# Import Image from Ipython\n",
    "from IPython.display import Image\n",
    "\n",
    "# Set width, height, and whether or not to display hydrogens\n",
    "width=500\n",
    "height=200\n",
    "supH = True #Suppress hydrogens?\n",
    "\n",
    "# Prepare depiction/options\n",
    "mol = oechem.OEMol(mol_from_smiles) # Create new OEMol; without this, it might flatten your molecule\n",
    "dopt = OEPrepareDepictionOptions()\n",
    "dopt.SetDepictOrientation( OEDepictOrientation_Horizontal)\n",
    "dopt.SetSuppressHydrogens(supH)\n",
    "OEPrepareDepiction(mol, dopt)\n",
    "opts = OE2DMolDisplayOptions(width, height, OEScale_AutoScale)\n",
    "disp = OE2DMolDisplay(mol, opts)\n",
    "img = OEImage(width, height)\n",
    "OERenderMolecule(img,disp)\n",
    "\n",
    "# Actually generate image\n",
    "Image(OEWriteImageToString(\"png\",img))"
   ]
  },
  {
   "cell_type": "markdown",
   "metadata": {},
   "source": [
    "### A quick comment on generality: Use SMILES or files whenever possible\n",
    "It is worth noting that the most generally useful of these approaches are those involving SMILES strings and files. Chemical names quickly become rather difficult to parse, and it's not too difficult to come up with molecules which can't be handled by automatic name parsing or generation tools. This is especially true when going between software packages - for example, I can easily come up with compounds that Marvin can name with names that the OpenEye tools can't understand or vise versa. In large part, this is simply because chemical names are not a very efficient or easily-interpretable way of representing compounds. SMILES are a far simpler one-dimensional representation, and if 2D or 3D info is needed, files are far preferable.\n",
    "\n",
    "### Next, we should make sure our molecules actually parsed properly. Let's do so by asking for some very simple information about each of them to make sure it matches:"
   ]
  },
  {
   "cell_type": "code",
   "execution_count": 6,
   "metadata": {
    "collapsed": false
   },
   "outputs": [
    {
     "name": "stdout",
     "output_type": "stream",
     "text": [
      "Number of atoms:  12\n",
      "Number of atoms:  12\n",
      "Number of atoms:  12\n"
     ]
    }
   ],
   "source": [
    "#First, we set up a 'for' loop over the three molecules we generated so we can apply the same commands to each\n",
    "for mol in [mol_from_smiles, mol_from_name, mol_from_file]:\n",
    "    #Now let's print some properties of our molecule\n",
    "    print(\"Number of atoms: \", mol.NumAtoms())\n",
    "    "
   ]
  },
  {
   "cell_type": "markdown",
   "metadata": {},
   "source": [
    "### Let's do a quick exercise: Check that this worked properly by checking the atomic number of your atoms\n",
    "__Use the OpenEye toolkit [documentation on atom properties](http://docs.eyesopen.com/toolkits/python/oechemtk/atomproperties.html), plus the example code snippet below, to update the code above to print out the atomic number of all the atoms__. \n",
    "\n",
    "The code snippet is intended to illustrate how you can use a `for` loop to traverse the atoms within a molecule (in this case, with a boring result):"
   ]
  },
  {
   "cell_type": "code",
   "execution_count": 29,
   "metadata": {
    "collapsed": false
   },
   "outputs": [
    {
     "name": "stdout",
     "output_type": "stream",
     "text": [
      "0\n",
      "0\n",
      "0\n",
      "0\n",
      "0\n",
      "0\n",
      "0\n",
      "0\n",
      "0\n",
      "0\n",
      "0\n",
      "0\n"
     ]
    }
   ],
   "source": [
    "for atom in mol.GetAtoms():\n",
    "    print(atom.GetFormalCharge())\n",
    "    "
   ]
  },
  {
   "cell_type": "markdown",
   "metadata": {},
   "source": [
    "## Next, we want to generate 3D coordinates for our molecule. At this point, all we have is a 1D or 2D representation of the Chemistry. \n",
    "Molecules are inherently three-dimensional, but at this point all we have is flat (one- or two-dimensional) information about our molecules. To move forward - doing any type of modeling or visualization aside from using a 2D viewer like ChemDraw or Marvin - we need to generate 3D coordinates. Even if we are going to feed our molecule into QM software to do some calculations, we still need an initial structure. Where do we get it?\n",
    "\n",
    "The OpenEye toolkits provide a starting point via Omega, a tool for building up a reasonable estimate of the likely solvated conformations of a molecule out of molecular fragment libraries. More on the theory is available in the [Omega theory documentation](http://docs.eyesopen.com/toolkits/python/omegatk/omegatheory.html).\n",
    "\n",
    "So here, let's go ahead and generate a 3D conformation of our molecule:"
   ]
  },
  {
   "cell_type": "code",
   "execution_count": 30,
   "metadata": {
    "collapsed": false
   },
   "outputs": [
    {
     "name": "stdout",
     "output_type": "stream",
     "text": [
      "21\n"
     ]
    }
   ],
   "source": [
    "#First we set up Omega\n",
    "omega = OEOmega() #Initialize class\n",
    "omega.SetMaxConfs(1) #Only generate one conformer for our molecule\n",
    "omega.SetStrictStereo(False) #Set to False to pick random stereoisomer if stereochemistry is not specified (not relevant here)\n",
    "omega.SetStrictAtomTypes(False) #Be a little loose about atom typing to ensure parameters are available to omega for all molecules\n",
    "\n",
    "#Let's create a new molecule from our old molecule\n",
    "mol = OEMol(mol_from_file)\n",
    "\n",
    "#Now we generate conformations for our molecule from above. \n",
    "omega(mol)\n",
    "print(mol.NumAtoms())\n",
    "\n",
    "#If this works properly, you should get a number below\n",
    "#You might notice that it differs from the number you got above. Why?"
   ]
  },
  {
   "cell_type": "markdown",
   "metadata": {},
   "source": [
    "### Let's also write this molecule out so you can visualize it in a molecular viewer like PyMol"
   ]
  },
  {
   "cell_type": "code",
   "execution_count": 31,
   "metadata": {
    "collapsed": true
   },
   "outputs": [],
   "source": [
    "#First we create an output stream (just like we did for an input stream)\n",
    "ostream = oemolostream( 'mymolecule.mol2')\n",
    "#Now we write our molecule\n",
    "OEWriteMolecule(ostream, mol)\n",
    "#And close the output stream\n",
    "ostream.close()"
   ]
  },
  {
   "cell_type": "markdown",
   "metadata": {},
   "source": [
    "## Next, we move to considering shape overlays (an aspect of ligand-based design) which we will discuss more later\n",
    "\n",
    "\n",
    "### Shape overlays can provide valuable information on the structure of an active site or binding pocket\n",
    "Shape overlays are motivated based on the idea that ligands of the same receptor often bear substantial 3D shape and chemical similarity, despite substantial differences in two-dimensional structure. Thus looking at the likely shape of ligands which bind to a receptor can provide valuable information on binding site shape and structure, even in the absence of detailed information about the structure of the receptor.\n",
    "\n",
    "<img src = \"morphine_tramadol.png\">\n",
    "This figure, from [Sun et al., Drug Discov Today. 2012 Apr; 17(7-8): 310–324.](http://www.ncbi.nlm.nih.gov/pmc/articles/PMC3328312/), shows the shape overlay of tramadol onto morphine. Despite not having obvious chemical similarity, they have very high shape similarity. This provides an early example of \"scaffold hopping\", where the basic scaffold of a molecule is dramatically changed while retaining activity agains the same target. \n",
    "\n",
    "### Let's try and reproduce the shape overlay from Sun et al. to see how this ought to work. We start by generating the molecules:"
   ]
  },
  {
   "cell_type": "code",
   "execution_count": 32,
   "metadata": {
    "collapsed": false
   },
   "outputs": [
    {
     "data": {
      "text/plain": [
       "True"
      ]
     },
     "execution_count": 32,
     "metadata": {},
     "output_type": "execute_result"
    }
   ],
   "source": [
    "#Let's first generate morphine and tramadol from their names\n",
    "morphine= OEMol()\n",
    "OEParseIUPACName(morphine, 'morphine')\n",
    "#Make sure we get 'True' so we know it worked:"
   ]
  },
  {
   "cell_type": "code",
   "execution_count": 33,
   "metadata": {
    "collapsed": false
   },
   "outputs": [
    {
     "data": {
      "text/plain": [
       "False"
      ]
     },
     "execution_count": 33,
     "metadata": {},
     "output_type": "execute_result"
    }
   ],
   "source": [
    "#What about tramadol?\n",
    "tramadol = OEMol()\n",
    "OEParseIUPACName(tramadol, 'tramadol')"
   ]
  },
  {
   "cell_type": "code",
   "execution_count": 34,
   "metadata": {
    "collapsed": false
   },
   "outputs": [
    {
     "data": {
      "text/plain": [
       "True"
      ]
     },
     "execution_count": 34,
     "metadata": {},
     "output_type": "execute_result"
    }
   ],
   "source": [
    "#Whoops, that doesn't work. So we pull the IUPAC name from Wikipedia.\n",
    "OEParseIUPACName(tramadol, '2-[(Dimethylamino)methyl]-1-(3-methoxyphenyl)cyclohexanol')"
   ]
  },
  {
   "cell_type": "markdown",
   "metadata": {},
   "source": [
    "As an exercise, you might want to depict tramadol to see if this worked properly. "
   ]
  },
  {
   "cell_type": "markdown",
   "metadata": {},
   "source": [
    "### Now we need to generate 3D conformations for the molecules:"
   ]
  },
  {
   "cell_type": "code",
   "execution_count": 40,
   "metadata": {
    "collapsed": false
   },
   "outputs": [],
   "source": [
    "#We make sure Omega is loaded and initialized\n",
    "#This time we want to consider multiple conformations, since the OpenEye shape toolkit will just do a rigid\n",
    "#overlay of whatever conformations we give it onto one another. But here, at least one of the molecules\n",
    "#has substantial flexibility, and we want to find the conformation which results in the best match\n",
    "omega = OEOmega() #Initialize class\n",
    "omega.SetMaxConfs(100) #Here we want to use more conformers if needed\n",
    "omega.SetStrictStereo(False) #Set to false to pick random stereoisomer if stereochemistry is not specified\n",
    "omega.SetStrictAtomTypes(False) #Be a little loose about atom typing to ensure parameters are available to omega for all molecules\n",
    "#In this case the 'StrictStereo' parameter above will also matter. Since tramadol has an unspecified stereocenter, \n",
    "#this will cause Omega to pick a random stereoisomer. Without specifying this, Omega will refuse to do anything.\n",
    "\n",
    "#Now let's generate 3D conformations for morphine and label it our 'reference' molecule:\n",
    "refmol = morphine\n",
    "omega(refmol)\n",
    "\n",
    "#Now we generate 3D conformations for tramadol and label it our 'fitmol', the molecule to be fit onto the reference\n",
    "fitmol = tramadol\n",
    "omega(fitmol)\n",
    "\n",
    "#And just so we can see how this works, let's write out morphine to a mol2 file for viewing later\n",
    "ofs = oemolostream('ref.mol2')\n",
    "OEWriteMolecule(ofs, refmol)\n",
    "ofs.close()"
   ]
  },
  {
   "cell_type": "markdown",
   "metadata": {},
   "source": [
    "### Finally, we do a shape overlay:"
   ]
  },
  {
   "cell_type": "code",
   "execution_count": 41,
   "metadata": {
    "collapsed": false
   },
   "outputs": [
    {
     "name": "stdout",
     "output_type": "stream",
     "text": [
      "[0.7323991060256958, 0.7317838072776794, 0.7298092246055603, 0.7280488610267639, 0.7218238115310669, 0.7152547836303711, 0.7130215167999268, 0.7114731073379517, 0.7108854651451111, 0.7106099128723145, 0.7098920941352844, 0.7095869183540344, 0.7089349627494812, 0.7029067277908325, 0.6987395882606506, 0.6926297545433044, 0.6817097663879395, 0.6776966452598572, 0.6740100383758545, 0.6692938804626465, 0.6691691875457764]\n"
     ]
    }
   ],
   "source": [
    "#Here, we initialize the shape overlay tookit:\n",
    "best = OEBestOverlay()                        \n",
    "#We set the reference molecule - the one we will overlay onto:\n",
    "best.SetRefMol(refmol)                                        \n",
    "\n",
    "#This initializes a score iterator - something we can use to loop over the different possible shape overlays we get \n",
    "scoreiter = OEBestOverlayScoreIter()\n",
    "#Do the overlay and get back the scores, sorted from highest (maximum possible is 1) to lowest (lowest possible is 0)\n",
    "OESortOverlayScores(scoreiter, best.Overlay(fitmol), OEHighestTanimoto())\n",
    "#Make an empty list for storing the scores of our matches\n",
    "tanimotos = []\n",
    "\n",
    "# Initialize new output molecule\n",
    "outmol = OEMol()\n",
    "\n",
    "#Now we loop over the scores\n",
    "for score in scoreiter:     \n",
    "    #For every score, make a temporary molecule out of the conformation\n",
    "    tmpmol = OEMol(fitmol.GetConf(OEHasConfIdx(score.fitconfidx)))     \n",
    "    #Transform this temporary molecule onto the frame of the reference molecule\n",
    "    score.Transform(tmpmol)\n",
    "    \n",
    "    #Now set up for writing this conformation out - we want to get back all conformations, using the frame of the \n",
    "    #reference molecule. This EITHER means making a new output molecule, OR adding the current conformation\n",
    "    #into the pre-existing output molecule\n",
    "    try: #If it already exists                                      \n",
    "        outmol.NewConf(tmpmol)                                      \n",
    "    except:                                                         \n",
    "        outmol = tmpmol           \n",
    "    #Now store the value of the score\n",
    "    tanimotos.append(score.tanimoto)\n",
    "    \n",
    "#If you wanted to see the scores, you could uncomment this line\n",
    "print(tanimotos)\n",
    "\n",
    "#Now write out the fitted molecule to \"fitted.mol2\"\n",
    "ofs = oemolostream(\"fitted.mol2\")\n",
    "OEWriteMolecule(ofs,outmol)                                         \n",
    "ofs.close()\n",
    "\n",
    "#At the end of this step, you should have \"fitted.mol2\" and \"ref.mol2\" which are the reference molecule (morphine)\n",
    "#and the fitted molecule (tramadol) in the same frame of reference. These are suitable for visualizing in PyMol or \n",
    "#other 3D viewers. "
   ]
  },
  {
   "cell_type": "markdown",
   "metadata": {},
   "source": [
    "### Here are my results\n",
    "<img src=\"morphine_tramadol_mine.png\" width = 600>\n",
    "\n",
    "The overlay is perhaps not quite as compelling as the one in Sun et al., but there is still substantial shape similarity. Also, this I could be looking at a different stereoisomer. Perhaps your results will be different."
   ]
  }
 ],
 "metadata": {
  "anaconda-cloud": {},
  "kernelspec": {
   "display_name": "Python [conda root]",
   "language": "python",
   "name": "conda-root-py"
  },
  "language_info": {
   "codemirror_mode": {
    "name": "ipython",
    "version": 3
   },
   "file_extension": ".py",
   "mimetype": "text/x-python",
   "name": "python",
   "nbconvert_exporter": "python",
   "pygments_lexer": "ipython3",
   "version": "3.5.2"
  }
 },
 "nbformat": 4,
 "nbformat_minor": 0
}
