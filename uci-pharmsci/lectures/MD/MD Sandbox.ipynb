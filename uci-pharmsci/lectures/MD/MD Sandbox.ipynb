{
 "cells": [
  {
   "cell_type": "markdown",
   "metadata": {},
   "source": [
    "# Sandbox/demo to go along with the MD assignment and lectures\n",
    "\n",
    "## PharmSci 175/275\n",
    "Author: David Mobley\n",
    "\n",
    "\n",
    "## MD for a simple Lennard-Jones system\n",
    "\n",
    "### Here, let's play with a very simple model system\n",
    "In the MD assignment, we will be looking at a very simple polymer model. But here, let's backtrack to simple Lennard-Jones spheres (as used in the energy minimization assignment) and look at what happens if we run a simple dynamics calculation on a couple of particles subject to this potential, which will allow us to get a feel for how the integrator works.\n",
    "\n",
    "Remember, for a Lennard-Jones system, the dimensionless form of our potential is \n",
    "\\begin{equation}\n",
    "U^* = \\sum \\limits_{i} 4\\left( r_{ij}^{-12} - r_{ij}^{-6}\\right) \n",
    "\\end{equation}\n",
    "\n",
    "which we can easily graph to get a sense of what will happen.\n",
    "\n",
    "### We graph the potential for a pair of particles:"
   ]
  },
  {
   "cell_type": "code",
   "execution_count": 1,
   "metadata": {},
   "outputs": [
    {
     "name": "stdout",
     "output_type": "stream",
     "text": [
      "Populating the interactive namespace from numpy and matplotlib\n"
     ]
    },
    {
     "name": "stderr",
     "output_type": "stream",
     "text": [
      "/Users/dmobley/anaconda3/envs/workshop_test/lib/python3.6/site-packages/ipykernel/__main__.py:10: RuntimeWarning: divide by zero encountered in power\n",
      "/Users/dmobley/anaconda3/envs/workshop_test/lib/python3.6/site-packages/ipykernel/__main__.py:10: RuntimeWarning: invalid value encountered in subtract\n"
     ]
    },
    {
     "data": {
      "text/plain": [
       "(-2, 2)"
      ]
     },
     "execution_count": 1,
     "metadata": {},
     "output_type": "execute_result"
    },
    {
     "data": {
      "image/png": "[encoded data removed]",
      "text/plain": [
       "<matplotlib.figure.Figure at 0x104579c50>"
      ]
     },
     "metadata": {},
     "output_type": "display_data"
    }
   ],
   "source": [
    "#Get pylab ready for plotting in this notebook - \"magic\" command specific for iPython notebooks\n",
    "%pylab inline\n",
    "#Import numpy\n",
    "import numpy as np\n",
    "\n",
    "#Generate array of distances to graph at\n",
    "r = np.arange( 0,3, 0.01)\n",
    "\n",
    "#Calculate U\n",
    "U = 4.*(r**(-12.) - r**(-6.))\n",
    "\n",
    "#Graph\n",
    "plot( r, U, 'b-')\n",
    "#Label x and y axes\n",
    "xlabel('r')\n",
    "ylabel('U')\n",
    "#Adjust y limits not to be auto-scaled; since this goes to infinity at zero, the graph will not be useful unless we truncate\n",
    "ylim(-2,2)\n"
   ]
  },
  {
   "cell_type": "markdown",
   "metadata": {},
   "source": [
    "## Now, let's run some dynamics on a pair of particles subject to this potential\n",
    "\n",
    "\n",
    "Here I've written a modified `mdlib.f90` (updated from that from the energy minimization and MD assignments) called `md_sandbox.f90`. Compile it as usual (with `f2py`) into `md_sandbox` (e.g. `f2py -c -m md_sandbox md_sandbox.f90` or similar) so that you can import it below. \n",
    "\n",
    "The difference between this and `mdlib` that you will use in your MD assignment is that I've removed the bonds between atoms, so that we have simple Lennard-Jones particles rather than LJ polymers.\n",
    "\n",
    "### First, we set up our system:"
   ]
  },
  {
   "cell_type": "code",
   "execution_count": 12,
   "metadata": {},
   "outputs": [],
   "source": [
    "#Let's define the variables we'll need\n",
    "dt = 0.001\n",
    "Cut = 2.5\n",
    "L = 10 #Let's just put these in a fairly big box so we have room\n",
    "M = 1 #Here this doesn't actually do anything, but I didn't remove it from the functions\n",
    "\n",
    "#Import our library\n",
    "from md_sandbox import *\n",
    "\n",
    "#Choose N for number of particles\n",
    "N = 2\n",
    "\n",
    "#Allocate position array - initially just zeros\n",
    "Pos = np.zeros((N,3), float)\n",
    "\n",
    "#In this case, place two LJ particles at specified initial positions - chosen so they are relatively near each other\n",
    "#If you had more than two particles you'd need to adjust this\n",
    "Pos[0,:] = np.array([0,0,0])\n",
    "Pos[1,:] = np.array([1.2,0,0])\n",
    "#Might be worth experimenting to see what happens if we randomly place the particles instead\n",
    "\n",
    "\n",
    "#Assign initial velocities - in this case I'll start off with them stationary and see what happens\n",
    "Vel = np.array([[0,0,0],[0,0,0]], float)\n",
    "#You could tweak the initial velocities to see what happens under different conditions"
   ]
  },
  {
   "cell_type": "markdown",
   "metadata": {},
   "source": [
    "## Before we do any dynamics, notice that this is really a 1D system, so let's write a function to compute r, which we will store later"
   ]
  },
  {
   "cell_type": "code",
   "execution_count": 13,
   "metadata": {},
   "outputs": [],
   "source": [
    "def get_r(Pos):\n",
    "    \"\"\"Calculate r, the distance between particles, for a position array containing just two particles. Return it.\"\"\"\n",
    "    \n",
    "    #Get displacement\n",
    "    dist = Pos[1,:] - Pos[0,:]\n",
    "    #Calculate distance and return\n",
    "    return np.sqrt( np.dot( dist, dist))"
   ]
  },
  {
   "cell_type": "markdown",
   "metadata": {},
   "source": [
    "## OK, now let's start doing some dynamics\n",
    "\n",
    "We're going to want to store the distance between the two particles as a function of time, so we can graph it. We also might want to look at the population of each distance as a function of time and see how that compares with the energy landscape. Though, right now that's a little premature. Let's just start off by taking a few timesteps and see how the distance changes. "
   ]
  },
  {
   "cell_type": "code",
   "execution_count": 1,
   "metadata": {},
   "outputs": [
    {
     "ename": "NameError",
     "evalue": "name 'np' is not defined",
     "output_type": "error",
     "traceback": [
      "\u001b[0;31m---------------------------------------------------------------------------\u001b[0m",
      "\u001b[0;31mNameError\u001b[0m                                 Traceback (most recent call last)",
      "\u001b[0;32m<ipython-input-1-c8bd6cb9e77b>\u001b[0m in \u001b[0;36m<module>\u001b[0;34m()\u001b[0m\n\u001b[1;32m      1\u001b[0m \u001b[0;31m#Define storage for positions at each time so we can track them\u001b[0m\u001b[0;34m\u001b[0m\u001b[0;34m\u001b[0m\u001b[0m\n\u001b[1;32m      2\u001b[0m \u001b[0mmax_steps\u001b[0m \u001b[0;34m=\u001b[0m \u001b[0;36m5000\u001b[0m \u001b[0;31m#Maximum number of steps we will take - so we know how many positions we might store\u001b[0m\u001b[0;34m\u001b[0m\u001b[0m\n\u001b[0;32m----> 3\u001b[0;31m \u001b[0mPos_t\u001b[0m \u001b[0;34m=\u001b[0m \u001b[0mnp\u001b[0m\u001b[0;34m.\u001b[0m\u001b[0mzeros\u001b[0m\u001b[0;34m(\u001b[0m\u001b[0;34m(\u001b[0m \u001b[0mN\u001b[0m\u001b[0;34m,\u001b[0m\u001b[0;36m3\u001b[0m\u001b[0;34m,\u001b[0m\u001b[0mmax_steps\u001b[0m\u001b[0;34m)\u001b[0m\u001b[0;34m,\u001b[0m \u001b[0mfloat\u001b[0m\u001b[0;34m)\u001b[0m\u001b[0;34m\u001b[0m\u001b[0m\n\u001b[0m\u001b[1;32m      4\u001b[0m \u001b[0;34m\u001b[0m\u001b[0m\n\u001b[1;32m      5\u001b[0m \u001b[0;31m#Store initial positions\u001b[0m\u001b[0;34m\u001b[0m\u001b[0;34m\u001b[0m\u001b[0m\n",
      "\u001b[0;31mNameError\u001b[0m: name 'np' is not defined"
     ]
    }
   ],
   "source": [
    "#Define storage for positions at each time so we can track them\n",
    "max_steps = 5000 #Maximum number of steps we will take - so we know how many positions we might store\n",
    "Pos_t = np.zeros(( N,3,max_steps), float)\n",
    "\n",
    "#Store initial positions\n",
    "Pos_t[:,:,0] = Pos\n",
    "\n",
    "#Make up initial forces\n",
    "Forces = np.zeros((N,3), float)\n",
    "\n",
    "#Kick things off by calculating energy and forces\n",
    "energy, Forces = calcenergyforces( Pos, M, L, Cut, Forces )\n",
    "\n",
    "#Take a timestep\n",
    "Pos, Vel, Accel, KEnergy, PEnergy = vvintegrate( Pos, Vel, Forces, M, L, Cut, dt )\n",
    "\n",
    "#Store new positions\n",
    "Pos_t[:,:,1] = Pos\n",
    "\n",
    "#Print original and current distance\n",
    "for i in range(0,2):\n",
    "    print(get_r(Pos_t[:,:,i]))"
   ]
  },
  {
   "cell_type": "markdown",
   "metadata": {},
   "source": [
    "## What should the long-time behavior of this system be?\n",
    "\n",
    "Before going on to the step below, think for a minute about what motion these particles should exhibit on long timescales and what it would look like if you've graphed it.\n",
    "\n",
    "Once you've done so, write a `for` loop to run over max_steps and at each step, update the energy and forces, take a timestep, and store the new positions."
   ]
  },
  {
   "cell_type": "code",
   "execution_count": 15,
   "metadata": {},
   "outputs": [],
   "source": [
    "for i in range(max_steps):\n",
    "   #Your code goes here\n",
    "    energy, Forces = calcenergyforces( Pos, M, L, Cut, Forces )\n",
    "    Pos, Vel, Accel, KEnergy, PEnergy = vvintegrate( Pos, Vel, Forces, M, L, Cut, dt )\n",
    "    Pos_t[:,:,i] = Pos\n"
   ]
  },
  {
   "cell_type": "markdown",
   "metadata": {},
   "source": [
    "## Once you've done that, use this code to graph r versus time for your particles"
   ]
  },
  {
   "cell_type": "code",
   "execution_count": 16,
   "metadata": {},
   "outputs": [
    {
     "data": {
      "text/plain": [
       "[<matplotlib.lines.Line2D at 0x10f56f470>]"
      ]
     },
     "execution_count": 16,
     "metadata": {},
     "output_type": "execute_result"
    },
    {
     "data": {
      "image/png": "[encoded data removed]",
      "text/plain": [
       "<matplotlib.figure.Figure at 0x10b309278>"
      ]
     },
     "metadata": {},
     "output_type": "display_data"
    }
   ],
   "source": [
    "#Find x axis (time values)\n",
    "t = dt*np.arange(0,max_steps)\n",
    "#Find y axis (r values)\n",
    "r_vs_t = []\n",
    "for i in range(max_steps):\n",
    "    r=get_r(Pos_t[:,:,i])\n",
    "    r_vs_t.append(r)\n",
    "\n",
    "r_vs_t = np.array(r_vs_t)\n",
    "\n",
    "    \n",
    "#Plot\n",
    "figure()\n",
    "plot(t, r_vs_t)\n",
    "    "
   ]
  },
  {
   "cell_type": "markdown",
   "metadata": {},
   "source": [
    "## Additional exercises\n",
    "\n",
    "Some things you might want to try on the above 1D system:\n",
    "- Change the amount of time the data is graphed for; see if you can make it oscillate repeatedly\n",
    "- Consider how you could adjust the total energy of the system\n",
    "- What if you change the total energy (increasing it or reducing it). Can you make it look more like a harmonic oscillator? Less like a harmonic oscillator? Why or why not?\n",
    "- Can you find solutions which are not oscillatory? How? \n",
    "- For the ambitious: Consider extending this example to three or more particles and graph just some of the distances involved. What kind of solutions can you find?"
   ]
  },
  {
   "cell_type": "markdown",
   "metadata": {
    "collapsed": true
   },
   "source": [
    "# Now let's do MD on a molecule!\n",
    "\n",
    "So that was some very simple MD on a 1D Lennard-Jones system. Now let's head towards the opposite extreme and do our first molecular system.\n",
    "\n",
    "Here, we'll draw on OpenMM, a molecular mechanics toolkit we'll see again later in the class, for running some simple energy minimizations and molecular dynamics. And we'll use the new `openforcefield` tools for assigning a force field for a molecule, because they make this very simple (and you have them already installed).\n",
    "\n",
    "## First, we generate a molecule"
   ]
  },
  {
   "cell_type": "code",
   "execution_count": 8,
   "metadata": {},
   "outputs": [
    {
     "data": {
      "image/png": "[encoded data removed]",
      "text/plain": [
       "<IPython.core.display.Image object>"
      ]
     },
     "execution_count": 8,
     "metadata": {},
     "output_type": "execute_result"
    }
   ],
   "source": [
    "# What SMILES string for the guest? Should be isomeric SMILES\n",
    "mol_smiles = 'OC(CC1CCCC1)=O'\n",
    "\n",
    "# Import stuff\n",
    "from openeye.oechem import *\n",
    "import oenotebook as oenb\n",
    "from openeye.oeomega import * # conformer generation\n",
    "from openeye.oequacpac import * #for partial charge assignment\n",
    "\n",
    "# Create empty OEMol\n",
    "mol = OEMol()\n",
    "# Convert SMILES\n",
    "OESmilesToMol(mol, mol_smiles)\n",
    "# Draw\n",
    "oenb.draw_mol(mol)"
   ]
  },
  {
   "cell_type": "markdown",
   "metadata": {
    "collapsed": true
   },
   "source": [
    "## Now we generate a 3D structure of our compound and assign partial charges"
   ]
  },
  {
   "cell_type": "code",
   "execution_count": 9,
   "metadata": {},
   "outputs": [],
   "source": [
    "#initialize omega for conformer generation\n",
    "omega = OEOmega()\n",
    "omega.SetMaxConfs(100) #Generate up to 100 conformers since we'll use for docking\n",
    "omega.SetIncludeInput(False)\n",
    "omega.SetStrictStereo(True) #Refuse to generate conformers if stereochemistry not provided\n",
    "\n",
    "#Initialize charge generation\n",
    "chargeEngine = OEAM1BCCCharges()\n",
    "\n",
    "# Set to use a simple neutral pH model \n",
    "OESetNeutralpHModel(mol)\n",
    "\n",
    "# Generate conformers with Omega; keep only best conformer\n",
    "status = omega(mol)\n",
    "if not status:\n",
    "    print(\"Error generating conformers for %s.\" % (guest_smiles))\n",
    "\n",
    "# Assign AM1-BCC charges\n",
    "OEAssignCharges(mol, chargeEngine)\n",
    "\n",
    "# Write out PDB of molecule\n",
    "ofile = oemolostream('mymolecule.pdb')\n",
    "OEWriteMolecule(ofile, mol)\n",
    "ofile.close()"
   ]
  },
  {
   "cell_type": "markdown",
   "metadata": {},
   "source": [
    "## Now we apply a force field to assign parameters to the system\n",
    "\n",
    "This uses the `openforcefield` toolkit and its `smirnoff99Frosst` forcefield (a new GAFF-like forcefield for small molecules)."
   ]
  },
  {
   "cell_type": "code",
   "execution_count": 10,
   "metadata": {},
   "outputs": [],
   "source": [
    "from openforcefield.typing.engines.smirnoff import *\n",
    "\n",
    "ff = ForceField('forcefield/smirnoff99Frosst.offxml')\n",
    "topology = generateTopologyFromOEMol(mol)\n",
    "system = ff.createSystem(topology, [mol])\n",
    "\n",
    "from openforcefield.utils import get_data_filename, extractPositionsFromOEMol, generateTopologyFromOEMol\n",
    "positions = extractPositionsFromOEMol(mol)"
   ]
  },
  {
   "cell_type": "markdown",
   "metadata": {},
   "source": [
    "## Next we'll start off by doing an energy minimization\n",
    "\n",
    "We first prepare the system, but then the actual energy minimization is very simple. I believe OpenMM is using an L-BFGS minimizer."
   ]
  },
  {
   "cell_type": "code",
   "execution_count": 11,
   "metadata": {},
   "outputs": [
    {
     "name": "stdout",
     "output_type": "stream",
     "text": [
      "Energy before minimization (kcal/mol): 95\n",
      "Energy after minimization (kcal/mol): 61\n"
     ]
    }
   ],
   "source": [
    "# Even though we're just going to minimize, we still have to set up an integrator, since a Simulation needs one\n",
    "integrator = openmm.VerletIntegrator(2.0*unit.femtoseconds)\n",
    "# Prep the Simulation using the parameterized system, the integrator, and the topology\n",
    "simulation = app.Simulation(topology, system, integrator)\n",
    "# Copy in the positions\n",
    "simulation.context.setPositions( positions) \n",
    "\n",
    "# Get initial state and energy; print\n",
    "state = simulation.context.getState(getEnergy = True)\n",
    "energy = state.getPotentialEnergy() / unit.kilocalories_per_mole\n",
    "print(\"Energy before minimization (kcal/mol): %.2g\" % energy)\n",
    "\n",
    "# Minimize, get final state and energy and print\n",
    "simulation.minimizeEnergy()\n",
    "state = simulation.context.getState(getEnergy=True, getPositions=True)\n",
    "energy = state.getPotentialEnergy() / unit.kilocalories_per_mole\n",
    "print(\"Energy after minimization (kcal/mol): %.2g\" % energy)\n",
    "newpositions = state.getPositions()"
   ]
  },
  {
   "cell_type": "markdown",
   "metadata": {},
   "source": [
    "## Now we do some bookkeeping to run MD\n",
    "\n",
    "Most of this is just setup, file bookkeeping, temperature selection, etc. The key part which actually runs it is the second-to-last block of code which says `simulation.step(1000)` which runs 1000 steps of dynamics. The timestep for this is set near the top, and is 2 femtoseconds per timestep, so the total time is 2000 fs, or 2 ps.\n",
    "\n",
    "Simulation snapshots are stored to a NetCDF file for later visualization, every 100 frames (so we'll end up with 10 of them). You can adjust these settings if you like."
   ]
  },
  {
   "cell_type": "code",
   "execution_count": 12,
   "metadata": {},
   "outputs": [
    {
     "name": "stdout",
     "output_type": "stream",
     "text": [
      "Starting simulation\n",
      "Elapsed time 0.15 seconds\n",
      "Done!\n"
     ]
    }
   ],
   "source": [
    "# Set up NetCDF reporter for storing trajectory; prep for Langevin dynamics\n",
    "from mdtraj.reporters import NetCDFReporter\n",
    "integrator = openmm.LangevinIntegrator(300*unit.kelvin, 1./unit.picosecond, 2.*unit.femtoseconds)\n",
    "\n",
    "# Prep Simulation\n",
    "simulation = app.Simulation(topology, system, integrator)\n",
    "# Copy in minimized positions\n",
    "simulation.context.setPositions(newpositions)\n",
    "\n",
    "# Initialize velocities to correct temperature\n",
    "simulation.context.setVelocitiesToTemperature(300*unit.kelvin)\n",
    "# Set up to write trajectory file to NetCDF file in data directory every 100 frames\n",
    "netcdf_reporter = NetCDFReporter(os.path.join('.', 'trajectory.nc'), 100) #Store every 100 frames\n",
    "# Initialize reporters, including a CSV file to store certain stats every 100 frames\n",
    "simulation.reporters.append(netcdf_reporter)\n",
    "simulation.reporters.append(app.StateDataReporter(os.path.join('.', 'data.csv'), 100, step=True, potentialEnergy=True, temperature=True, density=True))\n",
    "\n",
    "# Run the simulation and print start info; store timing\n",
    "print(\"Starting simulation\")\n",
    "start = time.clock()\n",
    "simulation.step(1000) #1000 steps of dynamics\n",
    "end = time.clock()\n",
    "\n",
    "# Print elapsed time info, finalize trajectory file\n",
    "print(\"Elapsed time %.2f seconds\" % (end-start))\n",
    "netcdf_reporter.close()\n",
    "print(\"Done!\")"
   ]
  },
  {
   "cell_type": "markdown",
   "metadata": {},
   "source": [
    "## Now we can visualize the results with `nglview`\n",
    "\n",
    "If you don't have `nglview`, you can also load the PDB file, `mymolecule.pdb`, with a standard viewer like VMD or Chimera, and then load the NetCDF trajectory file (`trajectory.nc`) in afterwards."
   ]
  },
  {
   "cell_type": "code",
   "execution_count": 13,
   "metadata": {},
   "outputs": [
    {
     "data": {
      "application/vnd.jupyter.widget-view+json": {
       "model_id": "e1ccfb3c3eac4b4a9bcc70525bb3089c",
       "version_major": 2,
       "version_minor": 0
      },
      "text/html": [
       "<p>Failed to display Jupyter Widget of type <code>NGLWidget</code>.</p>\n",
       "<p>\n",
       "  If you're reading this message in the Jupyter Notebook or JupyterLab Notebook, it may mean\n",
       "  that the widgets JavaScript is still loading. If this message persists, it\n",
       "  likely means that the widgets JavaScript library is either not installed or\n",
       "  not enabled. See the <a href=\"https://ipywidgets.readthedocs.io/en/stable/user_install.html\">Jupyter\n",
       "  Widgets Documentation</a> for setup instructions.\n",
       "</p>\n",
       "<p>\n",
       "  If you're reading this message in another frontend (for example, a static\n",
       "  rendering on GitHub or <a href=\"https://nbviewer.jupyter.org/\">NBViewer</a>),\n",
       "  it may mean that your frontend doesn't currently support widgets.\n",
       "</p>\n"
      ],
      "text/plain": [
       "NGLWidget(count=10)"
      ]
     },
     "metadata": {},
     "output_type": "display_data"
    }
   ],
   "source": [
    "# Load stored trajectory using MDTraj; the trajectory doesn't contain chemistry info so we also load a PDB\n",
    "import mdtraj\n",
    "import nglview\n",
    "traj= mdtraj.load(os.path.join('.', 'trajectory.nc'), top=os.path.join('.', 'mymolecule.pdb'))\n",
    "\n",
    "# View the trajectory\n",
    "view = nglview.show_mdtraj(traj)\n",
    "view"
   ]
  },
  {
   "cell_type": "markdown",
   "metadata": {},
   "source": [
    "## Exercises\n",
    "\n",
    "- Try your own molecule. What about one which has the potential for internal hydrogen bonding?\n",
    "- Run the dynamics longer\n",
    "- What is different if you lower the temperature? Raise the temperature? "
   ]
  }
 ],
 "metadata": {
  "anaconda-cloud": {},
  "kernelspec": {
   "display_name": "Python [default]",
   "language": "python",
   "name": "python3"
  },
  "language_info": {
   "codemirror_mode": {
    "name": "ipython",
    "version": 3
   },
   "file_extension": ".py",
   "mimetype": "text/x-python",
   "name": "python",
   "nbconvert_exporter": "python",
   "pygments_lexer": "ipython3",
   "version": "3.6.3"
  },
  "toc": {
   "nav_menu": {},
   "number_sections": true,
   "sideBar": true,
   "skip_h1_title": false,
   "toc_cell": false,
   "toc_position": {},
   "toc_section_display": "block",
   "toc_window_display": false
  }
 },
 "nbformat": 4,
 "nbformat_minor": 1
}
