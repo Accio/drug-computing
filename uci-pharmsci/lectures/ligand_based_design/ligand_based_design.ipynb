{
 "cells": [
  {
   "cell_type": "markdown",
   "metadata": {},
   "source": [
    "# Supplementary Python code/demo for Ligand-Based Design class\n",
    "## Ligand-based design and shape overlaps\n",
    "### PharmSci 175/275\n",
    "\n",
    "## Let's start with a reminder of how to do a simple shape overlay\n",
    "\n",
    "In our 3D Structure/Shape lecture, early in this course, we already saw a simple example of shape overlays - we overlaid morphine onto tramadol. Let's repeat that here. Here's the preparation we did:"
   ]
  },
  {
   "cell_type": "code",
   "execution_count": null,
   "metadata": {},
   "outputs": [],
   "source": [
    "#Import what we need\n",
    "from openeye.oechem import * #General chemistry toolkit\n",
    "from openeye.oeomega import * #Conformation toolkit\n",
    "from openeye.oeiupac import * #Naming toolkit\n",
    "from openeye.oeshape import * #Shape toolkit\n",
    "\n",
    "#Let's first generate morphine and tramadol from their names\n",
    "morphine= OEMol()\n",
    "tramadol = OEMol()\n",
    "OEParseIUPACName(morphine, 'morphine')\n",
    "#OpenEye's toolkit won't recognize tranadol, so we'll use its IUPAC name instead\n",
    "OEParseIUPACName(tramadol, '2-[(Dimethylamino)methyl]-1-(3-methoxyphenyl)cyclohexanol')\n",
    "\n",
    "#We make sure Omega is loaded and initialized\n",
    "#This time we want to consider multiple conformations, since the OpenEye shape toolkit will\n",
    "#just do a rigid overlay of whatever conformations we give it onto one another. But here,\n",
    "#at least one of the molecules has substantial flexibility, and we want to find the\n",
    "#conformation which results in the best match\n",
    "\n",
    "#Initialize class\n",
    "omega = OEOmega() \n",
    "#Here we want to use more conformers if needed\n",
    "omega.SetMaxConfs(100) \n",
    "#Set to false to pick random stereoisomer if stereochemistry is not specified\n",
    "omega.SetStrictStereo(False) \n",
    "#Be a little loose about atom typing to ensure parameters are available to omega for all\n",
    "#molecules\n",
    "omega.SetStrictAtomTypes(False) \n",
    "#In this case the 'StrictStereo' parameter above will also matter. Since tramadol has an\n",
    "#unspecified stereocenter, this will cause Omega to pick a random stereoisomer. Without \n",
    "#specifying this, Omega will refuse to do anything.\n",
    "\n",
    "#Now let's generate 3D conformations for morphine and label it our 'reference' molecule:\n",
    "refmol = morphine\n",
    "omega(refmol)\n",
    "\n",
    "#Now we generate 3D conformations for tramadol and label it our 'fitmol', \n",
    "#the molecule to be fit onto the reference\n",
    "fitmol = tramadol\n",
    "omega(fitmol)"
   ]
  },
  {
   "cell_type": "markdown",
   "metadata": {},
   "source": [
    "### Instead of directly performing a shape overlay like last time, let's make a shape overlay function we can reuse later."
   ]
  },
  {
   "cell_type": "code",
   "execution_count": null,
   "metadata": {},
   "outputs": [],
   "source": [
    "def FitMolToReference( fitmol, refmol, outfile = None, ShapeColor = True):\n",
    "    \"\"\"Takes two (multi-conformer) OpenEye molecules, and fits the first molecule onto\n",
    "the second molecule. Normally the fitted molecule at least should be multi-conformer. \n",
    "The reference molecule can be multi-conformer or not, as desired\n",
    "(this will typically depend on whether the active conformation is known).\n",
    "\n",
    "INPUT:\n",
    "  - fitmol: The molecule to be fitted (multi-conformer)\n",
    "  - refmol: The molecule to fit onto (multi-conformer if desired)\n",
    "  - outfile (optional): File name to write output molecular structure(s) of the fitted \n",
    "      molecule. Default is None. If not provided, no output is written.\n",
    "  - ShapeColor (optional): Optionally make this a \"shape plus color\" search rather than\n",
    "      just a shape search. Default is True. Specify False if desired. (Currently, in the new \n",
    "      OEROCS API, I have not been able to figure out how to make this consider shape or shape+color\n",
    "      in the search, only in the scoring, so currently the search uses shape+color but the scoring\n",
    "      can be toggled.)\n",
    "\n",
    "OUTPUT:\n",
    "  - tanimotos: Similarity scores for overlaid conformations (list). Runs from 0 to 1 if \n",
    "      pure shape is used, and 0 to 2 if shape+color is used.\n",
    "  - fittedMol: Fitted OpenEye molecule\n",
    "\"\"\"\n",
    "  \n",
    "    # Setup ROCS to provide specified number of conformers per hit\n",
    "    options = OEROCSOptions()\n",
    "    options.SetNumBestHits(10)\n",
    "    options.SetConfsPerHit(100)\n",
    "    \n",
    "    outfs = oemolostream(outfile)\n",
    "    \n",
    "    rocs = OEROCS(options)\n",
    "    rocs.AddMolecule(fitmol) #Add our molecule as the one we are fitting\n",
    "\n",
    "    # Loop over results and output\n",
    "    tanimotos = []\n",
    "    for res in rocs.Overlay(refmol):\n",
    "        outmol = res.GetOverlayConfs() #Use GetOverlayConf to get just the best; GetOverlayConfs for all\n",
    "        OERemoveColorAtoms(outmol)\n",
    "        OEAddExplicitHydrogens(outmol)\n",
    "        OEWriteMolecule(outfs, outmol)\n",
    "        if ShapeColor:\n",
    "            score = res.GetTanimotoCombo()\n",
    "        else:\n",
    "            score = res.GetShapeTanimoto()\n",
    "        print(\"title: %s  tanimoto combo = %.2f\" % (outmol.GetTitle(), score))\n",
    "        tanimotos.append(score)\n",
    "        outfs.close()\n",
    "    return tanimotos, outmol, res"
   ]
  },
  {
   "cell_type": "markdown",
   "metadata": {},
   "source": [
    "### Here's a bit of code which applies this as we did previously"
   ]
  },
  {
   "cell_type": "code",
   "execution_count": null,
   "metadata": {},
   "outputs": [],
   "source": [
    "scores, outmol, res = FitMolToReference(fitmol, refmol)\n",
    "for score in scores:\n",
    "    print('%.2f' % score)"
   ]
  },
  {
   "cell_type": "markdown",
   "metadata": {},
   "source": [
    "### You might want to try and see what happens if you set ShapeColor to False\n",
    "It might be worth looking at how this changes the scores you get out, as well as how it would affect the structure of the overlaid molecule (you can pass an optional argument to the function in order to get this written out).\n",
    "\n",
    "### You might also want to try a couple other shape (or shape+color) overlays\n",
    "For example, what happens if you overlay isobutylbenzene onto catechol, or two molecules of your choice?\n",
    "\n",
    "## Now let's revisit the sandbox we examined in the library searching class\n",
    "### When we looked at library searching, we did a simple Lingo search to compute the similarity of a few molecules. \n",
    "Here's what that looked like:"
   ]
  },
  {
   "cell_type": "code",
   "execution_count": null,
   "metadata": {},
   "outputs": [],
   "source": [
    "#Initialize our query molecule\n",
    "mol1 = OEMol()\n",
    "queryname = 'benzoic acid'\n",
    "OEParseIUPACName(mol1, queryname)\n",
    "\n",
    "#Set up our lingo search based on the query\n",
    "lingo = OELingoSim(mol1)\n",
    "\n",
    "#Specify a cutoff we'll use for filtering\n",
    "cutoff = 0.3\n",
    "\n",
    "#Specify our database - what compounds do we want to look at?\n",
    "names = ['phenol', 'toluene', 'benzene', 'naphthalene', 'ibuprofen', 'naproxen',\n",
    "         'acetic acid', 'ammonia']\n",
    "\n",
    "#Loop over our \"database\" and do our lingo comparison/search\n",
    "for name in names:\n",
    "    #Initialize this molecule\n",
    "    mol2 = OEMol()\n",
    "    OEParseIUPACName(mol2, name)\n",
    "    #Do our lingo comparison\n",
    "    sim = lingo.Similarity(mol2)\n",
    "    \n",
    "    #Check and see if it is a match; if so, do something\n",
    "    if sim > cutoff:\n",
    "        print(\"Similarity of %s to %s is %.2f\" % (queryname, name, sim))\n",
    "        #More generally, you could dump image files of all molecules matching,\n",
    "        #or write them out to a file, or..."
   ]
  },
  {
   "cell_type": "markdown",
   "metadata": {},
   "source": [
    "### Below, make a new version of the above code to use a shape or shape+color comparison rather than Lingo\n",
    "Three significant changes you will need to make are:\n",
    "* Use Omega to generate 3D structures for your molecules before overlaying them, and at least the fitted molecule should have multiple conformations\n",
    "* Swap the Lingo search for the FitMolToReference function from above\n",
    "* Now, rather than getting a single similarity score, you'll get a list of them. Use the highest score (the first entry in the list) as the similarity score.\n",
    "\n",
    "Be sure to test how using shape vs shape+color would affect your conclusions about which molecules are the most similar. (Note that Tanimoto scores with shape+color run from 0 to 2 rather than 0 to 1).\n",
    "\n",
    "You may also wish to use the depiction options in `oenotebook` to draw the most similar compounds."
   ]
  },
  {
   "cell_type": "code",
   "execution_count": null,
   "metadata": {},
   "outputs": [],
   "source": []
  }
 ],
 "metadata": {
  "anaconda-cloud": {},
  "kernelspec": {
   "display_name": "Python [conda root]",
   "language": "python",
   "name": "conda-root-py"
  },
  "language_info": {
   "codemirror_mode": {
    "name": "ipython",
    "version": 3
   },
   "file_extension": ".py",
   "mimetype": "text/x-python",
   "name": "python",
   "nbconvert_exporter": "python",
   "pygments_lexer": "ipython3",
   "version": "3.6.2"
  },
  "toc": {
   "nav_menu": {},
   "number_sections": true,
   "sideBar": true,
   "skip_h1_title": false,
   "toc_cell": false,
   "toc_position": {},
   "toc_section_display": "block",
   "toc_window_display": false
  }
 },
 "nbformat": 4,
 "nbformat_minor": 1
}
