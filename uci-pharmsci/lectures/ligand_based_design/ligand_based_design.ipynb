{
 "cells": [
  {
   "cell_type": "markdown",
   "metadata": {},
   "source": [
    "# Supplementary Python code/demo for Lecture 10\n",
    "## Ligand-based design and shape overlaps\n",
    "### PharmSci 275\n",
    "\n",
    "## Let's start with a reminder of how to do a simple shape overlay\n",
    "\n",
    "In our 3D Structure/Shape lecture, early in this course, we already saw a simple example of shape overlays - we overlaid morphine onto tramadol. Let's repeat that here. Here's the preparation we did:"
   ]
  },
  {
   "cell_type": "code",
   "execution_count": 1,
   "metadata": {
    "collapsed": false
   },
   "outputs": [
    {
     "data": {
      "text/plain": [
       "True"
      ]
     },
     "execution_count": 1,
     "metadata": {},
     "output_type": "execute_result"
    }
   ],
   "source": [
    "#Import what we need\n",
    "from openeye.oechem import * #General chemistry toolkit\n",
    "from openeye.oeomega import * #Conformation toolkit\n",
    "from openeye.oeiupac import * #Naming toolkit\n",
    "from openeye.oeshape import * #Shape toolkit\n",
    "\n",
    "#Let's first generate morphine and tramadol from their names\n",
    "morphine= OEMol()\n",
    "tramadol = OEMol()\n",
    "OEParseIUPACName(morphine, 'morphine')\n",
    "#OpenEye's toolkit won't recognize tranadol, so we'll use its IUPAC name instead\n",
    "OEParseIUPACName(tramadol, '2-[(Dimethylamino)methyl]-1-(3-methoxyphenyl)cyclohexanol')\n",
    "\n",
    "#We make sure Omega is loaded and initialized\n",
    "#This time we want to consider multiple conformations, since the OpenEye shape toolkit will\n",
    "#just do a rigid overlay of whatever conformations we give it onto one another. But here,\n",
    "#at least one of the molecules has substantial flexibility, and we want to find the\n",
    "#conformation which results in the best match\n",
    "\n",
    "#Initialize class\n",
    "omega = OEOmega() \n",
    "#Here we want to use more conformers if needed\n",
    "omega.SetMaxConfs(100) \n",
    "#Set to false to pick random stereoisomer if stereochemistry is not specified\n",
    "omega.SetStrictStereo(False) \n",
    "#Be a little loose about atom typing to ensure parameters are available to omega for all\n",
    "#molecules\n",
    "omega.SetStrictAtomTypes(False) \n",
    "#In this case the 'StrictStereo' parameter above will also matter. Since tramadol has an\n",
    "#unspecified stereocenter, this will cause Omega to pick a random stereoisomer. Without \n",
    "#specifying this, Omega will refuse to do anything.\n",
    "\n",
    "#Now let's generate 3D conformations for morphine and label it our 'reference' molecule:\n",
    "refmol = morphine\n",
    "omega(refmol)\n",
    "\n",
    "#Now we generate 3D conformations for tramadol and label it our 'fitmol', \n",
    "#the molecule to be fit onto the reference\n",
    "fitmol = tramadol\n",
    "omega(fitmol)"
   ]
  },
  {
   "cell_type": "markdown",
   "metadata": {},
   "source": [
    "### Instead of directly performing a shape overlay like last time, let's make a shape overlay function we can reuse later."
   ]
  },
  {
   "cell_type": "code",
   "execution_count": 2,
   "metadata": {
    "collapsed": false
   },
   "outputs": [],
   "source": [
    "def FitMolToReference( fitmol, refmol, outfile = None, ShapeColor = False):\n",
    "    \"\"\"Takes two (multi-conformer) OpenEye molecules, and fits the first molecule onto\n",
    "the second molecule. Normally the fitted molecule at least should be multi-conformer. \n",
    "The reference molecule can be multi-conformer or not, as desired\n",
    "(this will typically depend on whether the active conformation is known).\n",
    "\n",
    "INPUT:\n",
    "  - fitmol: The molecule to be fitted (multi-conformer)\n",
    "  - refmol: The molecule to fit onto (multi-conformer if desired)\n",
    "  - outfile (optional): File name to write output molecular structure(s) of the fitted \n",
    "      molecule. Default is None. If not provided, no output is written.\n",
    "  - ShapeColor (optional): Optionally make this a \"shape plus color\" search rather than\n",
    "      just a shape search. Default is False. Specify True if desired.\n",
    "\n",
    "OUTPUT:\n",
    "  - tanimotos: Similarity scores for overlaid conformations (list). Runs from 0 to 1 if \n",
    "      pure shape is used, and 0 to 2 if shape+color is used.\n",
    "  - fittedMol: Fitted OpenEye molecule\n",
    "\"\"\"\n",
    "  \n",
    "    #Here, we initialize the shape overlay tookit:\n",
    "    best = OEBestOverlay()                        \n",
    "    #We set the reference molecule - the one we will overlay onto:\n",
    "    best.SetRefMol(refmol)\n",
    "    \n",
    "    #Handle optional \"color forcefield\" which makes this shape+chemistry-based rather than\n",
    "    #just straight shape-based\n",
    "    if ShapeColor:\n",
    "        best.SetColorForceField( OEColorFFType_ImplicitMillsDean)\n",
    "        best.SetColorOptimize(True)\n",
    "\n",
    "    #This initializes a score iterator - something we can use to loop over the different\n",
    "    #possible shape overlays we get \n",
    "    scoreiter = OEBestOverlayScoreIter()\n",
    "    #Do the overlay and get back the scores, sorted from highest (maximum possible is 1)\n",
    "    #to lowest (lowest possible is 0)\n",
    "    OESortOverlayScores(scoreiter, best.Overlay(fitmol), OEHighestTanimotoCombo())\n",
    "    #Make an empty list for storing the scores of our matches\n",
    "    tanimotos = []\n",
    "\n",
    "    #Now we loop over the scores\n",
    "    for score in scoreiter:     \n",
    "        #For every score, make a temporary molecule out of the conformation\n",
    "        tmpmol = OEMol(fitmol.GetConf(OEHasConfIdx(score.fitconfidx)))     \n",
    "        #Transform this temporary molecule onto the frame of the reference molecule\n",
    "        score.Transform(tmpmol)\n",
    "    \n",
    "        #Now set up for writing this conformation out - we want to get back all \n",
    "        #conformations, using the frame of the reference molecule. This EITHER means \n",
    "        #making a new output molecule, OR adding the current conformation\n",
    "        #into the pre-existing output molecule\n",
    "        try: #If it already exists                                      \n",
    "            outmol.NewConf(tmpmol)                                      \n",
    "        except:                                                         \n",
    "            outmol = tmpmol           \n",
    "        #Now store the value of the score - using the combined (shape+color)\n",
    "        #Tanimoto combo score; if color is not also used this will be just\n",
    "        #the standard score\n",
    "        tanimotos.append(score.GetTanimotoCombo()) \n",
    "    \n",
    "    #Write output file if desired\n",
    "    if outfile != None:\n",
    "        ostream = oemolostream(outfile)\n",
    "        OEWriteMolecule(ostream, outmol)\n",
    "        ostream.close()\n",
    "        \n",
    "    return tanimotos, outmol"
   ]
  },
  {
   "cell_type": "markdown",
   "metadata": {},
   "source": [
    "### Here's a bit of code which applies this as we did previously"
   ]
  },
  {
   "cell_type": "code",
   "execution_count": 5,
   "metadata": {
    "collapsed": false
   },
   "outputs": [
    {
     "name": "stdout",
     "output_type": "stream",
     "text": [
      "0.74\n",
      "0.74\n",
      "0.74\n",
      "0.73\n",
      "0.73\n",
      "0.72\n",
      "0.71\n",
      "0.71\n",
      "0.71\n",
      "0.70\n",
      "0.70\n",
      "0.69\n",
      "0.68\n",
      "0.68\n",
      "0.67\n",
      "0.67\n",
      "0.67\n",
      "0.66\n",
      "0.65\n",
      "0.65\n",
      "0.65\n"
     ]
    }
   ],
   "source": [
    "scores, outmol = FitMolToReference(fitmol, refmol)\n",
    "for score in scores:\n",
    "    print('%.2f' % score)"
   ]
  },
  {
   "cell_type": "markdown",
   "metadata": {},
   "source": [
    "### You might want to try and see what happens if you set ShapeColor to True\n",
    "It might be worth looking at how this changes the scores you get out, as well as how it would affect the structure of the overlaid molecule (you can pass an optional argument to the function in order to get this written out).\n",
    "\n",
    "### You might also want to try a couple other shape (or shape+color) overlays\n",
    "For example, what happens if you overlay isobutylbenzene onto catechol, or two molecules of your choice?\n",
    "\n",
    "## Now let's revisit the sandbox we examined in Lecture 9\n",
    "### In Lecture 9, we did a simple Lingo search to compute the similarity of a few molecules. \n",
    "Here's what that looked like:"
   ]
  },
  {
   "cell_type": "code",
   "execution_count": 5,
   "metadata": {
    "collapsed": false
   },
   "outputs": [
    {
     "name": "stdout",
     "output_type": "stream",
     "text": [
      "Similarity of benzoic acid to phenol is 0.50\n",
      "Similarity of benzoic acid to ibuprofen is 0.57\n"
     ]
    }
   ],
   "source": [
    "#Initialize our query molecule\n",
    "mol1 = OEMol()\n",
    "queryname = 'benzoic acid'\n",
    "OEParseIUPACName(mol1, queryname)\n",
    "\n",
    "#Set up our lingo search based on the query\n",
    "lingo = OELingoSim(mol1)\n",
    "\n",
    "#Specify a cutoff we'll use for filtering\n",
    "cutoff = 0.3\n",
    "\n",
    "#Specify our database - what compounds do we want to look at?\n",
    "names = ['phenol', 'toluene', 'benzene', 'naphthalene', 'ibuprofen', 'naproxen',\n",
    "         'acetic acid', 'ammonia']\n",
    "\n",
    "#Loop over our \"database\" and do our lingo comparison/search\n",
    "for name in names:\n",
    "    #Initialize this molecule\n",
    "    mol2 = OEMol()\n",
    "    OEParseIUPACName(mol2, name)\n",
    "    #Do our lingo comparison\n",
    "    sim = lingo.Similarity(mol2)\n",
    "    \n",
    "    #Check and see if it is a match; if so, do something\n",
    "    if sim > cutoff:\n",
    "        print(\"Similarity of %s to %s is %.2f\" % (queryname, name, sim))\n",
    "        #More generally, you could dump image files of all molecules matching,\n",
    "        #or write them out to a file, or..."
   ]
  },
  {
   "cell_type": "markdown",
   "metadata": {},
   "source": [
    "### Below, make a new version of the above code to use a shape or shape+color comparison rather than Lingo\n",
    "Three significant changes you will need to make are:\n",
    "* Use Omega to generate 3D structures for your molecules before overlaying them, and at least the fitted molecule should have multiple conformations\n",
    "* Swap the Lingo search for the FitMolToReference function from above\n",
    "* Now, rather than getting a single similarity score, you'll get a list of them. Use the highest score (the first entry in the list) as the similarity score.\n",
    "\n",
    "Be sure to test how using shape vs shape+color would affect your conclusions about which molecules are the most similar. (Note that Tanimoto scores with shape+color run from 0 to 2 rather than 0 to 1)."
   ]
  },
  {
   "cell_type": "code",
   "execution_count": null,
   "metadata": {
    "collapsed": true
   },
   "outputs": [],
   "source": []
  }
 ],
 "metadata": {
  "anaconda-cloud": {},
  "kernelspec": {
   "display_name": "Python [conda root]",
   "language": "python",
   "name": "conda-root-py"
  },
  "language_info": {
   "codemirror_mode": {
    "name": "ipython",
    "version": 3
   },
   "file_extension": ".py",
   "mimetype": "text/x-python",
   "name": "python",
   "nbconvert_exporter": "python",
   "pygments_lexer": "ipython3",
   "version": "3.5.2"
  }
 },
 "nbformat": 4,
 "nbformat_minor": 0
}
