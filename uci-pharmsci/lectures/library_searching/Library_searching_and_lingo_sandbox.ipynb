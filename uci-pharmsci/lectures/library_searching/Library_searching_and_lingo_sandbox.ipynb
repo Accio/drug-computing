{
 "cells": [
  {
   "cell_type": "markdown",
   "metadata": {},
   "source": [
    "### The OpenEye tools can handle conversions and parsing of SMILES\n",
    "As we already saw in the 3D structure/shape lecture (to a limited extent) the OpenEye tools can work with common molecular file formats, but also with chemical names AND with SMILES strings. \n",
    "\n",
    "We previously saw (in the 3D structure/shape iPython notebook) that we can create molecules from their names or SMILES strings. Let's recap that, and *also* see how to generate SMILES strings for molecules we already have, and IUPAC names for molecules we already have"
   ]
  },
  {
   "cell_type": "code",
   "execution_count": 4,
   "metadata": {},
   "outputs": [
    {
     "name": "stdout",
     "output_type": "stream",
     "text": [
      "Molecule 1 is 1-cyclopropyl-6-fluoro-4-oxo-7-piperazin-1-yl-quinoline-3-carboxylic acid and has smiles c1c2c(cc(c1F)N3CCNCC3)n(cc(c2=O)C(=O)O)C4CC4\n",
      "Created molecule 2 from SMILES. It's called cyclohexane\n"
     ]
    }
   ],
   "source": [
    "from openeye.oechem import *\n",
    "from openeye.oeiupac import *\n",
    "\n",
    "#Create a new empty molecule\n",
    "mol = OEMol()\n",
    "#Parse this IUPAC name into the molecule\n",
    "OEParseIUPACName(mol, '1-cyclopropyl-6-fluoro-4-oxo-7-piperazin-1-yl-quinoline-3-carboxylic acid')\n",
    "#OEParseIUPACName(mol, 'ibuprofen')\n",
    "\n",
    "#Create an IUPAC name AND canonical SMILES string for this molecule\n",
    "name = OECreateIUPACName(mol)\n",
    "smi = OECreateCanSmiString(mol)\n",
    "print( \"Molecule 1 is %s and has smiles %s\" % (name, smi) )\n",
    "\n",
    "#Let's create another molecule from SMILES and get its name\n",
    "mol2 = OEMol()\n",
    "OEParseSmiles( mol2, 'C1CCCCC1')\n",
    "print(\"Created molecule 2 from SMILES. It's called %s\" % OECreateIUPACName(mol2))"
   ]
  },
  {
   "cell_type": "markdown",
   "metadata": {},
   "source": [
    "The same approach will apply if you want to generate a name or SMILES from a molecule you read from a file. Specifically, you would first read in the molecule to an `OEMol` object or similar (as seen several times already, including in the 3D Structure/Shape lecture) and then simply run the relevant function (`OEParseIUPACName`, `OECreateCanSmiString`) on your molecule object.\n",
    "\n",
    "# We can also visualize our molecule here using OEDepict\n",
    "We can easily write it out to an image file, here `test.png`. Conveniently, iPython notebooks can display images, so we can also display that image inline here by reading it from the file. "
   ]
  },
  {
   "cell_type": "code",
   "execution_count": 5,
   "metadata": {},
   "outputs": [
    {
     "data": {
      "text/plain": [
       "True"
      ]
     },
     "execution_count": 5,
     "metadata": {},
     "output_type": "execute_result"
    }
   ],
   "source": [
    "from openeye.oedepict import *\n",
    "OEPrepareDepiction(mol)\n",
    "OERenderMolecule('test.png', mol)\n",
    "#If your molecule already has explicit hydrogens, you may wish to suppress all of these except polar hydrogens\n",
    "#as described here: http://docs.eyesopen.com/toolkits/cookbook/python/depiction/polarhydrogens.html"
   ]
  },
  {
   "cell_type": "markdown",
   "metadata": {},
   "source": [
    "### Just below this line is a tiny bit of \"markdown\" code to display the image:\n",
    "<img src=\"test.png\">\n",
    "\n",
    "Small technical note - I've observed that sometimes, updating the image file and re-evaluating the box will NOT result in an updated image being displayed. This is because your browser may cache the image file and re-load it only sporadically. It may be necessary, if this happens, to actually save your notebook and refresh the page in the browser.\n",
    "\n",
    "\n",
    "### But: OpenEye's `oenotebook` toolkit interfaces with Jupyter notebooks to make this even easier\n",
    "\n",
    "This is super easy as long as you are inside a Jupyter notebook (see [the OpenEye notebook examples](https://www.eyesopen.com/notebooks-directory) for more related examples)."
   ]
  },
  {
   "cell_type": "code",
   "execution_count": 8,
   "metadata": {},
   "outputs": [
    {
     "data": {
      "image/png": "[encoded data removed]",
      "text/plain": [
       "<IPython.core.display.Image object>"
      ]
     },
     "execution_count": 8,
     "metadata": {},
     "output_type": "execute_result"
    }
   ],
   "source": [
    "import oenotebook as oenb\n",
    "oenb.draw_mol(mol)"
   ]
  },
  {
   "cell_type": "markdown",
   "metadata": {},
   "source": [
    "\n",
    "### ChemDraw and Marvin and other viewers can handle a lot of the same tasks just performed here\n",
    "They can typically handle generating names for molecules, or generating molecules from names, and SMILES strings can also be generated for molecules or vise versa. Here, however, we'll focus on using the OpenEye toolkits. Other chemical toolkits also should have similar features in general.\n",
    "\n",
    "# A technical note on the uniqueness of SMILES, and handling chiral compounds\n",
    "## SMILES in general are not unique\n",
    "In general, there is NOT a 1-1 correspondence between a SMILES string and a molecule. Rather, several SMILES strings can typically be written which correspond to the same chemical compound. Normally this is helpful, as the user wishing to specify a compound doesn't have to provide the *right* SMILES in order to identify the molecule they want. This also makes sense when we consider chemical names, which have a similar property (several names may correspond to one compound).\n",
    "\n",
    "## Sometimes this non-uniqueness is undesirable\n",
    "Suppose you're faced with a large corporate compound library and you want to apply some method to select a portion of this for experimental follow-up. However, you're aware that there may be duplicate compounds (under different names or identifiers) in the library. How do you check for (and rule out) these duplicates so your experimental group doesn't involve running duplicate assays except when they want to? You can't use SMILES OR names since neither of these corresponds 1-1 to particular molecules.\n",
    "\n",
    "However, there is a fix - a *canonical SMILES string*, which is basically a standardized way of writing SMILES strings. OpenEye's tools can assign these (and in fact that's what we generated above -- canonical SMILES strings) to molecules, and they DO have a 1-1 correspondence to particular compounds. So if you create canonical SMILES strings for all of your compounds, you can then check that these are unique within your set, and filter out duplicates.\n",
    "\n",
    "## Chirality poses another hurdle for SMILES\n",
    "\n",
    "Standard SMILES strings do not denote molecular chirality. This is a major limitation, since it would prevent a 1-1 correspondence between SMILES and molecules for all chiral molecules AND it would prevent SMILES strings from uniquely identifying particular isomers or enantiomers of chiral compounds. Fortunately, there is a solution -- *isomeric* SMILES strings, which clearly indicate the chirality/isomeric state of the specified molecule.\n",
    "\n",
    "Here is an example of ofloxacin, an antibacterial drug with one particular isomer which is more active than the other. Specifically, levofloxacin is more active/effective than ofloxacin (which is a racemic mixture of the two isomers). Let's generate both from their names and compare SMILES strings.\n",
    "\n",
    "Note that chirality around tetrahedral centers is shown with the `@` symbol once or twice. "
   ]
  },
  {
   "cell_type": "code",
   "execution_count": 9,
   "metadata": {},
   "outputs": [
    {
     "name": "stdout",
     "output_type": "stream",
     "text": [
      "CC1COc2c3n1cc(c(=O)c3cc(c2N4CCN(CC4)C)F)C(=O)O\n",
      "CC1COc2c3n1cc(c(=O)c3cc(c2N4CCN(CC4)C)F)C(=O)O\n",
      "C[C@H]1COc2c3n1cc(c(=O)c3cc(c2N4CCN(CC4)C)F)C(=O)O\n"
     ]
    },
    {
     "data": {
      "image/png": "[encoded data removed]",
      "text/plain": [
       "<IPython.core.display.Image object>"
      ]
     },
     "execution_count": 9,
     "metadata": {},
     "output_type": "execute_result"
    }
   ],
   "source": [
    "#Create a new molecule for ofloxacin\n",
    "mol = OEMol()\n",
    "#Generate ofloxacin\n",
    "OEParseIUPACName( mol, 'ofloxacin')\n",
    "#Print canonical and isomeric smiles - which are the same in this case since no isomer is specified.\n",
    "print(OECreateCanSmiString(mol))\n",
    "print(OECreateIsoSmiString(mol))\n",
    "\n",
    "#Create a new molecule for levofloxacin\n",
    "mol2 = OEMol()\n",
    "#Generate levofloxacin\n",
    "OEParseIUPACName(mol2,'levofloxacin')\n",
    "#Print isomeric SMILES string which should now be different\n",
    "print(OECreateIsoSmiString(mol2))\n",
    "\n",
    "oenb.draw_mol(mol2)"
   ]
  },
  {
   "cell_type": "markdown",
   "metadata": {},
   "source": [
    "\n",
    "### We should also address orientation at double bonds\n",
    "It's also important to note that orientation at double bonds is handled with /, as in the following example"
   ]
  },
  {
   "cell_type": "code",
   "execution_count": 4,
   "metadata": {},
   "outputs": [
    {
     "name": "stdout",
     "output_type": "stream",
     "text": [
      "Mol3: C(=CF)F C(=C/F)\\F\n",
      "Mol4: C(=CF)F C(=C\\F)\\F\n"
     ]
    },
    {
     "data": {
      "text/plain": [
       "True"
      ]
     },
     "execution_count": 4,
     "metadata": {},
     "output_type": "execute_result"
    }
   ],
   "source": [
    "#Here, we look at cis- vs trans-difluoroethene\n",
    "mol3 = OEMol()\n",
    "OEParseSmiles( mol3, 'F/C=C/F')\n",
    "mol4 = OEMol()\n",
    "OEParseSmiles( mol4, 'F/C=C\\F')\n",
    "print(\"Mol3:\", OECreateCanSmiString(mol3), OECreateIsoSmiString(mol3))\n",
    "print(\"Mol4:\", OECreateCanSmiString(mol4), OECreateIsoSmiString(mol4))\n",
    "OEPrepareDepiction(mol3)\n",
    "OERenderMolecule('test3.png', mol3)\n",
    "OEPrepareDepiction(mol4)\n",
    "OERenderMolecule('test4.png', mol4)"
   ]
  },
  {
   "cell_type": "markdown",
   "metadata": {},
   "source": [
    "<img src=\"test3.png\">\n",
    "<img src=\"test4.png\">"
   ]
  },
  {
   "cell_type": "markdown",
   "metadata": {
    "collapsed": true
   },
   "source": [
    "# Lingo comparisons are a great tool for searching databases quickly\n",
    "Here let's look at a very simple/quick Lingo comparison:"
   ]
  },
  {
   "cell_type": "code",
   "execution_count": 13,
   "metadata": {},
   "outputs": [
    {
     "name": "stdout",
     "output_type": "stream",
     "text": [
      "0.0\n"
     ]
    }
   ],
   "source": [
    "#Initialize two OE molecules\n",
    "mol1 = OEMol()\n",
    "mol2 = OEMol()\n",
    "\n",
    "#Load compounds by their names\n",
    "OEParseIUPACName(mol1, '')\n",
    "OEParseIUPACName(mol2, 'caffeine')\n",
    "\n",
    "#Initialize a lingo search object with molecule 1 as the query\n",
    "lingo = OELingoSim(mol1)\n",
    "\n",
    "#Apply lingo to calculat the similarity (0 to 1 range) of molecule 2\n",
    "sim = lingo.Similarity(mol2)\n",
    "#Print result\n",
    "print(sim)"
   ]
  },
  {
   "cell_type": "markdown",
   "metadata": {},
   "source": [
    "## Next, let's see use this to search a \"mini-database\" of compounds.\n",
    "Here we'll just make up a query molecule and a list of molecules we want to compare it to, and find the most similar compounds (those meeting some similarity threshold)."
   ]
  },
  {
   "cell_type": "code",
   "execution_count": 6,
   "metadata": {},
   "outputs": [
    {
     "name": "stdout",
     "output_type": "stream",
     "text": [
      "Similarity of benzoic acid to tylenol is 0.47\n",
      "Similarity of benzoic acid to phenol is 0.50\n",
      "Similarity of benzoic acid to ibuprofen is 0.57\n",
      "Similarity of benzoic acid to biphenyl is 0.33\n"
     ]
    }
   ],
   "source": [
    "#Initialize our query molecule\n",
    "mol1 = OEMol()\n",
    "queryname = 'benzoic acid'\n",
    "#queryname = 'dopamine'\n",
    "OEParseIUPACName(mol1, queryname)\n",
    "\n",
    "#Set up our lingo search based on the query\n",
    "lingo = OELingoSim(mol1)\n",
    "\n",
    "#Specify a cutoff we'll use for filtering\n",
    "cutoff = 0.3\n",
    "\n",
    "#Specify our database - what compounds do we want to look at?\n",
    "names = ['tylenol', 'phenol', 'toluene', 'benzene', 'naphthalene', 'ibuprofen', 'naproxen', 'acetic acid', 'ammonia', 'biphenyl']\n",
    "\n",
    "# Optionally add some from SMILES\n",
    "#smiles = ['c1ccccc1OCCNO']\n",
    "#addlnames = []\n",
    "#mol = OEMol()\n",
    "#for smi in smiles:\n",
    "#    OEParseSmiles(mol, smi)\n",
    "#    addlnames.append( OECreateIUPACName(mol))\n",
    "#names += addlnames\n",
    "\n",
    "#Loop over our \"database\" and do our lingo comparison/search\n",
    "for name in names:\n",
    "    #Initialize this molecule\n",
    "    mol2 = OEMol()\n",
    "    OEParseIUPACName(mol2, name)\n",
    "    #Do our lingo comparison\n",
    "    sim = lingo.Similarity(mol2)\n",
    "    \n",
    "    #Check and see if it is a match; if so, do something\n",
    "    if sim > cutoff:\n",
    "        print(\"Similarity of %s to %s is %.2f\" % (queryname, name, sim))\n",
    "        #More generally, you could dump image files of all molecules matching, or write them out to a file, or..."
   ]
  },
  {
   "cell_type": "code",
   "execution_count": null,
   "metadata": {
    "collapsed": true
   },
   "outputs": [],
   "source": []
  }
 ],
 "metadata": {
  "anaconda-cloud": {},
  "kernelspec": {
   "display_name": "Python [conda root]",
   "language": "python",
   "name": "conda-root-py"
  },
  "language_info": {
   "codemirror_mode": {
    "name": "ipython",
    "version": 3
   },
   "file_extension": ".py",
   "mimetype": "text/x-python",
   "name": "python",
   "nbconvert_exporter": "python",
   "pygments_lexer": "ipython3",
   "version": "3.6.2"
  },
  "toc": {
   "nav_menu": {},
   "number_sections": true,
   "sideBar": true,
   "skip_h1_title": false,
   "toc_cell": false,
   "toc_position": {},
   "toc_section_display": "block",
   "toc_window_display": false
  }
 },
 "nbformat": 4,
 "nbformat_minor": 1
}
