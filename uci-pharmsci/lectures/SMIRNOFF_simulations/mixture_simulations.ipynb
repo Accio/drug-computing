{
 "cells": [
  {
   "cell_type": "markdown",
   "metadata": {},
   "source": [
    "# Automated setup of mixtures\n",
    "\n",
    "We've been working on streamlining setup of simulations of arbitrary mixtures in AMBER/GROMACS/OpenMM and others for some of our own research. I thought I'd demo this really quick so you can get a feel for it and see if you're interested in contributing. It also allows quick setup and analysis of nontrivial liquid simulations, which can be a good opportunity to try out MDTraj and other analysis tools.\n",
    "\n",
    "*Before running the below*, you will need to have followed the [getting started instructions](https://github.com/MobleyLab/drug-computing/blob/master/uci-pharmsci/getting-started.md) for this course."
   ]
  },
  {
   "cell_type": "code",
   "execution_count": 1,
   "metadata": {},
   "outputs": [
    {
     "name": "stderr",
     "output_type": "stream",
     "text": [
      "/Users/dmobley/anaconda3/lib/python3.6/site-packages/pandas/io/parsers.py:2138: FutureWarning: split() requires a non-empty pattern match.\n",
      "  yield pat.split(line.strip())\n",
      "/Users/dmobley/anaconda3/lib/python3.6/site-packages/pandas/io/parsers.py:2140: FutureWarning: split() requires a non-empty pattern match.\n",
      "  yield pat.split(line.strip())\n"
     ]
    },
    {
     "name": "stdout",
     "output_type": "stream",
     "text": [
      "\n",
      "# Mixture \n",
      "\n",
      "tolerance 2.000000\n",
      "filetype pdb\n",
      "output /var/folders/41/7d3rylg503n8nt_tn0hz6v8c0000gn/T/tmp96976uj5/tmpadluzp7y.pdb\n",
      "add_amber_ter\n",
      "\n",
      "\n",
      "structure /var/folders/41/7d3rylg503n8nt_tn0hz6v8c0000gn/T/tmp96976uj5/tmpudq4_lns.pdb\n",
      "  number 3 \n",
      "  inside box 0. 0. 0. 24.788816 24.788816 24.788816\n",
      "end structure\n",
      "\n",
      "structure /var/folders/41/7d3rylg503n8nt_tn0hz6v8c0000gn/T/tmp96976uj5/tmpyviduiq4.pdb\n",
      "  number 100 \n",
      "  inside box 0. 0. 0. 24.788816 24.788816 24.788816\n",
      "end structure\n",
      "\n",
      "\n",
      "source leaprc.gaff\n",
      "source oldff/leaprc.ff99SB\n",
      "ZNO = loadmol2 in0.mol2\n",
      "ZTR = loadmol2 in1.mol2\n",
      "box = loadPdb tbox.pdb\n",
      "loadamberparams in0.frcmod\n",
      "loadamberparams in1.frcmod\n",
      "setbox box centers\n",
      "saveAmberParm box out.prmtop out.inpcrd\n",
      "quit\n",
      "\n",
      "\n",
      "# Mixture \n",
      "\n",
      "tolerance 2.000000\n",
      "filetype pdb\n",
      "output /var/folders/41/7d3rylg503n8nt_tn0hz6v8c0000gn/T/tmp2go9jqe2/tmpwtv20xns.pdb\n",
      "add_amber_ter\n",
      "\n",
      "\n",
      "structure /var/folders/41/7d3rylg503n8nt_tn0hz6v8c0000gn/T/tmp2go9jqe2/tmp63lh9mqy.pdb\n",
      "  number 3 \n",
      "  inside box 0. 0. 0. 24.782739 24.782739 24.782739\n",
      "end structure\n",
      "\n",
      "structure /var/folders/41/7d3rylg503n8nt_tn0hz6v8c0000gn/T/tmp2go9jqe2/tmp_8hi6fm0.pdb\n",
      "  number 100 \n",
      "  inside box 0. 0. 0. 24.782739 24.782739 24.782739\n",
      "end structure\n",
      "\n",
      "\n",
      "source leaprc.gaff\n",
      "source oldff/leaprc.ff99SB\n",
      "ZUE = loadmol2 in0.mol2\n",
      "ZUO = loadmol2 in1.mol2\n",
      "box = loadPdb tbox.pdb\n",
      "loadamberparams in0.frcmod\n",
      "loadamberparams in1.frcmod\n",
      "setbox box centers\n",
      "saveAmberParm box out.prmtop out.inpcrd\n",
      "quit\n",
      "\n",
      "\n",
      "# Mixture \n",
      "\n",
      "tolerance 2.000000\n",
      "filetype pdb\n",
      "output /var/folders/41/7d3rylg503n8nt_tn0hz6v8c0000gn/T/tmpj9plisa9/tmpiabxu51n.pdb\n",
      "add_amber_ter\n",
      "\n",
      "\n",
      "structure /var/folders/41/7d3rylg503n8nt_tn0hz6v8c0000gn/T/tmpj9plisa9/tmpulfffome.pdb\n",
      "  number 3 \n",
      "  inside box 0. 0. 0. 24.739450 24.739450 24.739450\n",
      "end structure\n",
      "\n",
      "structure /var/folders/41/7d3rylg503n8nt_tn0hz6v8c0000gn/T/tmpj9plisa9/tmpes__jgxm.pdb\n",
      "  number 100 \n",
      "  inside box 0. 0. 0. 24.739450 24.739450 24.739450\n",
      "end structure\n",
      "\n",
      "\n",
      "source leaprc.gaff\n",
      "source oldff/leaprc.ff99SB\n",
      "ZOS = loadmol2 in0.mol2\n",
      "ZNS = loadmol2 in1.mol2\n",
      "box = loadPdb tbox.pdb\n",
      "loadamberparams in0.frcmod\n",
      "loadamberparams in1.frcmod\n",
      "setbox box centers\n",
      "saveAmberParm box out.prmtop out.inpcrd\n",
      "quit\n",
      "\n",
      "\n",
      "# Mixture \n",
      "\n",
      "tolerance 2.000000\n",
      "filetype pdb\n",
      "output /var/folders/41/7d3rylg503n8nt_tn0hz6v8c0000gn/T/tmpw3ug7ssh/tmpz1_vryp1.pdb\n",
      "add_amber_ter\n",
      "\n",
      "\n",
      "structure /var/folders/41/7d3rylg503n8nt_tn0hz6v8c0000gn/T/tmpw3ug7ssh/tmpbd70g60w.pdb\n",
      "  number 3 \n",
      "  inside box 0. 0. 0. 28.683936 28.683936 28.683936\n",
      "end structure\n",
      "\n",
      "structure /var/folders/41/7d3rylg503n8nt_tn0hz6v8c0000gn/T/tmpw3ug7ssh/tmp0z9u43pk.pdb\n",
      "  number 100 \n",
      "  inside box 0. 0. 0. 28.683936 28.683936 28.683936\n",
      "end structure\n",
      "\n",
      "\n",
      "source leaprc.gaff\n",
      "source oldff/leaprc.ff99SB\n",
      "ZQY = loadmol2 in0.mol2\n",
      "ZFE = loadmol2 in1.mol2\n",
      "box = loadPdb tbox.pdb\n",
      "loadamberparams in0.frcmod\n",
      "loadamberparams in1.frcmod\n",
      "setbox box centers\n",
      "saveAmberParm box out.prmtop out.inpcrd\n",
      "quit\n",
      "\n",
      "\n",
      "# Mixture \n",
      "\n",
      "tolerance 2.000000\n",
      "filetype pdb\n",
      "output /var/folders/41/7d3rylg503n8nt_tn0hz6v8c0000gn/T/tmpcomny2c5/tmpl6ji5gp1.pdb\n",
      "add_amber_ter\n",
      "\n",
      "\n",
      "structure /var/folders/41/7d3rylg503n8nt_tn0hz6v8c0000gn/T/tmpcomny2c5/tmpv8bl63vd.pdb\n",
      "  number 3 \n",
      "  inside box 0. 0. 0. 28.754261 28.754261 28.754261\n",
      "end structure\n",
      "\n",
      "structure /var/folders/41/7d3rylg503n8nt_tn0hz6v8c0000gn/T/tmpcomny2c5/tmporpu6nz0.pdb\n",
      "  number 100 \n",
      "  inside box 0. 0. 0. 28.754261 28.754261 28.754261\n",
      "end structure\n",
      "\n",
      "\n",
      "source leaprc.gaff\n",
      "source oldff/leaprc.ff99SB\n",
      "ZUL = loadmol2 in0.mol2\n",
      "ZBG = loadmol2 in1.mol2\n",
      "box = loadPdb tbox.pdb\n",
      "loadamberparams in0.frcmod\n",
      "loadamberparams in1.frcmod\n",
      "setbox box centers\n",
      "saveAmberParm box out.prmtop out.inpcrd\n",
      "quit\n",
      "\n",
      "\n",
      "# Mixture \n",
      "\n",
      "tolerance 2.000000\n",
      "filetype pdb\n",
      "output /var/folders/41/7d3rylg503n8nt_tn0hz6v8c0000gn/T/tmpwc41epgw/tmpsz9suj8k.pdb\n",
      "add_amber_ter\n",
      "\n",
      "\n",
      "structure /var/folders/41/7d3rylg503n8nt_tn0hz6v8c0000gn/T/tmpwc41epgw/tmp8rqebgfh.pdb\n",
      "  number 3 \n",
      "  inside box 0. 0. 0. 28.944930 28.944930 28.944930\n",
      "end structure\n",
      "\n",
      "structure /var/folders/41/7d3rylg503n8nt_tn0hz6v8c0000gn/T/tmpwc41epgw/tmpdpvwjm55.pdb\n",
      "  number 100 \n",
      "  inside box 0. 0. 0. 28.944930 28.944930 28.944930\n",
      "end structure\n",
      "\n",
      "\n",
      "source leaprc.gaff\n",
      "source oldff/leaprc.ff99SB\n",
      "ZAE = loadmol2 in0.mol2\n",
      "ZLV = loadmol2 in1.mol2\n",
      "box = loadPdb tbox.pdb\n",
      "loadamberparams in0.frcmod\n",
      "loadamberparams in1.frcmod\n",
      "setbox box centers\n",
      "saveAmberParm box out.prmtop out.inpcrd\n",
      "quit\n",
      "\n"
     ]
    }
   ],
   "source": [
    "from solvationtoolkit.solvated_mixtures import *\n",
    "\n",
    "#In this particular instance I'll just look at six solutes/solvent mixtures (not an all-by-all combination) which are pre-specified\n",
    "#solute names\n",
    "solutes = ['phenol', 'toluene', 'benzene', 'methane', 'ethanol', 'naphthalene']\n",
    "#Solvent names\n",
    "solvents = ['cyclohexane', 'cyclohexane', 'cyclohexane', 'octanol', 'octanol', 'octanol']\n",
    "\n",
    "#Number of solute/solvent molecules\n",
    "Nsolu = 3\n",
    "Nsolv = 100\n",
    "\n",
    "#Construct systems\n",
    "for idx in range( len( solutes) ):\n",
    "    # Define new mixture\n",
    "    mixture = MixtureSystem()\n",
    "    # Add solute and solvent\n",
    "    mixture.addComponent(name=solutes[idx], number=Nsolu)\n",
    "    mixture.addComponent(name=solvents[idx], number=Nsolv)\n",
    "    # Note you can optionally specify mole fraction instead, or a mix of numbers/mole fractions, etc.\n",
    "    \n",
    "    # Build system, including AMBER input files (but not GROMACS)\n",
    "    mixture.build(amber=True, gromacs=True)"
   ]
  },
  {
   "cell_type": "markdown",
   "metadata": {},
   "source": [
    "## Let's try and see if we can do a quick visualization of one of the systems via mdtraj just to make sure it looks right"
   ]
  },
  {
   "cell_type": "code",
   "execution_count": 2,
   "metadata": {},
   "outputs": [
    {
     "data": {
      "application/vnd.jupyter.widget-view+json": {
       "model_id": "ddd772d546174edeb19a7a71acfba677",
       "version_major": 2,
       "version_minor": 0
      },
      "text/html": [
       "<p>Failed to display Jupyter Widget of type <code>NGLWidget</code>.</p>\n",
       "<p>\n",
       "  If you're reading this message in the Jupyter Notebook or JupyterLab Notebook, it may mean\n",
       "  that the widgets JavaScript is still loading. If this message persists, it\n",
       "  likely means that the widgets JavaScript library is either not installed or\n",
       "  not enabled. See the <a href=\"https://ipywidgets.readthedocs.io/en/stable/user_install.html\">Jupyter\n",
       "  Widgets Documentation</a> for setup instructions.\n",
       "</p>\n",
       "<p>\n",
       "  If you're reading this message in another frontend (for example, a static\n",
       "  rendering on GitHub or <a href=\"https://nbviewer.jupyter.org/\">NBViewer</a>),\n",
       "  it may mean that your frontend doesn't currently support widgets.\n",
       "</p>\n"
      ],
      "text/plain": [
       "NGLWidget()"
      ]
     },
     "metadata": {},
     "output_type": "display_data"
    }
   ],
   "source": [
    "#Import MDTraj\n",
    "import mdtraj as md\n",
    "#Load \"trajectory\" (structures)\n",
    "#You can load from either format (SolvationToolkit generates both)\n",
    "#traj = md.load( 'data/amber/phenol_cyclohexane_3_100.inpcrd', top = 'data/amber/phenol_cyclohexane_3_100.prmtop' )\n",
    "traj = md.load( 'data/gromacs/phenol_cyclohexane_3_100.gro')\n",
    "\n",
    "#Input viewer\n",
    "import nglview\n",
    "\n",
    "#Set up view of structure\n",
    "view = nglview.show_mdtraj(traj)\n",
    "\n",
    "#Try some of the following to modify representations\n",
    "view.clear_representations()\n",
    "view.add_licorice('all')\n",
    "view.add_licorice('1-3', color = \"blue\") #For selection info, see http://arose.github.io/ngl/doc/#User_manual/Usage/Selection_language\n",
    "view.add_surface('1', opacity=0.3)\n",
    "view.add_surface('2, 3', color = 'red', opacity=0.3)\n",
    "\n",
    "#Show the view. Note that this needs to be the last command used to manipulate the view, i.e. if you modify the\n",
    "#representation after this, your view will be empty.\n",
    "view\n",
    "\n",
    "#VIEWER USAGE:\n",
    "# - Use your typical zoom command/gesture (i.e. pinch) to zoom in and out \n",
    "# - Click and drag to reorient\n",
    "# - Click on specific atoms/residues to find out details of what they are (and how they could be selected)"
   ]
  },
  {
   "cell_type": "markdown",
   "metadata": {},
   "source": [
    "## Other possibly interesting things to try:\n",
    "* Find the average distance from phenol to phenol\n",
    "* Calculate the density or volume of the system\n",
    "* etc.\n",
    "\n",
    "(Drawing on MDTraj - see docs online)"
   ]
  },
  {
   "cell_type": "code",
   "execution_count": 3,
   "metadata": {},
   "outputs": [],
   "source": [
    "# Use this box to try additional things"
   ]
  },
  {
   "cell_type": "markdown",
   "metadata": {},
   "source": [
    "# Let's use a SMIRNOFF forcefield to parameterize the system, minimize, and run dynamics\n",
    "\n",
    "(This requires `openforcefield`, which you will have conda-installed if you've followed the getting started info.)\n",
    "\n",
    "First we handle imports"
   ]
  },
  {
   "cell_type": "code",
   "execution_count": 4,
   "metadata": {},
   "outputs": [],
   "source": [
    "# Import the SMIRNOFF forcefield engine and some useful tools\n",
    "from openforcefield.typing.engines import smirnoff\n",
    "from openforcefield.typing.engines.smirnoff import ForceField\n",
    "from openforcefield.utils import get_data_filename, extractPositionsFromOEMol, generateTopologyFromOEMol\n",
    "\n",
    "# At this point SMIRNOFF requires oechem, though an RDKit version is in the works\n",
    "from openeye import oechem\n",
    "\n",
    "# We use PDBFile to get OpenMM topologies from PDB files\n",
    "from simtk.openmm.app import PDBFile\n",
    "\n",
    "# We'll use OpenMM for simulations/minimization\n",
    "from simtk import openmm, unit\n",
    "from simtk.openmm import app\n",
    "# MDTraj for working with trajectories; time for timing\n",
    "import time\n",
    "import mdtraj"
   ]
  },
  {
   "cell_type": "markdown",
   "metadata": {},
   "source": [
    "## Now we handle assignment of force field parameters and generation of an OpenMM System"
   ]
  },
  {
   "cell_type": "code",
   "execution_count": 4,
   "metadata": {},
   "outputs": [],
   "source": [
    "# Specify names of molecules that are components of the system\n",
    "mol_filenames = ['phenol', 'cyclohexane']\n",
    "\n",
    "# Load OEMols of components of system - SMIRNOFF requires OEMols of the components\n",
    "# and an OpenMM topology as input\n",
    "oemols = []\n",
    "flavor = oechem.OEIFlavor_Generic_Default | oechem.OEIFlavor_MOL2_Default | oechem.OEIFlavor_MOL2_Forcefield\n",
    " #input flavor to use for reading mol2 files (so that it can understand GAFF atom names)\n",
    "# Loop over molecule files and load oemols\n",
    "for name in mol_filenames:\n",
    "    mol = oechem.OEGraphMol()\n",
    "    filename = 'data/monomers/'+name+'.mol2'\n",
    "    ifs = oechem.oemolistream(filename)\n",
    "    ifs.SetFlavor( oechem.OEFormat_MOL2, flavor)\n",
    "    oechem.OEReadMolecule(ifs, mol )\n",
    "    oechem.OETriposAtomNames(mol) #Right now we have GAFF atom names, which OE doesn't like; reassign\n",
    "    oemols.append(mol)\n",
    "    ifs.close()\n",
    "    \n",
    "# Load SMIRNOFF99Frosst force field (AMBER-family force field created by Christopher Bayly)\n",
    "forcefield = ForceField(get_data_filename('forcefield/smirnoff99Frosst.ffxml'))\n",
    "\n",
    "# Get OpenMM topology for mixture of phenol and cyclohexane from where SolvationToolkit created\n",
    "# it on disk\n",
    "pdbfile = PDBFile('data/packmol_boxes/phenol_cyclohexane_3_100.pdb')\n",
    "\n",
    "# Assign SMIRNOFF parameters and create system; here we'll use PME with a 1.1 nm LJ cutoff.\n",
    "system = forcefield.createSystem( pdbfile.topology, oemols, nonbondedMethod = smirnoff.PME, nonbondedCutoff=1.1*unit.nanometer )\n"
   ]
  },
  {
   "cell_type": "markdown",
   "metadata": {},
   "source": [
    "## Finally we energy minimize and run dynamics"
   ]
  },
  {
   "cell_type": "code",
   "execution_count": 5,
   "metadata": {},
   "outputs": [
    {
     "name": "stdout",
     "output_type": "stream",
     "text": [
      "Starting simulation\n",
      "Elapsed time 15.69 seconds\n",
      "Done!\n"
     ]
    }
   ],
   "source": [
    "# Set how many steps we'll run and other run parameters\n",
    "num_steps=10000\n",
    "trj_freq = 100 #Trajectory output frequency\n",
    "data_freq = 100 #Energy/data output frequency\n",
    "temperature = 300*unit.kelvin #Temperature\n",
    "time_step = 2.*unit.femtoseconds\n",
    "friction = 1./unit.picosecond #Langevin friction constant\n",
    "\n",
    "# Bookkeeping -- if you run this more than once and perhaps encountered an exception, we need to make sure the reporter is closed\n",
    "try: \n",
    "    reporter.close()\n",
    "except: pass\n",
    "    \n",
    "# Set up integrator, platform for running simulation    \n",
    "integrator = openmm.LangevinIntegrator(temperature, friction, time_step)\n",
    "platform = openmm.Platform.getPlatformByName('Reference')\n",
    "simulation = app.Simulation(pdbfile.topology, system, integrator)\n",
    "# Set positions, velocities\n",
    "simulation.context.setPositions(pdbfile.positions)\n",
    "simulation.context.setVelocitiesToTemperature(temperature)\n",
    "\n",
    "# Before doing dynamics, energy minimize (initial geometry will be strained)\n",
    "simulation.minimizeEnergy()\n",
    "\n",
    "# Set up reporter for output\n",
    "reporter = mdtraj.reporters.HDF5Reporter('mixture.h5', trj_freq)\n",
    "simulation.reporters=[]\n",
    "simulation.reporters.append(reporter)\n",
    "simulation.reporters.append(app.StateDataReporter('data.csv', data_freq, step=True, potentialEnergy=True, temperature=True, density=True))\n",
    "\n",
    "# Run the dynamics\n",
    "print(\"Starting simulation\")\n",
    "start = time.clock()\n",
    "simulation.step(num_steps)\n",
    "end = time.clock()\n",
    "print(\"Elapsed time %.2f seconds\" % (end-start))\n",
    "#netcdf_reporter.close()\n",
    "reporter.close()\n",
    "print(\"Done!\")\n"
   ]
  },
  {
   "cell_type": "markdown",
   "metadata": {},
   "source": [
    "## Let's make a movie of our simulation"
   ]
  },
  {
   "cell_type": "code",
   "execution_count": 6,
   "metadata": {},
   "outputs": [],
   "source": [
    "import nglview\n",
    "traj=mdtraj.load('mixture.h5')\n",
    "view = nglview.show_mdtraj(traj)\n",
    "\n",
    "#Try some of the following to modify representations\n",
    "view.clear_representations()\n",
    "view.add_licorice('all')\n",
    "view.add_licorice('1-3', color = \"blue\") #For selection info, see http://arose.github.io/ngl/doc/#User_manual/Usage/Selection_language\n",
    "view.add_surface('1', opacity=0.3)\n",
    "view.add_surface('2, 3', color = 'red', opacity=0.3)\n",
    "\n",
    "view #Note that if you view a movie and keep it playing, your notebook will run a hair slow..."
   ]
  },
  {
   "cell_type": "code",
   "execution_count": null,
   "metadata": {
    "collapsed": true
   },
   "outputs": [],
   "source": []
  }
 ],
 "metadata": {
  "anaconda-cloud": {},
  "kernelspec": {
   "display_name": "Python [conda root]",
   "language": "python",
   "name": "conda-root-py"
  },
  "language_info": {
   "codemirror_mode": {
    "name": "ipython",
    "version": 3
   },
   "file_extension": ".py",
   "mimetype": "text/x-python",
   "name": "python",
   "nbconvert_exporter": "python",
   "pygments_lexer": "ipython3",
   "version": "3.6.2"
  },
  "toc": {
   "nav_menu": {},
   "number_sections": true,
   "sideBar": true,
   "skip_h1_title": false,
   "toc_cell": false,
   "toc_position": {},
   "toc_section_display": "block",
   "toc_window_display": false
  },
  "widgets": {
   "state": {
    "b486def970134f80a2bd2b8fa0f0b158": {
     "views": [
      {
       "cell_index": 3
      }
     ]
    },
    "fccd5a48296e490c88d379241a9e3309": {
     "views": [
      {
       "cell_index": 13
      }
     ]
    }
   },
   "version": "1.2.0"
  }
 },
 "nbformat": 4,
 "nbformat_minor": 1
}
