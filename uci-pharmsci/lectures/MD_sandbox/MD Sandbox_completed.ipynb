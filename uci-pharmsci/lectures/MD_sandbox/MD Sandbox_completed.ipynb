{
 "cells": [
  {
   "cell_type": "markdown",
   "metadata": {},
   "source": [
    "# Sandbox/demo to go along with the MD assignment and lectures\n",
    "## PharmSci 275\n",
    "\n",
    "### Here, let's play with a very simple model system\n",
    "In the MD assignment, we will be looking at a very simple polymer model. But here, let's backtrack to simple Lennard-Jones spheres and look at what happens if we run a simple dynamics calculation on a couple of particles subject to this potential, which will allow us to get a feel for how the integrator works.\n",
    "\n",
    "Remember, for a Lennard-Jones system, the dimensionless form of our potential is \n",
    "\\begin{equation}\n",
    "U^* = \\sum \\limits_{i} 4\\left( r_{ij}^{-12} - r_{ij}^{-6}\\right) \n",
    "\\end{equation}\n",
    "\n",
    "which we can easily graph to get a sense of what will happen.\n",
    "\n",
    "### We graph the potential for a pair of particles:"
   ]
  },
  {
   "cell_type": "code",
   "execution_count": 3,
   "metadata": {
    "collapsed": false
   },
   "outputs": [
    {
     "name": "stdout",
     "output_type": "stream",
     "text": [
      "Populating the interactive namespace from numpy and matplotlib\n"
     ]
    },
    {
     "name": "stderr",
     "output_type": "stream",
     "text": [
      "//anaconda/lib/python3.5/site-packages/ipykernel/__main__.py:10: RuntimeWarning: divide by zero encountered in power\n",
      "//anaconda/lib/python3.5/site-packages/ipykernel/__main__.py:10: RuntimeWarning: invalid value encountered in subtract\n"
     ]
    },
    {
     "data": {
      "text/plain": [
       "(-2, 2)"
      ]
     },
     "execution_count": 3,
     "metadata": {},
     "output_type": "execute_result"
    },
    {
     "data": {
      "image/png": "[encoded data removed]",
      "text/plain": [
       "<matplotlib.figure.Figure at 0x10c225b00>"
      ]
     },
     "metadata": {},
     "output_type": "display_data"
    }
   ],
   "source": [
    "#Get pylab ready for plotting in this notebook - \"magic\" command specific for iPython notebooks\n",
    "%pylab inline\n",
    "#Import numpy\n",
    "import numpy as np\n",
    "\n",
    "#Generate array of distances to graph at\n",
    "r = np.arange( 0,3, 0.01)\n",
    "\n",
    "#Calculate U\n",
    "U = 4.*(r**(-12.) - r**(-6.))\n",
    "\n",
    "#Graph\n",
    "plot( r, U, 'b-')\n",
    "#Label x and y axes\n",
    "xlabel('r')\n",
    "ylabel('U')\n",
    "#Adjust y limits not to be auto-scaled; since this goes to infinity at zero, the graph will not be useful unless we truncate\n",
    "ylim(-2,2)\n"
   ]
  },
  {
   "cell_type": "markdown",
   "metadata": {},
   "source": [
    "## Now, let's run some dynamics on a pair of particles subject to this potential\n",
    "\n",
    "\n",
    "Here I've written a modified mdlib.f90 called md_sandbox.f90. Compile it as usual (with f2py) into md_sandbox (e.g. `f2py -c -m md_sandbox md_sandbox.f90` or similar) so that you can import it below. The difference between this and mdlib is that I've removed the bonds between atoms, so that we have simple Lennard-Jones particles rather than LJ polymers.\n",
    "\n",
    "### First, we set up our system:"
   ]
  },
  {
   "cell_type": "code",
   "execution_count": 63,
   "metadata": {
    "collapsed": false
   },
   "outputs": [],
   "source": [
    "#Let's define the variables we'll need\n",
    "dt = 0.001\n",
    "Cut = 2.5\n",
    "L = 10 #Let's just put these in a fairly big box so we have room\n",
    "M = 1 #Here this doesn't actually do anything, but I didn't remove it from the functions\n",
    "\n",
    "#Import our library\n",
    "from md_sandbox import *\n",
    "\n",
    "#Choose N for number of particles\n",
    "N = 2\n",
    "\n",
    "#Allocate position array - initially just zeros\n",
    "Pos = np.zeros((N,3), float)\n",
    "\n",
    "#In this case, place two LJ particles at specified initial positions - chosen so they are relatively near each other\n",
    "#If you had more than two particles you'd need to adjust this\n",
    "Pos[0,:] = np.array([0,0,0])\n",
    "Pos[1,:] = np.array([1.1,0,0]) # Try comparing a starting distance of 1.1 with 1.5. Which looks more harmonic? Why?\n",
    "#Might be worth experimenting to see what happens if we randomly place the particles instead\n",
    "\n",
    "\n",
    "#Assign initial velocities - in this case I'll start off with them stationary and see what happens\n",
    "Vel = np.array([[0,0,0],[0,0,0]], float)\n",
    "#You could tweak the initial velocities to see what happens under different conditions"
   ]
  },
  {
   "cell_type": "markdown",
   "metadata": {},
   "source": [
    "## Before we do any dynamics, notice that this is really a 1D system, so let's write a function to compute r, which we will store later"
   ]
  },
  {
   "cell_type": "code",
   "execution_count": 64,
   "metadata": {
    "collapsed": true
   },
   "outputs": [],
   "source": [
    "def get_r(Pos):\n",
    "    \"\"\"Calculate r, the distance between particles, for a position array containing just two particles. Return it.\"\"\"\n",
    "    \n",
    "    #Get displacement\n",
    "    dist = Pos[1,:] - Pos[0,:]\n",
    "    #Calculate distance and return\n",
    "    return np.sqrt( np.dot( dist, dist))"
   ]
  },
  {
   "cell_type": "markdown",
   "metadata": {},
   "source": [
    "## OK, now let's start doing some dynamics\n",
    "\n",
    "We're going to want to store the distance between the two particles as a function of time, so we can graph it. We also might want to look at the population of each distance as a function of time and see how that compares with the energy landscape. Though, right now that's a little premature. Let's just start off by taking a few timesteps and see how the distance changes. "
   ]
  },
  {
   "cell_type": "code",
   "execution_count": 68,
   "metadata": {
    "collapsed": false
   },
   "outputs": [
    {
     "name": "stdout",
     "output_type": "stream",
     "text": [
      "1.1130338943\n",
      "1.11279841411\n"
     ]
    }
   ],
   "source": [
    "#Define storage for positions at each time so we can track them\n",
    "max_steps = 1000 #Maximum number of steps we will take - so we know how many positions we might store\n",
    "Pos_t = np.zeros(( N,3,max_steps), float)\n",
    "\n",
    "#Store initial positions\n",
    "Pos_t[:,:,0] = Pos\n",
    "\n",
    "#Make up initial forces\n",
    "Forces = np.zeros((N,3), float)\n",
    "\n",
    "#Kick things off by calculating energy and forces\n",
    "energy, Forces = calcenergyforces( Pos, M, L, Cut, Forces )\n",
    "\n",
    "#Take a timestep\n",
    "Pos, Vel, Accel, KEnergy, PEnergy = vvintegrate( Pos, Vel, Forces, M, L, Cut, dt )\n",
    "\n",
    "#Store new positions\n",
    "Pos_t[:,:,1] = Pos\n",
    "\n",
    "#Print original and current distance\n",
    "for i in range(0,2):\n",
    "    print(get_r(Pos_t[:,:,i]))"
   ]
  },
  {
   "cell_type": "markdown",
   "metadata": {},
   "source": [
    "## What should the long-time behavior of this system be?\n",
    "\n",
    "Before going on to the step below, think for a minute about what motion these particles should exhibit on long timescales and what it would look like if you've graphed it.\n",
    "\n",
    "Once you've done so, write a `for` loop to run over max_steps and at each step, update the energy and forces, take a timestep, and store the new positions."
   ]
  },
  {
   "cell_type": "code",
   "execution_count": 69,
   "metadata": {
    "collapsed": false
   },
   "outputs": [],
   "source": [
    "for i in range(max_steps):\n",
    "    energy, Forces = calcenergyforces( Pos, M, L, Cut, Forces )\n",
    "    Pos, Vel, Accel, KEnergy, PEnergy = vvintegrate( Pos, Vel, Forces, M, L, Cut, dt )\n",
    "    Pos_t[:,:,i] = Pos"
   ]
  },
  {
   "cell_type": "markdown",
   "metadata": {},
   "source": [
    "## Once you've done that, use this code to graph r versus time for your particles"
   ]
  },
  {
   "cell_type": "code",
   "execution_count": 70,
   "metadata": {
    "collapsed": false
   },
   "outputs": [
    {
     "data": {
      "text/plain": [
       "[<matplotlib.lines.Line2D at 0x110346fd0>]"
      ]
     },
     "execution_count": 70,
     "metadata": {},
     "output_type": "execute_result"
    },
    {
     "data": {
      "image/png": "[encoded data removed]",
      "text/plain": [
       "<matplotlib.figure.Figure at 0x10fe16b00>"
      ]
     },
     "metadata": {},
     "output_type": "display_data"
    }
   ],
   "source": [
    "#Find x axis (time values)\n",
    "t = dt*np.arange(0,max_steps)\n",
    "#Find y axis (r values)\n",
    "r_vs_t = []\n",
    "for i in range(max_steps):\n",
    "    r=get_r(Pos_t[:,:,i])\n",
    "    r_vs_t.append(r)\n",
    "\n",
    "r_vs_t = np.array(r_vs_t)\n",
    "\n",
    "    \n",
    "#Plot\n",
    "figure()\n",
    "plot(t, r_vs_t)\n",
    "    "
   ]
  },
  {
   "cell_type": "code",
   "execution_count": null,
   "metadata": {
    "collapsed": true
   },
   "outputs": [],
   "source": []
  }
 ],
 "metadata": {
  "anaconda-cloud": {},
  "kernelspec": {
   "display_name": "Python [default]",
   "language": "python",
   "name": "python3"
  },
  "language_info": {
   "codemirror_mode": {
    "name": "ipython",
    "version": 3
   },
   "file_extension": ".py",
   "mimetype": "text/x-python",
   "name": "python",
   "nbconvert_exporter": "python",
   "pygments_lexer": "ipython3",
   "version": "3.5.2"
  }
 },
 "nbformat": 4,
 "nbformat_minor": 0
}
