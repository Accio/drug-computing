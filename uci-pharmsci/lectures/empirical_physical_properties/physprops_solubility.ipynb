{
 "cells": [
  {
   "cell_type": "markdown",
   "metadata": {},
   "source": [
    "# This is a sandbox/preface for the solubility calculation assignment\n",
    "\n",
    "The solubility calculation assignment focuses on building a simple linear solubility model which attempts to predict solubilities for a series of new compounds based on a model trained on a set of compounds with known solubilities. To put it another way, we have a test set and a training set, and want to use the known solubilities from the training set to predict solubilities for the test set. \n",
    "\n",
    "## For solubility prediction, we'll use a series of *descriptors*\n",
    "\n",
    "Descriptors are properties of our molecule which might (or might not) be related to the solubility. For example, we might think that solubility will in general tend to go down as molecular weight goes up, and go up as polarity increases (or go down as polarity decreases) and so on. \n",
    "\n",
    "Here, let's take a sample molecule and calculate a series of descriptors which we might want to use in constructing a simple solubility model. "
   ]
  },
  {
   "cell_type": "code",
   "execution_count": 4,
   "metadata": {
    "collapsed": false
   },
   "outputs": [
    {
     "name": "stdout",
     "output_type": "stream",
     "text": [
      "Molecular weight: 128.17\n",
      "Number of atoms: 18\n",
      "Number of heavy atoms: 10\n",
      "Number of ring atoms: 10\n",
      "Number of halogens: 0\n",
      "Number of nitrogens: 0\n",
      "Number of oxygens: 0\n",
      "Number of rotatable bonds: 0\n",
      "Calculated logP: 3.57\n",
      "Number of aromatic rings: 2\n",
      "Polar surface area: 0.00\n",
      "Number of hbond donors: 0\n",
      "Number of hbond acceptors: 0\n",
      "Number of rings: 1\n",
      "Calculated solvation free energy: -4.13\n"
     ]
    }
   ],
   "source": [
    "from openeye.oechem import *\n",
    "from openeye.oemolprop import *\n",
    "from openeye.oeiupac import *\n",
    "from openeye.oezap import *\n",
    "from openeye.oeomega import *\n",
    "import numpy as np\n",
    "import scipy.stats\n",
    "\n",
    "#Initialize an OpenEye molecule\n",
    "mol = OEMol()\n",
    "\n",
    "#let's look at phenol\n",
    "OEParseIUPACName( mol, 'naphthalene' )\n",
    "\n",
    "#Generate conformation\n",
    "omega = OEOmega()\n",
    "omega(mol)\n",
    "\n",
    "#Here one of the descriptors we'll use is the calculated solvation free energy, from OpenEye's ZAP electrostatics solver\n",
    "#Get zap ready for electrostatics calculations\n",
    "zap = OEZap()\n",
    "zap.SetInnerDielectric( 1.0 )\n",
    "zap.SetGridSpacing(0.5)\n",
    "area = OEArea()\n",
    "\n",
    "#Reduce verbosity\n",
    "OEThrow.SetLevel(OEErrorLevel_Warning)\n",
    "\n",
    "\n",
    "#Let's print a bunch of properties\n",
    "#Molecular weight\n",
    "print( \"Molecular weight: %.2f\" % OECalculateMolecularWeight(mol) )\n",
    "#Number of atoms\n",
    "print( \"Number of atoms: %s\" % mol.NumAtoms() ) \n",
    "#Number of heavy atoms\n",
    "print( \"Number of heavy atoms: %s\" % OECount(mol, OEIsHeavy() ) )\n",
    "#Number of ring atoms\n",
    "print( \"Number of ring atoms: %s\" % OECount(mol, OEAtomIsInRing() ) )\n",
    "#Number of halogens\n",
    "print( \"Number of halogens: %s\" % OECount( mol, OEIsHalogen() ))\n",
    "print (\"Number of nitrogens: %s\" % OECount( mol, OEIsNitrogen() ) )\n",
    "print( \"Number of oxygens: %s\" % OECount( mol, OEIsOxygen() ) )\n",
    "print( \"Number of rotatable bonds: %s\" % OECount( mol, OEIsRotor() ) )\n",
    "\n",
    "#Calculated logP - water to octanol partitioning coefficient (which is often something which may correlate somewhat with solubility)\n",
    "print( \"Calculated logP: %.2f\" %  OEGetXLogP( mol ) )\n",
    "\n",
    "print( \"Number of aromatic rings: %s\" % OEGetAromaticRingCount( mol ) )\n",
    "\n",
    "    \n",
    "    \n",
    "#Calculate lots of other properties using molprop toolkit as per example in OE MolProp manual\n",
    "#Handle the setup of 'filter', which computes lots of properties with the goal of filtering compounds. Here we'll not do any filtering\n",
    "#and will use it solely for property calculation\n",
    "filt = OEFilter()\n",
    "ostr = oeosstream()\n",
    "pwnd = False\n",
    "filt.SetTable( ostr, pwnd)\n",
    "#headers = ostr.str().split('\\t') #Python 2.x would want something like this; Python 3 version follows\n",
    "headers = ostr.str().decode().split('\\t')\n",
    "ostr.clear()\n",
    "filt(mol)\n",
    "#fields = ostr.str().split('\\t') #Python 2.x would want something like this; Python 3 version follows\n",
    "fields = ostr.str().decode().split('\\t')\n",
    "tmpdct = dict( zip(headers, fields) ) #Format the data we need into a dictionary for easy extraction\n",
    "\n",
    "print(\"Polar surface area: %s\" % tmpdct[ '2d PSA' ] )\n",
    "print(\"Number of hbond donors: %s\" % int(tmpdct['hydrogen-bond donors']) )\n",
    "print(\"Number of hbond acceptors: %s\" % int(tmpdct['hydrogen-bond acceptors']) )\n",
    "print (\"Number of rings: %s\" % int(tmpdct['number of ring systems']) )\n",
    "#print(tmpdct.keys())\n",
    "\n",
    "#Quickly estimate hydration free energy, or a value correlated with that -- from ZAP manual\n",
    "#Do ZAP setup for molecule\n",
    "OEAssignBondiVdWRadii(mol)\n",
    "OEMMFFAtomTypes(mol)\n",
    "OEMMFF94PartialCharges(mol)\n",
    "zap.SetMolecule( mol )\n",
    "solv = zap.CalcSolvationEnergy()\n",
    "aval = area.GetArea( mol )\n",
    "#Empirically estimate solvation free energy (hydration)\n",
    "solvation = 0.59*solv + 0.01*aval #Convert electrostatic part to kcal/mol; use empirically determined kcal/sq angstrom value times surface area term\n",
    "print (\"Calculated solvation free energy: %.2f\" % solvation)"
   ]
  },
  {
   "cell_type": "markdown",
   "metadata": {},
   "source": [
    "## In the assignment, these get stored in a dictionary. Let's see how that works."
   ]
  },
  {
   "cell_type": "code",
   "execution_count": 6,
   "metadata": {
    "collapsed": false
   },
   "outputs": [
    {
     "name": "stdout",
     "output_type": "stream",
     "text": [
      "{'phenol': {'mw': 94.11124000000002, 'rotatable bonds': 0}}\n"
     ]
    }
   ],
   "source": [
    "#Initialize an empty dictionary\n",
    "compounds = {}\n",
    "#Name we're working with\n",
    "molname = 'phenol'\n",
    "#Create a new OEMol to store this into\n",
    "mol = OEMol()\n",
    "\n",
    "#let's look at phenol\n",
    "OEParseIUPACName( mol, molname )\n",
    "\n",
    "#Generate conformation\n",
    "omega = OEOmega()\n",
    "omega(mol)\n",
    "\n",
    "#Create a slot in our dictionary for phenol\n",
    "compounds[molname] = {} #Make it another empty dictionary\n",
    "\n",
    "#Now let's store some stuff in there\n",
    "compounds[molname]['mw'] = OECalculateMolecularWeight(mol)\n",
    "compounds[molname]['rotatable bonds'] = OECount( mol, OEIsRotor() )\n",
    "\n",
    "\n",
    "\n",
    "#TO DO: Try making an update here to add properties for another compound of your choice to the dictionary\n",
    "\n",
    "\n",
    "\n",
    "#Let's print it out\n",
    "print(compounds)"
   ]
  },
  {
   "cell_type": "markdown",
   "metadata": {},
   "source": [
    "The point here is just that a dictionary is a flexible data structure which allows us to easily store away information we might want later in an organized manner. For example, if I want to see everything I have for phenol, I simply use:"
   ]
  },
  {
   "cell_type": "code",
   "execution_count": 7,
   "metadata": {
    "collapsed": false
   },
   "outputs": [
    {
     "name": "stdout",
     "output_type": "stream",
     "text": [
      "{'mw': 94.11124000000002, 'rotatable bonds': 0}\n"
     ]
    }
   ],
   "source": [
    "print( compounds['phenol'])"
   ]
  },
  {
   "cell_type": "code",
   "execution_count": null,
   "metadata": {
    "collapsed": true
   },
   "outputs": [],
   "source": []
  }
 ],
 "metadata": {
  "kernelspec": {
   "display_name": "Python [conda root]",
   "language": "python",
   "name": "conda-root-py"
  },
  "language_info": {
   "codemirror_mode": {
    "name": "ipython",
    "version": 3
   },
   "file_extension": ".py",
   "mimetype": "text/x-python",
   "name": "python",
   "nbconvert_exporter": "python",
   "pygments_lexer": "ipython3",
   "version": "3.5.2"
  }
 },
 "nbformat": 4,
 "nbformat_minor": 0
}
